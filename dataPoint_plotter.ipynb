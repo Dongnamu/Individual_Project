{
 "cells": [
  {
   "cell_type": "code",
   "execution_count": 1,
   "metadata": {},
   "outputs": [],
   "source": [
    "import cv2 \n",
    "import numpy as np\n",
    "from skimage import data, io, color, transform, exposure\n",
    "import os\n",
    "from matplotlib import pyplot as plt\n",
    "from threading import Thread\n",
    "from queue import Queue\n",
    "import json\n",
    "from pprint import pprint\n",
    "\n",
    "class FileVideoStream:\n",
    "    def __init__(self, path, queueSize = 512):\n",
    "        self.stream = cv2.VideoCapture(path)\n",
    "        self.stopped = False\n",
    "        self.Q = Queue(maxsize = queueSize)\n",
    "        \n",
    "    def start(self):\n",
    "        t = Thread(target = self.update, args = ())\n",
    "        t.daemon = True\n",
    "        t.start()\n",
    "        return self\n",
    "    \n",
    "    def update(self):\n",
    "        while True:\n",
    "            if self.stopped:\n",
    "                return\n",
    "            \n",
    "            if not self.Q.full():\n",
    "                (grabbed, frame) = self.stream.read()\n",
    "                if not grabbed:\n",
    "                    self.stop()\n",
    "                    return\n",
    "                \n",
    "                self.Q.put(frame)\n",
    "    def read(self):\n",
    "        return self.Q.get()\n",
    "    \n",
    "    def more(self):\n",
    "        return self.Q.qsize() > 0\n",
    "    \n",
    "    def stop(self):\n",
    "        self.stopped = True\n"
   ]
  },
  {
   "cell_type": "code",
   "execution_count": 2,
   "metadata": {},
   "outputs": [],
   "source": [
    "def findmaximumpeople(json_folder_dir, jsons, id0, idn):\n",
    "    \n",
    "    if not id0 == idn:\n",
    "        midval = (id0 + idn)//2\n",
    "        leftval = findmaximumpeople(json_folder_dir, jsons, id0, midval)\n",
    "        rightval = findmaximumpeople(json_folder_dir, jsons, midval + 1, idn)\n",
    "        \n",
    "        if leftval >= rightval:\n",
    "            return leftval\n",
    "        else:\n",
    "            return rightval\n",
    "    else:\n",
    "        with open((json_folder_dir + jsons[id0])) as f:\n",
    "            data = json.load(f)\n",
    "        \n",
    "        total_number_of_people = len(data['people'])\n",
    "        \n",
    "#         for i in range(0, total_number_of_people - 1):\n",
    "#             total_points = len(data['people'][i]['pose_keypoints_2d'])\n",
    "#             division = total_points // 3\n",
    "#             summed_certainty = 0\n",
    "#             for j in range(0, total_points + 1, 3):\n",
    "# #                 print(data['people'][i]['pose_keypoints_2d'][j - 1])\n",
    "#                 if j != 0:\n",
    "#                     summed_certainty += data['people'][i]['pose_keypoints_2d'][j - 1]\n",
    "\n",
    "            \n",
    "#             average_certainty = summed_certainty / division\n",
    "            \n",
    "#             if average_certainty < 0.70:\n",
    "#                 total_number_of_people -= 1\n",
    "                \n",
    "        return(total_number_of_people)\n",
    "    "
   ]
  },
  {
   "cell_type": "code",
   "execution_count": 3,
   "metadata": {},
   "outputs": [],
   "source": [
    "def data_points(jsons, json_folder_dir):\n",
    "    data_points = []\n",
    "    \n",
    "    for i in range(0, len(jsons)):\n",
    "        data_points.append([])\n",
    "        with open((json_folder_dir + jsons[i])) as f:\n",
    "            data = json.load(f)\n",
    "        \n",
    "        n_people = len(data['people'])\n",
    "    \n",
    "        for j in range(0, n_people):\n",
    "            data_points[i].append([])\n",
    "            datas = data['people'][j]['pose_keypoints_2d']\n",
    "        \n",
    "            for k in range(0, len(datas)):\n",
    "                data_points[i][j].append(datas[k])\n",
    "                \n",
    "    return data_points"
   ]
  },
  {
   "cell_type": "code",
   "execution_count": 4,
   "metadata": {},
   "outputs": [],
   "source": [
    "json_folder = 'DS3'\n",
    "json_folder_slash = 'DS3/'\n",
    "\n",
    "jsons = [json for json in os.listdir(json_folder) if json.endswith(\".json\")]\n",
    "\n",
    "# with open((json_folder_slash + jsons[60])) as f:\n",
    "#     data = json.load(f)\n",
    "\n",
    "number_of_people = findmaximumpeople(json_folder_slash, jsons, 0, (len(jsons) - 1))\n",
    "\n",
    "data_points1 = data_points(jsons, json_folder_slash)\n",
    "\n"
   ]
  },
  {
   "cell_type": "code",
   "execution_count": 5,
   "metadata": {},
   "outputs": [
    {
     "name": "stdout",
     "output_type": "stream",
     "text": [
      "[]\n",
      "2\n"
     ]
    }
   ],
   "source": [
    "print(data_points1[0])\n",
    "print(len(data_points1[300]))"
   ]
  },
  {
   "cell_type": "code",
   "execution_count": 6,
   "metadata": {},
   "outputs": [
    {
     "name": "stdout",
     "output_type": "stream",
     "text": [
      "Loading\n"
     ]
    }
   ],
   "source": [
    "i = 0\n",
    "\n",
    "loading = False\n",
    "\n",
    "# video = cv2.VideoWriter('data points 2.avi',cv2.VideoWriter_fourcc(*\"MJPG\"), 30, (1920,1080),True)\n",
    "\n",
    "fvs = FileVideoStream(\"result2.mp4\").start()\n",
    "\n",
    "while not fvs.more():\n",
    "    if not loading:\n",
    "        print(\"Loading\")\n",
    "        loading = True\n",
    "\n",
    "while fvs.more():\n",
    "    frame = fvs.read()\n",
    "    people = len(data_points1[i])\n",
    "    if people != 0:\n",
    "        for j in range(0, people):\n",
    "            points = data_points1[i][j]\n",
    "            n_points = len(points)\n",
    "            div = n_points // 3\n",
    "            for k in range(0, div):\n",
    "                cv2.putText(frame, str([points[0 + 3 * k], points[1 + 3 * k]]),(int(points[0 + 3 * k]) - 10,int(points[1 + 3 * k])), cv2.FONT_HERSHEY_SIMPLEX, 0.3,(255,255,255),1,cv2.LINE_AA)\n",
    "                \n",
    "#     video.write(frame)\n",
    "    cv2.imshow(\"Video\", frame)\n",
    "    i += 1\n",
    "    if cv2.waitKey(20) & 0xFF == ord('q'):\n",
    "        break\n",
    "        \n",
    "fvs.stop()\n",
    "cv2.destroyAllWindows()\n",
    "# video.release()"
   ]
  },
  {
   "cell_type": "code",
   "execution_count": null,
   "metadata": {},
   "outputs": [],
   "source": []
  }
 ],
 "metadata": {
  "kernelspec": {
   "display_name": "Python 3",
   "language": "python",
   "name": "python3"
  },
  "language_info": {
   "codemirror_mode": {
    "name": "ipython",
    "version": 3
   },
   "file_extension": ".py",
   "mimetype": "text/x-python",
   "name": "python",
   "nbconvert_exporter": "python",
   "pygments_lexer": "ipython3",
   "version": "3.6.5"
  }
 },
 "nbformat": 4,
 "nbformat_minor": 2
}
