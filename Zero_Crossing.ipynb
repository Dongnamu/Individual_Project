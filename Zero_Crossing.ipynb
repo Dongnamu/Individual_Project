{
 "cells": [
  {
   "cell_type": "code",
   "execution_count": 2,
   "metadata": {},
   "outputs": [],
   "source": [
    "from pprint import pprint\n",
    "from matplotlib import pyplot as plt\n",
    "import cv2\n",
    "import copy\n",
    "import operator\n",
    "import numpy as np\n",
    "from sklearn.preprocessing import MinMaxScaler, StandardScaler, PolynomialFeatures\n",
    "from sklearn.model_selection import train_test_split\n",
    "from sklearn.linear_model import Ridge\n",
    "from sklearn.pipeline import make_pipeline\n",
    "from scipy.signal import find_peaks\n",
    "import json\n",
    "import os\n",
    "import warnings\n",
    "import math\n",
    "import pandas as pd\n",
    "from sklearn.decomposition import PCA\n",
    "\n",
    "warnings.filterwarnings(action='ignore')\n",
    "%matplotlib inline"
   ]
  },
  {
   "cell_type": "code",
   "execution_count": 3,
   "metadata": {},
   "outputs": [],
   "source": [
    "def read_jsons(folder):\n",
    "    jsons = [json for json in os.listdir(folder) if json.endswith(\".json\")]\n",
    "    \n",
    "    return jsons"
   ]
  },
  {
   "cell_type": "code",
   "execution_count": 4,
   "metadata": {},
   "outputs": [],
   "source": [
    "def data_points(jsons, json_folder_dir):\n",
    "    data_points = []\n",
    "    \n",
    "    for i in range(0, len(jsons)):\n",
    "        data_points.append([])\n",
    "        with open((json_folder_dir + jsons[i])) as f:\n",
    "            data = json.load(f)\n",
    "        \n",
    "        n_people = len(data['people'])\n",
    "    \n",
    "        for j in range(0, n_people):\n",
    "            data_points[i].append([])\n",
    "            datas = data['people'][j]['pose_keypoints_2d']\n",
    "        \n",
    "            for k in range(0, len(datas)):\n",
    "                data_points[i][j].append(datas[k])\n",
    "                \n",
    "    return data_points "
   ]
  },
  {
   "cell_type": "code",
   "execution_count": 5,
   "metadata": {},
   "outputs": [],
   "source": [
    "def data_classification(data):\n",
    "    body_label = {0:\"Nose\", 1:\"Neck\", 2:\"RShoulder\", 3:\"RElbow\", 4:\"RWrist\", 5:\"LShoulder\", 6:\"LElbow\", 7:\"LWrist\", 8:\"MidHip\", 9:\"RHip\", 10:\"RKnee\", 11:\"RAnkle\", 12:\"LHip\", 13:\"LKnee\",14:\"LAnkle\", 15:\"REye\", 16:\"LEye\", 17:\"REar\", 18:\"LEar\", 19:\"LBigToe\", 20:\"LSmallToe\", 21:\"LHeel\", 22:\"RBigToe\", 23:\"RSmallToe\", 24:\"RHeel\"}\n",
    "    parts = {}\n",
    "    people = {}\n",
    "    \n",
    "    for person in range(0, len(data)):\n",
    "        points = data[person]\n",
    "        for i in range(0, len(points)):\n",
    "            parts[body_label[i]] = points[i]\n",
    "        \n",
    "        people[person] = parts\n",
    "        parts = {}\n",
    "        \n",
    "    return people"
   ]
  },
  {
   "cell_type": "code",
   "execution_count": 6,
   "metadata": {},
   "outputs": [],
   "source": [
    "def organise_data(data, number):\n",
    "    total = len(data)\n",
    "    people_body_point = {}\n",
    "    \n",
    "    for i in range(0, total):\n",
    "        people = len(data[i])\n",
    "        frame_points = {}\n",
    "        id_number = 0\n",
    "        if people != 0:\n",
    "            for j in range(0, people):\n",
    "                points = data[i][j]\n",
    "                n_points = len(points)\n",
    "                body_points = []\n",
    "                data_certainty = 0\n",
    "                for k in range(0, n_points - 1, 3):\n",
    "                    body_points.append((points[0 + k], points[1 + k]))\n",
    "                    data_certainty += points[2 + k]\n",
    "                    \n",
    "                \n",
    "                data_certainty = data_certainty / number\n",
    "                \n",
    "                if data_certainty >= 0.5:\n",
    "                    frame_points[id_number] = body_points\n",
    "                    id_number += 1\n",
    "                \n",
    "            organised = data_classification(frame_points)\n",
    "            people_body_point[i] = organised\n",
    "                \n",
    "    return people_body_point"
   ]
  },
  {
   "cell_type": "code",
   "execution_count": 7,
   "metadata": {},
   "outputs": [],
   "source": [
    "def organiseAllPoints(data):\n",
    "    new_data = {}\n",
    "    \n",
    "    keys = ['Nose', 'Neck', 'RShoulder', 'RElbow', 'RWrist', 'LShoulder', 'LElbow', 'LWrist', 'MidHip', 'RHip', 'RKnee', 'RAnkle', 'LHip', 'LKnee', 'LAnkle', 'REye', 'LEye', 'REar', 'LEar', 'LBigToe', 'LSmallToe', 'LHeel', 'RBigToe', 'RSmallToe', 'RHeel']\n",
    "    \n",
    "    # Initialisation\n",
    "    for i in range(len(keys)):\n",
    "        \n",
    "        new_data[keys[i]] = []\n",
    "       \n",
    "    for keys in data:\n",
    "        for Lkeys in data[keys]:\n",
    "            coordinate = new_data[Lkeys]\n",
    "            \n",
    "            points = data[keys][Lkeys]\n",
    "            \n",
    "            coordinate.append(points)\n",
    "                        \n",
    "            new_data[Lkeys] = coordinate            \n",
    "    \n",
    "    return new_data"
   ]
  },
  {
   "cell_type": "code",
   "execution_count": 8,
   "metadata": {},
   "outputs": [],
   "source": [
    "def data_pca(data):\n",
    "    \n",
    "    exercise = {}\n",
    "    \n",
    "    for frame in data:\n",
    "        body_point = []\n",
    "\n",
    "        for part in data[frame]:\n",
    "            body_point += data[frame][part]\n",
    "\n",
    "        exercise[frame] = body_point\n",
    "        \n",
    "    return exercise"
   ]
  },
  {
   "cell_type": "code",
   "execution_count": 9,
   "metadata": {},
   "outputs": [],
   "source": [
    "def returnNumber(superFolder, subFolder):\n",
    "    number = 25\n",
    "    \n",
    "    if superFolder == 'Star_Jumps':\n",
    "        if subFolder == 'Starjump10':\n",
    "            number = 26\n",
    "        if subFolder == 'Starjump7' or 'Starjump8' or 'Starjump9':\n",
    "            number = 20\n",
    "        \n",
    "    if superFolder == 'Squats':\n",
    "        if subFolder == 'Squats_21' or subFolder == 'Squats_22':\n",
    "            number = 13\n",
    "            \n",
    "        if subFolder == 'Squats_23':\n",
    "            number = 10\n",
    "            \n",
    "    if superFolder == 'Biceps':\n",
    "        if subFolder == 'Bicep8' or subFolder == 'Bicep9' or subFolder == 'Bicep10':\n",
    "            number = 20\n",
    "            \n",
    "        if subFolder == 'Bicep12':\n",
    "            number = 13\n",
    "\n",
    "        if subFolder == 'Bicep13' or subFolder == 'Bicep15':\n",
    "            number = 16\n",
    "        \n",
    "        if subFolder == 'Bicep14':\n",
    "             number = 18\n",
    "            \n",
    "        \n",
    "    if superFolder == 'Chests':\n",
    "        if subFolder == 'Chest6' or subFolder == 'Chest7' or subFolder == 'Chest8':\n",
    "            number = 20\n",
    "            \n",
    "        if subFolder == 'Chest11' or subFolder == 'Chest12':\n",
    "            number = 15\n",
    "\n",
    "        if subFolder == 'Chest13':\n",
    "            number = 14\n",
    "            \n",
    "    if superFolder == 'Punches':\n",
    "        number = 20\n",
    "        \n",
    "        if subFolder == 'Punches12':\n",
    "            number = 14\n",
    "            \n",
    "        if subFolder == 'Punches7' or subFolder == 'Punches8' or subFolder == 'Punches9':\n",
    "            number = 11\n",
    "        \n",
    "    return number"
   ]
  },
  {
   "cell_type": "code",
   "execution_count": 10,
   "metadata": {},
   "outputs": [],
   "source": [
    "def reformat(data):\n",
    "    \n",
    "    exercise = {}\n",
    "    \n",
    "    for i in data:\n",
    "        for j in data[i]:\n",
    "            exercise[i] = data[i][j]\n",
    "            \n",
    "    return exercise"
   ]
  },
  {
   "cell_type": "code",
   "execution_count": 11,
   "metadata": {},
   "outputs": [],
   "source": [
    "def rescale(data):\n",
    "    \n",
    "    allPoints = organiseAllPoints(data)\n",
    "        \n",
    "    new_data = {}\n",
    "    \n",
    "    for keys in allPoints:\n",
    "#         ini = {}\n",
    "#         ini['x'] = []\n",
    "#         ini['y'] = []\n",
    "        \n",
    "        new_data[keys] = []\n",
    "        \n",
    "    fit_points = []\n",
    "    first = True\n",
    "    \n",
    "    for keys in allPoints:\n",
    "        if first:\n",
    "            fit_points = allPoints[keys]\n",
    "            first = False\n",
    "        else:\n",
    "            fit_points + allPoints[keys]\n",
    "                \n",
    "    for keys in allPoints:\n",
    "        points = scaler.transform(allPoints[keys])\n",
    "        \n",
    "#         x = points[:, 0]\n",
    "#         y = points[:, 1]\n",
    "#         x_mean = np.mean(x)\n",
    "#         x_std = np.std(x)\n",
    "#         y_mean = np.mean(y)\n",
    "#         y_std = np.std(y)\n",
    "        \n",
    "#         X = [x_mean, x_std]\n",
    "#         Y = [y_mean, y_std]\n",
    "        \n",
    "#         new_data[keys]['x'] = X\n",
    "#         new_data[keys]['y'] = Y\n",
    "\n",
    "        new_data[keys] = points\n",
    "        \n",
    "    return new_data"
   ]
  },
  {
   "cell_type": "code",
   "execution_count": 12,
   "metadata": {},
   "outputs": [],
   "source": [
    "def neededParts(Sports, parts):\n",
    "    \n",
    "    parts_needed = []\n",
    "    \n",
    "    if Sports is 'Squats':\n",
    "        parts_needed = ['RShoulder', 'LShoulder', 'LHip', 'MidHip', 'RHip']\n",
    "    \n",
    "    if Sports is 'Biceps':\n",
    "        parts_needed = ['LWrist', 'RWrist']\n",
    "        \n",
    "    if Sports is 'Chests':\n",
    "        parts_needed = ['LWrist', 'RWrist', 'LElbow', 'RElbow']\n",
    "        \n",
    "    if Sports is 'Punches':\n",
    "        parts_needed = ['LWrist', 'RWrist', 'LElbow', 'RElbow']\n",
    "         \n",
    "    if Sports is 'Star_Jumps':\n",
    "        parts_needed = ['Nose', 'Neck', 'RShoulder', 'RElbow', 'RWrist', 'LShoulder', 'LElbow', 'LWrist', 'MidHip', 'RHip', 'RKnee', 'RAnkle', 'LHip', 'LKnee', 'LAnkle', 'REye', 'LEye', 'REar', 'LEar', 'LBigToe', 'LSmallToe', 'LHeel', 'RBigToe', 'RSmallToe', 'RHeel']\n",
    "        \n",
    "        \n",
    "    needed = {}\n",
    "    \n",
    "    for frame in parts:\n",
    "        point = {}\n",
    "        for part in parts[frame]:\n",
    "            if part in parts_needed:\n",
    "                point[part] = parts[frame][part]\n",
    "                needed[frame]= point\n",
    "\n",
    "    return needed, len(parts_needed)"
   ]
  },
  {
   "cell_type": "code",
   "execution_count": 13,
   "metadata": {},
   "outputs": [],
   "source": [
    "def read_folders(superFolder):\n",
    "    subFolders = next(os.walk('Sports_Skeleton/' + superFolder + '/.'))[1]\n",
    "    print(subFolders)\n",
    "    \n",
    "    keyStart = 0\n",
    "    \n",
    "    total = {}\n",
    "    \n",
    "    first = True\n",
    "    \n",
    "    for i in range(len(subFolders)):\n",
    "        json_folder = 'Sports_Skeleton/' + superFolder + '/' + subFolders[i]\n",
    "        \n",
    "        number = returnNumber(superFolder, subFolders[i]) \n",
    "            \n",
    "        json_folder_slash = json_folder + '/'\n",
    "        \n",
    "        jsons = read_jsons(json_folder)\n",
    "        \n",
    "        data_points1 = data_points(jsons, json_folder_slash)\n",
    "        \n",
    "        part_points = organise_data(data_points1, number)\n",
    "                \n",
    "        reformat_points = reformat(part_points)\n",
    "        \n",
    "        parts, length = neededParts(superFolder, reformat_points)\n",
    "        \n",
    "        rescale_points = data_pca(parts)\n",
    "        \n",
    "        total[subFolders[i]] = rescale_points\n",
    "                                \n",
    "    return total, length"
   ]
  },
  {
   "cell_type": "code",
   "execution_count": 14,
   "metadata": {},
   "outputs": [],
   "source": [
    "def rescaleIndividually(data):\n",
    "    \n",
    "    modified = copy.deepcopy(data)\n",
    "    \n",
    "    for keys in data:\n",
    "        for parts in data[keys]:\n",
    "            x = []\n",
    "            y = []\n",
    "            \n",
    "            X = []\n",
    "            Y = []\n",
    "            \n",
    "            for i in range(len(data[keys][parts])):\n",
    "                \n",
    "                X.append(data[keys][parts][i][0])\n",
    "                Y.append(data[keys][parts][i][1])\n",
    "                \n",
    "                if data[keys][parts][i][0] != 0:\n",
    "                    x.append(data[keys][parts][i][0])\n",
    "                    \n",
    "                if data[keys][parts][i][1] != 0:\n",
    "                    y.append(data[keys][parts][i][1])\n",
    "            \n",
    "            if len(x) != 0:\n",
    "            \n",
    "                x_np = np.array(x).reshape(-1, 1)\n",
    "                y_np = np.array(y).reshape(-1, 1)\n",
    "\n",
    "                X_np = np.array(X).reshape(-1, 1)\n",
    "                Y_np = np.array(Y).reshape(-1, 1)\n",
    "\n",
    "\n",
    "                x_scaler = MinMaxScaler(feature_range=(-10, 10)).fit(x_np)\n",
    "                y_scaler = MinMaxScaler(feature_range=(-10, 10)).fit(y_np)\n",
    "\n",
    "                X_np = x_scaler.transform(X_np)\n",
    "                Y_np = y_scaler.transform(Y_np)\n",
    "\n",
    "                X_np = np.concatenate(X_np)\n",
    "                Y_np = np.concatenate(Y_np)\n",
    "\n",
    "                for i in range(len(data[keys][parts])):\n",
    "                    rescaled_point = [X_np[i], Y_np[i]]\n",
    "                    modified[keys][parts][i] = rescaled_point\n",
    "                \n",
    "    \n",
    "    return modified"
   ]
  },
  {
   "cell_type": "code",
   "execution_count": 15,
   "metadata": {},
   "outputs": [],
   "source": [
    "def checkXDirection(data):\n",
    "    \n",
    "    total = 0\n",
    "    division = 0\n",
    "\n",
    "    for part in data:\n",
    "        x = []\n",
    "        for i in range(len(data[part])):\n",
    "            x.append(data[part][i][0])\n",
    "        \n",
    "        total += len(np.where(np.diff(np.signbit(x)))[0])\n",
    "        division += 1\n",
    "    \n",
    "    return total / (division * 2)"
   ]
  },
  {
   "cell_type": "code",
   "execution_count": 16,
   "metadata": {},
   "outputs": [],
   "source": [
    "def reject_outliers(data, m= 2):\n",
    "    return data[abs(data - np.mean(data)) < m * np.std(data)]"
   ]
  },
  {
   "cell_type": "code",
   "execution_count": 17,
   "metadata": {},
   "outputs": [],
   "source": [
    "def pcaAnalysis(data, number):\n",
    "    \n",
    "    for file in data:\n",
    "        \n",
    "        df = pd.DataFrame(data = data[file]).transpose()\n",
    "        \n",
    "        features = []\n",
    "        \n",
    "        for i in range(number):\n",
    "            features.append(i)\n",
    "            \n",
    "        frame = []\n",
    "        \n",
    "        for i in range(len(data[file])):\n",
    "            frame.append(i)\n",
    "            \n",
    "        x = df.loc[:, features].values\n",
    "        x = StandardScaler().fit_transform(x)\n",
    "        \n",
    "        pca = PCA(n_components = 2)\n",
    "        \n",
    "        principalComponents = pca.fit_transform(x)\n",
    "        \n",
    "        principalDf = pd.DataFrame(data = principalComponents, columns = ['1', '2'])\n",
    "        \n",
    "        thresholded = []\n",
    "        thresholded2 = []\n",
    "        new_frame = []\n",
    "        new_frame2 = []\n",
    "        thresholded3 = []\n",
    "        new_frame3 = []\n",
    "        \n",
    "        for i in range(len(frame)):\n",
    "            if principalDf.loc[i, '1'] < 30:\n",
    "                thresholded.append(principalDf.loc[i, '1'])\n",
    "                \n",
    "            if principalDf.loc[i, '2'] < 30:\n",
    "                thresholded2.append(principalDf.loc[i, '2'])\n",
    "                \n",
    "                \n",
    "        thresholded_np = np.array(thresholded)\n",
    "        thresholded2_np = np.array(thresholded2)\n",
    "        thresholded3_np = np.array(thresholded3)\n",
    "        \n",
    "        thresholded_np = reject_outliers(thresholded_np)\n",
    "        \n",
    "        for i in range(len(thresholded_np)):\n",
    "            new_frame.append(i)\n",
    "        \n",
    "        correlation1 = thresholded_np.reshape(-1,1)\n",
    "        correlation1_org = np.concatenate(correlation1)\n",
    "        new_frame_shape = np.array(new_frame).reshape(-1, 1)\n",
    "\n",
    "        model = make_pipeline(PolynomialFeatures(10), Ridge())\n",
    "        model.fit(new_frame_shape, correlation1)\n",
    "        y_plot = model.predict(new_frame_shape)\n",
    "        \n",
    "        peaks, _ = find_peaks(correlation1_org, height = np.concatenate(y_plot), distance=30)\n",
    "        \n",
    "        return peaks"
   ]
  },
  {
   "cell_type": "code",
   "execution_count": 18,
   "metadata": {},
   "outputs": [
    {
     "name": "stdout",
     "output_type": "stream",
     "text": [
      "['Squats_12', 'Squats_13', 'Squats_14', 'Squats_15', 'Squats_16', 'Squats_17', 'Squats_18', 'Squats_19', 'Squats_21', 'Squats_22', 'Squats_23', 'Squats_4', 'Squats_5']\n",
      "['Bicep1', 'Bicep10', 'Bicep11', 'Bicep12', 'Bicep13', 'Bicep14', 'Bicep15', 'Bicep3', 'Bicep4', 'Bicep5', 'Bicep6', 'Bicep7', 'Bicep8', 'Bicep9']\n",
      "['Star_Jump1', 'Star_Jump10', 'Star_Jump11', 'Star_Jump12', 'Star_Jump13', 'Star_Jump14', 'Star_Jump2', 'Star_Jump3', 'Star_Jump4', 'Star_Jump5', 'Star_Jump6', 'Star_Jump7', 'Star_Jump8', 'Star_Jump9']\n",
      "['Chest1', 'Chest10', 'Chest11', 'Chest12', 'Chest13', 'Chest2', 'Chest3', 'Chest4', 'Chest5', 'Chest6', 'Chest7', 'Chest8', 'Chest9']\n",
      "['Punches1', 'Punches10', 'Punches11', 'Punches12', 'Punches13', 'Punches2', 'Punches3', 'Punches4', 'Punches5', 'Punches6', 'Punches7', 'Punches8', 'Punches9']\n"
     ]
    }
   ],
   "source": [
    "squats0, length0 = read_folders('Squats')\n",
    "arms0, length1 = read_folders('Biceps')\n",
    "starJump0, length2 = read_folders('Star_Jumps')\n",
    "chest0, length3 = read_folders('Chests')\n",
    "punch0, length4 = read_folders('Punches')"
   ]
  },
  {
   "cell_type": "code",
   "execution_count": 20,
   "metadata": {
    "scrolled": true
   },
   "outputs": [],
   "source": [
    "# pprint(chest0)"
   ]
  },
  {
   "cell_type": "code",
   "execution_count": 20,
   "metadata": {
    "scrolled": false
   },
   "outputs": [
    {
     "name": "stdout",
     "output_type": "stream",
     "text": [
      "Squats_12\n",
      "64\n",
      "Squats_13\n",
      "54\n",
      "Squats_14\n",
      "62\n",
      "Squats_15\n",
      "49\n",
      "Squats_16\n",
      "16\n",
      "Squats_17\n",
      "69\n",
      "Squats_18\n",
      "53\n",
      "Squats_19\n",
      "15\n",
      "Squats_21\n",
      "46\n",
      "Squats_22\n",
      "66\n",
      "Squats_23\n",
      "65\n",
      "Squats_4\n",
      "40\n",
      "Squats_5\n",
      "66\n"
     ]
    }
   ],
   "source": [
    "pcaAnalysis(squats0, length0)"
   ]
  },
  {
   "cell_type": "code",
   "execution_count": 21,
   "metadata": {
    "scrolled": false
   },
   "outputs": [
    {
     "name": "stdout",
     "output_type": "stream",
     "text": [
      "Chest1\n",
      "84\n",
      "Chest10\n",
      "4\n",
      "Chest11\n",
      "35\n",
      "Chest12\n",
      "66\n",
      "Chest13\n",
      "91\n",
      "Chest2\n",
      "81\n",
      "Chest3\n",
      "37\n",
      "Chest4\n",
      "66\n",
      "Chest5\n",
      "91\n",
      "Chest6\n",
      "91\n",
      "Chest7\n",
      "30\n",
      "Chest8\n",
      "37\n",
      "Chest9\n",
      "49\n"
     ]
    }
   ],
   "source": [
    "pcaAnalysis(chest0, length1)"
   ]
  },
  {
   "cell_type": "code",
   "execution_count": 22,
   "metadata": {
    "scrolled": false
   },
   "outputs": [
    {
     "name": "stdout",
     "output_type": "stream",
     "text": [
      "Star_Jump1\n",
      "224\n",
      "Star_Jump10\n",
      "78\n",
      "Star_Jump11\n",
      "46\n",
      "Star_Jump12\n",
      "76\n",
      "Star_Jump13\n",
      "54\n",
      "Star_Jump14\n",
      "57\n",
      "Star_Jump2\n",
      "65\n",
      "Star_Jump3\n",
      "69\n",
      "Star_Jump4\n",
      "78\n",
      "Star_Jump5\n",
      "74\n",
      "Star_Jump6\n",
      "65\n",
      "Star_Jump7\n",
      "75\n",
      "Star_Jump8\n",
      "58\n",
      "Star_Jump9\n",
      "79\n"
     ]
    }
   ],
   "source": [
    "pcaAnalysis(starJump0, length2)"
   ]
  },
  {
   "cell_type": "code",
   "execution_count": 23,
   "metadata": {
    "scrolled": false
   },
   "outputs": [
    {
     "name": "stdout",
     "output_type": "stream",
     "text": [
      "Punches1\n",
      "72\n",
      "Punches10\n",
      "63\n",
      "Punches11\n",
      "37\n",
      "Punches12\n",
      "86\n",
      "Punches13\n",
      "55\n",
      "Punches2\n",
      "94\n",
      "Punches3\n",
      "77\n",
      "Punches4\n",
      "89\n",
      "Punches5\n",
      "72\n",
      "Punches6\n",
      "67\n",
      "Punches7\n",
      "86\n",
      "Punches8\n",
      "77\n",
      "Punches9\n",
      "72\n"
     ]
    }
   ],
   "source": [
    "pcaAnalysis(punch0, length3)"
   ]
  },
  {
   "cell_type": "code",
   "execution_count": 24,
   "metadata": {
    "scrolled": false
   },
   "outputs": [
    {
     "name": "stdout",
     "output_type": "stream",
     "text": [
      "Bicep1\n",
      "151\n",
      "Bicep10\n",
      "31\n",
      "Bicep11\n",
      "77\n",
      "Bicep12\n",
      "36\n",
      "Bicep13\n",
      "78\n",
      "Bicep14\n",
      "57\n",
      "Bicep15\n",
      "82\n",
      "Bicep3\n",
      "77\n",
      "Bicep4\n",
      "38\n",
      "Bicep5\n",
      "61\n",
      "Bicep6\n",
      "85\n",
      "Bicep7\n",
      "87\n",
      "Bicep8\n",
      "78\n",
      "Bicep9\n",
      "33\n"
     ]
    }
   ],
   "source": [
    "pcaAnalysis(arms0, length4)"
   ]
  },
  {
   "cell_type": "markdown",
   "metadata": {},
   "source": [
    "squats_rescale = rescaleIndividually(squats0)\n",
    "arms_rescale = rescaleIndividually(arms0)\n",
    "starJump_rescale = rescaleIndividually(starJump0)\n",
    "chest_rescale = rescaleIndividually(chest0)\n",
    "punch_rescale = rescaleIndividually(punch0)"
   ]
  },
  {
   "cell_type": "code",
   "execution_count": 25,
   "metadata": {
    "scrolled": true
   },
   "outputs": [],
   "source": [
    "# pprint(chest_rescale[0]['LWrist'])"
   ]
  },
  {
   "cell_type": "markdown",
   "metadata": {
    "scrolled": false
   },
   "source": [
    "countRepetition('Squats', squats_rescale)"
   ]
  }
 ],
 "metadata": {
  "kernelspec": {
   "display_name": "Python 3",
   "language": "python",
   "name": "python3"
  },
  "language_info": {
   "codemirror_mode": {
    "name": "ipython",
    "version": 3
   },
   "file_extension": ".py",
   "mimetype": "text/x-python",
   "name": "python",
   "nbconvert_exporter": "python",
   "pygments_lexer": "ipython3",
   "version": "3.6.8"
  }
 },
 "nbformat": 4,
 "nbformat_minor": 2
}
