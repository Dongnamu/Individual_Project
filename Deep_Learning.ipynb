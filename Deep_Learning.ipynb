{
 "cells": [
  {
   "cell_type": "code",
   "execution_count": 21,
   "metadata": {},
   "outputs": [],
   "source": [
    "import json\n",
    "from pprint import pprint\n",
    "from matplotlib import pyplot as plt\n",
    "import cv2\n",
    "import copy\n",
    "import operator\n",
    "import numpy as np\n",
    "from sklearn.preprocessing import StandardScaler\n",
    "from sklearn.model_selection import train_test_split\n",
    "from sklearn.preprocessing import MinMaxScaler\n",
    "from keras.utils import to_categorical\n",
    "from keras.models import Sequential\n",
    "from keras.layers import Dense, Conv2D, Flatten, MaxPooling2D, ZeroPadding2D, Dropout\n",
    "from keras.callbacks import TensorBoard\n",
    "from keras.models import load_model\n",
    "from keras.optimizers import Adam\n",
    "from time import time\n",
    "import os\n",
    "%matplotlib qt"
   ]
  },
  {
   "cell_type": "code",
   "execution_count": 22,
   "metadata": {},
   "outputs": [],
   "source": [
    "def readJson(file):\n",
    "    with open(file, 'r') as fp:\n",
    "        data = json.load(fp)\n",
    "        \n",
    "    return data"
   ]
  },
  {
   "cell_type": "code",
   "execution_count": 23,
   "metadata": {},
   "outputs": [],
   "source": [
    "def read_jsons(folder):\n",
    "    jsons = [json for json in os.listdir(folder) if json.endswith(\".json\")]\n",
    "    \n",
    "    return jsons"
   ]
  },
  {
   "cell_type": "code",
   "execution_count": 24,
   "metadata": {},
   "outputs": [],
   "source": [
    "def data_points(jsons, json_folder_dir):\n",
    "    data_points = []\n",
    "    \n",
    "    for i in range(0, len(jsons)):\n",
    "        data_points.append([])\n",
    "        with open((json_folder_dir + jsons[i])) as f:\n",
    "            data = json.load(f)\n",
    "        \n",
    "        n_people = len(data['people'])\n",
    "    \n",
    "        for j in range(0, n_people):\n",
    "            data_points[i].append([])\n",
    "            datas = data['people'][j]['pose_keypoints_2d']\n",
    "        \n",
    "            for k in range(0, len(datas)):\n",
    "                data_points[i][j].append(datas[k])\n",
    "                \n",
    "    return data_points"
   ]
  },
  {
   "cell_type": "code",
   "execution_count": 25,
   "metadata": {},
   "outputs": [],
   "source": [
    "def data_classification(data):\n",
    "    body_label = {0:\"Nose\", 1:\"Neck\", 2:\"RShoulder\", 3:\"RElbow\", 4:\"RWrist\", 5:\"LShoulder\", 6:\"LElbow\", 7:\"LWrist\", 8:\"MidHip\", 9:\"RHip\", 10:\"RKnee\", 11:\"RAnkle\", 12:\"LHip\", 13:\"LKnee\",14:\"LAnkle\", 15:\"REye\", 16:\"LEye\", 17:\"REar\", 18:\"LEar\", 19:\"LBigToe\", 20:\"LSmallToe\", 21:\"LHeel\", 22:\"RBigToe\", 23:\"RSmallToe\", 24:\"RHeel\"}\n",
    "    parts = {}\n",
    "    people = {}\n",
    "    \n",
    "    for person in range(0, len(data)):\n",
    "        points = data[person]\n",
    "        for i in range(0, len(points)):\n",
    "            parts[body_label[i]] = points[i]\n",
    "        \n",
    "        people[person] = parts\n",
    "        parts = {}\n",
    "        \n",
    "    return people"
   ]
  },
  {
   "cell_type": "code",
   "execution_count": 26,
   "metadata": {},
   "outputs": [],
   "source": [
    "def organise_data(data, number):\n",
    "    total = len(data)\n",
    "    people_body_point = {}\n",
    "    \n",
    "    for i in range(0, total):\n",
    "        people = len(data[i])\n",
    "        frame_points = {}\n",
    "        id_number = 0\n",
    "        if people != 0:\n",
    "            for j in range(0, people):\n",
    "                points = data[i][j]\n",
    "                n_points = len(points)\n",
    "                body_points = []\n",
    "                data_certainty = 0\n",
    "                for k in range(0, n_points - 1, 3):\n",
    "                    body_points.append((points[0 + k], points[1 + k]))\n",
    "                    data_certainty += points[2 + k]\n",
    "                    \n",
    "                \n",
    "                data_certainty = data_certainty / number\n",
    "                \n",
    "                if data_certainty >= 0.5:\n",
    "                    frame_points[id_number] = body_points\n",
    "                    id_number += 1\n",
    "                \n",
    "            organised = data_classification(frame_points)\n",
    "            people_body_point[i] = organised\n",
    "                \n",
    "    return people_body_point"
   ]
  },
  {
   "cell_type": "code",
   "execution_count": 27,
   "metadata": {},
   "outputs": [],
   "source": [
    "def reformat(data):\n",
    "    \n",
    "    exercise = {}\n",
    "    \n",
    "    for i in data:\n",
    "        for j in data[i]:\n",
    "            exercise[i] = data[i][j]\n",
    "            \n",
    "    return exercise"
   ]
  },
  {
   "cell_type": "code",
   "execution_count": 28,
   "metadata": {},
   "outputs": [],
   "source": [
    "def section_separator(data, start, end):\n",
    "    \n",
    "    exercise_one = {}\n",
    "    exercise_two = {}\n",
    "    \n",
    "                \n",
    "    for i in range(start, end + 1):\n",
    "        \n",
    "        for j in data[str(i)]:\n",
    "            if j == '0':\n",
    "                exercise_one[i] = data[str(i)][j]\n",
    "            else:\n",
    "                exercise_two[i] = data[str(i)][j]\n",
    "        \n",
    "#         i += 1\n",
    "\n",
    "    return exercise_one, exercise_two"
   ]
  },
  {
   "cell_type": "code",
   "execution_count": 29,
   "metadata": {},
   "outputs": [],
   "source": [
    "def organiseAllPoints(data):\n",
    "    new_data = {}\n",
    "    \n",
    "    keys = ['Nose', 'Neck', 'RShoulder', 'RElbow', 'RWrist', 'LShoulder', 'LElbow', 'LWrist', 'MidHip', 'RHip', 'RKnee', 'RAnkle', 'LHip', 'LKnee', 'LAnkle', 'REye', 'LEye', 'REar', 'LEar', 'LBigToe', 'LSmallToe', 'LHeel', 'RBigToe', 'RSmallToe', 'RHeel']\n",
    "    \n",
    "    # Initialisation\n",
    "    for i in range(len(keys)):\n",
    "        \n",
    "        new_data[keys[i]] = []\n",
    "       \n",
    "    for keys in data:\n",
    "        for Lkeys in data[keys]:\n",
    "            coordinate = new_data[Lkeys]\n",
    "            \n",
    "            points = data[keys][Lkeys]\n",
    "            \n",
    "            if points[0] != 0 and points[1] != 0:\n",
    "                previousPoints = copy.deepcopy(points)\n",
    "                coordinate.append(points)\n",
    "            else:\n",
    "                coordinate.append(previousPoints)\n",
    "            \n",
    "#             coordinate.append(points)\n",
    "            \n",
    "            new_data[Lkeys] = coordinate            \n",
    "    \n",
    "    return new_data"
   ]
  },
  {
   "cell_type": "code",
   "execution_count": 30,
   "metadata": {},
   "outputs": [],
   "source": [
    "def rescale(data):\n",
    "    \n",
    "    allPoints = organiseAllPoints(data)\n",
    "        \n",
    "    new_data = {}\n",
    "    \n",
    "    for keys in allPoints:\n",
    "        \n",
    "        new_data[keys] = []\n",
    "        \n",
    "    fit_points = []\n",
    "    first = True\n",
    "    \n",
    "    for keys in allPoints:\n",
    "        if first:\n",
    "            fit_points = allPoints[keys]\n",
    "            first = False\n",
    "        else:\n",
    "            fit_points + allPoints[keys]\n",
    "            \n",
    "    scaler = StandardScaler().fit(fit_points)\n",
    "    \n",
    "    for keys in allPoints:\n",
    "        points = scaler.transform(allPoints[keys])\n",
    "        new_data[keys] = points\n",
    "        \n",
    "    return new_data"
   ]
  },
  {
   "cell_type": "code",
   "execution_count": 31,
   "metadata": {},
   "outputs": [],
   "source": [
    "def merge(master, slave):\n",
    "    original = copy.deepcopy(master)\n",
    "    for i in master:\n",
    "        masterList = master[i]\n",
    "        slaveList = slave[i]\n",
    "        \n",
    "        finalList = np.concatenate((masterList, slaveList), axis = 0)\n",
    "            \n",
    "        original[i] = finalList\n",
    "        \n",
    "    return original"
   ]
  },
  {
   "cell_type": "code",
   "execution_count": 32,
   "metadata": {},
   "outputs": [],
   "source": [
    "def returnNumber(superFolder, subFolder):\n",
    "    number = 25\n",
    "    \n",
    "    if superFolder == 'Star_Jumps':\n",
    "        if subFolder == 'Starjump10':\n",
    "            number = 26\n",
    "        if subFolder == 'Starjump7' or 'Starjump8' or 'Starjump9':\n",
    "            number = 20\n",
    "        \n",
    "    if superFolder == 'Squats':\n",
    "        if subFolder == 'Squats_21' or subFolder == 'Squats_22':\n",
    "            number = 13\n",
    "            \n",
    "        if subFolder == 'Squats_23':\n",
    "            number = 10\n",
    "            \n",
    "    if superFolder == 'Biceps':\n",
    "        if subFolder == 'Bicep8' or subFolder == 'Bicep9' or subFolder == 'Bicep10':\n",
    "            number = 20\n",
    "            \n",
    "        if subFolder == 'Bicep12':\n",
    "            number = 13\n",
    "\n",
    "        if subFolder == 'Bicep13' or subFolder == 'Bicep15':\n",
    "            number = 16\n",
    "        \n",
    "        if subFolder == 'Bicep14':\n",
    "             number = 18\n",
    "            \n",
    "        \n",
    "    if superFolder == 'Chests':\n",
    "        if subFolder == 'Chest6' or subFolder == 'Chest7' or subFolder == 'Chest8':\n",
    "            number = 20\n",
    "            \n",
    "        if subFolder == 'Chest11' or subFolder == 'Chest12':\n",
    "            number = 15\n",
    "\n",
    "        if subFolder == 'Chest13':\n",
    "            number = 14\n",
    "            \n",
    "    if superFolder == 'Punches':\n",
    "        number = 20\n",
    "        \n",
    "        if subFolder == 'Punches12':\n",
    "            number = 14\n",
    "            \n",
    "        if subFolder == 'Punches7' or subFolder == 'Punches8' or subFolder == 'Punches9':\n",
    "            number = 11\n",
    "        \n",
    "    return number"
   ]
  },
  {
   "cell_type": "code",
   "execution_count": 33,
   "metadata": {},
   "outputs": [],
   "source": [
    "def read_folders(superFolder):\n",
    "    subFolders = next(os.walk('Sports_Skeleton/' + superFolder + '/.'))[1]\n",
    "    \n",
    "    keyStart = 0\n",
    "    \n",
    "    total = {}\n",
    "    \n",
    "    first = True\n",
    "    \n",
    "    for i in range(len(subFolders)):\n",
    "        json_folder = 'Sports_Skeleton/' + superFolder + '/' + subFolders[i]\n",
    "        \n",
    "        number = returnNumber(superFolder, subFolders[i]) \n",
    "            \n",
    "        json_folder_slash = json_folder + '/'\n",
    "        \n",
    "        jsons = read_jsons(json_folder)\n",
    "        \n",
    "        data_points1 = data_points(jsons, json_folder_slash)\n",
    "        \n",
    "        part_points = organise_data(data_points1, number)\n",
    "                \n",
    "        reformat_points = reformat(part_points)\n",
    "        \n",
    "        rescale_points = rescale(reformat_points)\n",
    "        \n",
    "        if first:\n",
    "            total = rescale_points\n",
    "            first = False\n",
    "        else:\n",
    "            for i in rescale_points:\n",
    "                total = merge(total, rescale_points)\n",
    "                                \n",
    "    return total"
   ]
  },
  {
   "cell_type": "code",
   "execution_count": 34,
   "metadata": {},
   "outputs": [],
   "source": [
    "def dicToList(data):\n",
    "    bigList = []\n",
    "    first = True\n",
    "    for i in data:\n",
    "        if first:\n",
    "            bigList = data[i]\n",
    "            first = False\n",
    "        else:\n",
    "             bigList = np.concatenate((bigList, data[i]), axis = 0)\n",
    "    \n",
    "    return bigList"
   ]
  },
  {
   "cell_type": "code",
   "execution_count": 35,
   "metadata": {},
   "outputs": [],
   "source": [
    "def findmaximumpeople(json_folder_dir, jsons, id0, idn):\n",
    "    \n",
    "    if not id0 == idn:\n",
    "        midval = (id0 + idn)//2\n",
    "        leftval = findmaximumpeople(json_folder_dir, jsons, id0, midval)\n",
    "        rightval = findmaximumpeople(json_folder_dir, jsons, midval + 1, idn)\n",
    "        \n",
    "        if leftval >= rightval:\n",
    "            return leftval\n",
    "        else:\n",
    "            return rightval\n",
    "    else:\n",
    "        with open((json_folder_dir + jsons[id0])) as f:\n",
    "            data = json.load(f)\n",
    "        \n",
    "        number = 0\n",
    "        \n",
    "        for item in data['people']:\n",
    "            data_points = item['pose_keypoints_2d']\n",
    "            \n",
    "            total_certainty = 0\n",
    "            \n",
    "            n_points = len(data_points)\n",
    "            \n",
    "            division = 0\n",
    "            \n",
    "            for k in range(0, n_points - 1, 3):\n",
    "                total_certainty += data_points[2 + k]\n",
    "                division += 1\n",
    "                \n",
    "#             total_certainty = total_certainty / 20\n",
    "            total_certainty = total_certainty\n",
    "\n",
    "        \n",
    "            if (total_certainty >= 0.5):\n",
    "                number += 1\n",
    "\n",
    "                \n",
    "        return number\n",
    "    "
   ]
  },
  {
   "cell_type": "code",
   "execution_count": 36,
   "metadata": {},
   "outputs": [],
   "source": [
    "# section_player(\"DS3.MOV\", ds4_data, 3580, 4370)\n",
    "# 210, 980\n",
    "# 1430, 2210\n",
    "#2550, 3330\n",
    "#3580, 4370"
   ]
  },
  {
   "cell_type": "code",
   "execution_count": 37,
   "metadata": {},
   "outputs": [],
   "source": [
    "json_folder = 'Sports_Skeleton/Chests/Chest4'\n",
    "json_folder_slash = json_folder + '/'\n",
    "\n",
    "jsons = read_jsons(json_folder)\n",
    "\n",
    "number_of_people = findmaximumpeople(json_folder_slash, jsons, 0, (len(jsons) - 1))"
   ]
  },
  {
   "cell_type": "code",
   "execution_count": 38,
   "metadata": {},
   "outputs": [
    {
     "data": {
      "text/plain": [
       "2"
      ]
     },
     "execution_count": 38,
     "metadata": {},
     "output_type": "execute_result"
    }
   ],
   "source": [
    "number_of_people"
   ]
  },
  {
   "cell_type": "code",
   "execution_count": 39,
   "metadata": {
    "scrolled": true
   },
   "outputs": [],
   "source": [
    "squats0 = read_folders('Squats')"
   ]
  },
  {
   "cell_type": "code",
   "execution_count": 40,
   "metadata": {},
   "outputs": [
    {
     "name": "stdout",
     "output_type": "stream",
     "text": [
      "{'LAnkle': array([[1.99931293, 5.74023539],\n",
      "       [2.00151256, 5.76570919],\n",
      "       [2.00183772, 5.76525877],\n",
      "       ...,\n",
      "       [7.78154141, 5.10333869],\n",
      "       [7.78154141, 5.10333869],\n",
      "       [7.78154141, 5.10333869]]),\n",
      " 'LBigToe': array([[1.69953235, 6.34234788],\n",
      "       [1.69870988, 6.31692413],\n",
      "       [1.69519048, 6.34224778],\n",
      "       ...,\n",
      "       [6.02329372, 5.51487156],\n",
      "       [6.02329372, 5.51487156],\n",
      "       [6.02329372, 5.51487156]]),\n",
      " 'LEar': array([[ 0.59470711, -0.76835983],\n",
      "       [ 0.59512791, -0.76820969],\n",
      "       [ 0.59602689, -0.76812962],\n",
      "       ...,\n",
      "       [ 3.89170761, -1.1413772 ],\n",
      "       [ 3.89170761, -1.1413772 ],\n",
      "       [ 3.89170761, -1.1413772 ]]),\n",
      " 'LElbow': array([[3.20271975, 0.70059244],\n",
      "       [3.0024006 , 0.54440153],\n",
      "       [2.70149152, 0.49045613],\n",
      "       ...,\n",
      "       [5.90049262, 0.89435032],\n",
      "       [5.90049262, 0.89435032],\n",
      "       [5.90049262, 0.89435032]]),\n",
      " 'LEye': array([[-0.5032132 , -0.95072019],\n",
      "       [-0.40807452, -0.95059007],\n",
      "       [-0.40620005, -0.95048497],\n",
      "       ...,\n",
      "       [ 2.12820434, -1.25539403],\n",
      "       [ 2.12820434, -1.25539403],\n",
      "       [ 2.12820434, -1.25539403]]),\n",
      " 'LHeel': array([[1.89912467, 5.87065723],\n",
      "       [1.90296924, 5.92235553],\n",
      "       [2.00164645, 5.89718201],\n",
      "       ...,\n",
      "       [8.40490441, 5.19545723],\n",
      "       [8.40490441, 5.19545723],\n",
      "       [8.40490441, 5.19545723]]),\n",
      " 'LHip': array([[1.69763876, 2.56412332],\n",
      "       [1.69740923, 2.56439858],\n",
      "       [1.69585993, 2.56448366],\n",
      "       ...,\n",
      "       [4.00963769, 1.5811997 ],\n",
      "       [4.00963769, 1.5811997 ],\n",
      "       [4.00963769, 1.5811997 ]]),\n",
      " 'LKnee': array([[1.7038551 , 4.24273645],\n",
      "       [1.79652638, 4.24393758],\n",
      "       [1.79608645, 4.24343711],\n",
      "       ...,\n",
      "       [5.76269389, 3.36570747],\n",
      "       [5.76269389, 3.36570747],\n",
      "       [5.76269389, 3.36570747]]),\n",
      " 'LShoulder': array([[ 2.20056932,  0.07191514],\n",
      "       [ 2.10057232,  0.07097926],\n",
      "       [ 2.10162432,  0.01908578],\n",
      "       ...,\n",
      "       [ 5.13971545, -0.31803009],\n",
      "       [ 5.13971545, -0.31803009],\n",
      "       [ 5.13971545, -0.31803009]]),\n",
      " 'LSmallToe': array([[2.50448137, 6.26407476],\n",
      "       [2.50467264, 6.23830068],\n",
      "       [2.50165055, 6.2642249 ],\n",
      "       ...,\n",
      "       [7.27444209, 5.51505837],\n",
      "       [7.27444209, 5.51505837],\n",
      "       [7.27444209, 5.51505837]]),\n",
      " 'LWrist': array([[0.89699336, 0.93732859],\n",
      "       [0.89525278, 0.7274175 ],\n",
      "       [0.39488527, 0.51769658],\n",
      "       ...,\n",
      "       [6.64889995, 1.94732712],\n",
      "       [6.64889995, 1.94732712],\n",
      "       [6.64889995, 1.94732712]]),\n",
      " 'MidHip': array([[-0.00900465,  2.56457374],\n",
      "       [-0.10508057,  2.56468384],\n",
      "       [-0.10804528,  2.56464881],\n",
      "       ...,\n",
      "       [ 2.2521591 ,  1.60386157],\n",
      "       [ 2.2521591 ,  1.60386157],\n",
      "       [ 2.2521591 ,  1.60386157]]),\n",
      " 'Neck': array([[-0.50351924,  0.09782935],\n",
      "       [-0.50615879,  0.09738893],\n",
      "       [-0.40585576,  0.07225546],\n",
      "       ...,\n",
      "       [ 2.62748439, -0.31806511],\n",
      "       [ 2.62748439, -0.31806511],\n",
      "       [ 2.62748439, -0.31806511]]),\n",
      " 'Nose': array([[-1.00719576, -0.76796947],\n",
      "       [-1.00622027, -0.76802452],\n",
      "       [-0.90802123, -0.76832981],\n",
      "       ...,\n",
      "       [ 1.3722982 , -1.11843513],\n",
      "       [ 1.3722982 , -1.11843513],\n",
      "       [ 1.3722982 , -1.11843513]]),\n",
      " 'RAnkle': array([[-1.51179038,  5.556764  ],\n",
      "       [-1.51203903,  5.58198756],\n",
      "       [-1.51284237,  5.58193751],\n",
      "       ...,\n",
      "       [-1.26427219,  4.80691314],\n",
      "       [-1.26427219,  4.80691314],\n",
      "       [-1.26427219,  4.80691314]]),\n",
      " 'RBigToe': array([[-3.21680798,  6.08060336],\n",
      "       [-3.314854  ,  6.08090364],\n",
      "       [-3.3159825 ,  6.10632739],\n",
      "       ...,\n",
      "       [-4.02633555,  5.12658432],\n",
      "       [-4.02633555,  5.12658432],\n",
      "       [-4.02633555,  5.12658432]]),\n",
      " 'REar': array([[-2.2108321 , -0.74104932],\n",
      "       [-2.20926367, -0.74133459],\n",
      "       [-2.20618419, -0.74141466],\n",
      "       ...,\n",
      "       [ 2.12820434, -1.25539403],\n",
      "       [ 2.12820434, -1.25539403],\n",
      "       [ 2.12820434, -1.25539403]]),\n",
      " 'RElbow': array([[-5.5210807 ,  0.80584076],\n",
      "       [-5.523682  ,  0.70217392],\n",
      "       [-5.52440884,  0.54419133],\n",
      "       ...,\n",
      "       [-1.00867157,  0.8720971 ],\n",
      "       [-1.00867157,  0.8720971 ],\n",
      "       [-1.00867157,  0.8720971 ]]),\n",
      " 'REye': array([[-1.51213467, -0.92531146],\n",
      "       [-1.5104706 , -0.92558671],\n",
      "       [-1.50821359, -0.92576688],\n",
      "       ...,\n",
      "       [ 0.87032627, -1.25474605],\n",
      "       [ 0.87032627, -1.25474605],\n",
      "       [ 0.87032627, -1.25474605]]),\n",
      " 'RHeel': array([[-1.20984842,  5.73923446],\n",
      "       [-1.20841388,  5.73993511],\n",
      "       [-1.20988668,  5.74003521],\n",
      "       ...,\n",
      "       [-0.5121475 ,  4.96635177],\n",
      "       [-0.5121475 ,  4.96635177],\n",
      "       [-0.5121475 ,  4.96635177]]),\n",
      " 'RHip': array([[-1.90975087,  2.58980231],\n",
      "       [-2.00882976,  2.56465382],\n",
      "       [-2.01164146,  2.56433852],\n",
      "       ...,\n",
      "       [ 0.61773799,  1.62651175],\n",
      "       [ 0.61773799,  1.62651175],\n",
      "       [ 0.61773799,  1.62651175]]),\n",
      " 'RKnee': array([[-1.51108267,  4.16511394],\n",
      "       [-1.51085315,  4.13853911],\n",
      "       [-1.51106355,  4.16501385],\n",
      "       ...,\n",
      "       [-1.26061892,  3.27371736],\n",
      "       [-1.26061892,  3.27371736],\n",
      "       [-1.26061892,  3.27371736]]),\n",
      " 'RShoulder': array([[-2.91459824,  0.1244392 ],\n",
      "       [-3.00891446,  0.12401881],\n",
      "       [-2.71439385,  0.12348832],\n",
      "       ...,\n",
      "       [-0.1309898 , -0.3175514 ],\n",
      "       [-0.1309898 , -0.3175514 ],\n",
      "       [-0.1309898 , -0.3175514 ]]),\n",
      " 'RSmallToe': array([[-3.6154953 ,  5.97470443],\n",
      "       [-3.61733151,  5.97470443],\n",
      "       [-3.7131014 ,  5.97500471],\n",
      "       ...,\n",
      "       [-4.02563054,  5.01238769],\n",
      "       [-4.02563054,  5.01238769],\n",
      "       [-4.02563054,  5.01238769]]),\n",
      " 'RWrist': array([[-5.5210807 ,  0.80584076],\n",
      "       [-5.523682  ,  0.70217392],\n",
      "       [-5.52440884,  0.54419133],\n",
      "       ...,\n",
      "       [-2.27372799,  1.85529031],\n",
      "       [-2.27372799,  1.85529031],\n",
      "       [-2.27372799,  1.85529031]])}\n"
     ]
    }
   ],
   "source": [
    "pprint(squats0)"
   ]
  },
  {
   "cell_type": "code",
   "execution_count": 41,
   "metadata": {},
   "outputs": [],
   "source": [
    "arm0 = read_folders('Biceps')"
   ]
  },
  {
   "cell_type": "code",
   "execution_count": 42,
   "metadata": {},
   "outputs": [],
   "source": [
    "starJump0 = read_folders('Star_Jumps')"
   ]
  },
  {
   "cell_type": "code",
   "execution_count": 43,
   "metadata": {},
   "outputs": [],
   "source": [
    "chest0 = read_folders('Chests')"
   ]
  },
  {
   "cell_type": "code",
   "execution_count": 44,
   "metadata": {},
   "outputs": [],
   "source": [
    "punch0 = read_folders('Punches')"
   ]
  },
  {
   "cell_type": "code",
   "execution_count": 45,
   "metadata": {},
   "outputs": [
    {
     "name": "stdout",
     "output_type": "stream",
     "text": [
      "{'Nose': array([[-1.00719576, -0.76796947],\n",
      "       [-1.00622027, -0.76802452],\n",
      "       [-0.90802123, -0.76832981],\n",
      "       ...,\n",
      "       [ 1.3722982 , -1.11843513],\n",
      "       [ 1.3722982 , -1.11843513],\n",
      "       [ 1.3722982 , -1.11843513]]), 'Neck': array([[-0.50351924,  0.09782935],\n",
      "       [-0.50615879,  0.09738893],\n",
      "       [-0.40585576,  0.07225546],\n",
      "       ...,\n",
      "       [ 2.62748439, -0.31806511],\n",
      "       [ 2.62748439, -0.31806511],\n",
      "       [ 2.62748439, -0.31806511]]), 'RShoulder': array([[-2.91459824,  0.1244392 ],\n",
      "       [-3.00891446,  0.12401881],\n",
      "       [-2.71439385,  0.12348832],\n",
      "       ...,\n",
      "       [-0.1309898 , -0.3175514 ],\n",
      "       [-0.1309898 , -0.3175514 ],\n",
      "       [-0.1309898 , -0.3175514 ]]), 'RElbow': array([[-5.5210807 ,  0.80584076],\n",
      "       [-5.523682  ,  0.70217392],\n",
      "       [-5.52440884,  0.54419133],\n",
      "       ...,\n",
      "       [-1.00867157,  0.8720971 ],\n",
      "       [-1.00867157,  0.8720971 ],\n",
      "       [-1.00867157,  0.8720971 ]]), 'RWrist': array([[-5.5210807 ,  0.80584076],\n",
      "       [-5.523682  ,  0.70217392],\n",
      "       [-5.52440884,  0.54419133],\n",
      "       ...,\n",
      "       [-2.27372799,  1.85529031],\n",
      "       [-2.27372799,  1.85529031],\n",
      "       [-2.27372799,  1.85529031]]), 'LShoulder': array([[ 2.20056932,  0.07191514],\n",
      "       [ 2.10057232,  0.07097926],\n",
      "       [ 2.10162432,  0.01908578],\n",
      "       ...,\n",
      "       [ 5.13971545, -0.31803009],\n",
      "       [ 5.13971545, -0.31803009],\n",
      "       [ 5.13971545, -0.31803009]]), 'LElbow': array([[3.20271975, 0.70059244],\n",
      "       [3.0024006 , 0.54440153],\n",
      "       [2.70149152, 0.49045613],\n",
      "       ...,\n",
      "       [5.90049262, 0.89435032],\n",
      "       [5.90049262, 0.89435032],\n",
      "       [5.90049262, 0.89435032]]), 'LWrist': array([[0.89699336, 0.93732859],\n",
      "       [0.89525278, 0.7274175 ],\n",
      "       [0.39488527, 0.51769658],\n",
      "       ...,\n",
      "       [6.64889995, 1.94732712],\n",
      "       [6.64889995, 1.94732712],\n",
      "       [6.64889995, 1.94732712]]), 'MidHip': array([[-0.00900465,  2.56457374],\n",
      "       [-0.10508057,  2.56468384],\n",
      "       [-0.10804528,  2.56464881],\n",
      "       ...,\n",
      "       [ 2.2521591 ,  1.60386157],\n",
      "       [ 2.2521591 ,  1.60386157],\n",
      "       [ 2.2521591 ,  1.60386157]]), 'RHip': array([[-1.90975087,  2.58980231],\n",
      "       [-2.00882976,  2.56465382],\n",
      "       [-2.01164146,  2.56433852],\n",
      "       ...,\n",
      "       [ 0.61773799,  1.62651175],\n",
      "       [ 0.61773799,  1.62651175],\n",
      "       [ 0.61773799,  1.62651175]]), 'RKnee': array([[-1.51108267,  4.16511394],\n",
      "       [-1.51085315,  4.13853911],\n",
      "       [-1.51106355,  4.16501385],\n",
      "       ...,\n",
      "       [-1.26061892,  3.27371736],\n",
      "       [-1.26061892,  3.27371736],\n",
      "       [-1.26061892,  3.27371736]]), 'RAnkle': array([[-1.51179038,  5.556764  ],\n",
      "       [-1.51203903,  5.58198756],\n",
      "       [-1.51284237,  5.58193751],\n",
      "       ...,\n",
      "       [-1.26427219,  4.80691314],\n",
      "       [-1.26427219,  4.80691314],\n",
      "       [-1.26427219,  4.80691314]]), 'LHip': array([[1.69763876, 2.56412332],\n",
      "       [1.69740923, 2.56439858],\n",
      "       [1.69585993, 2.56448366],\n",
      "       ...,\n",
      "       [4.00963769, 1.5811997 ],\n",
      "       [4.00963769, 1.5811997 ],\n",
      "       [4.00963769, 1.5811997 ]]), 'LKnee': array([[1.7038551 , 4.24273645],\n",
      "       [1.79652638, 4.24393758],\n",
      "       [1.79608645, 4.24343711],\n",
      "       ...,\n",
      "       [5.76269389, 3.36570747],\n",
      "       [5.76269389, 3.36570747],\n",
      "       [5.76269389, 3.36570747]]), 'LAnkle': array([[1.99931293, 5.74023539],\n",
      "       [2.00151256, 5.76570919],\n",
      "       [2.00183772, 5.76525877],\n",
      "       ...,\n",
      "       [7.78154141, 5.10333869],\n",
      "       [7.78154141, 5.10333869],\n",
      "       [7.78154141, 5.10333869]]), 'REye': array([[-1.51213467, -0.92531146],\n",
      "       [-1.5104706 , -0.92558671],\n",
      "       [-1.50821359, -0.92576688],\n",
      "       ...,\n",
      "       [ 0.87032627, -1.25474605],\n",
      "       [ 0.87032627, -1.25474605],\n",
      "       [ 0.87032627, -1.25474605]]), 'LEye': array([[-0.5032132 , -0.95072019],\n",
      "       [-0.40807452, -0.95059007],\n",
      "       [-0.40620005, -0.95048497],\n",
      "       ...,\n",
      "       [ 2.12820434, -1.25539403],\n",
      "       [ 2.12820434, -1.25539403],\n",
      "       [ 2.12820434, -1.25539403]]), 'REar': array([[-2.2108321 , -0.74104932],\n",
      "       [-2.20926367, -0.74133459],\n",
      "       [-2.20618419, -0.74141466],\n",
      "       ...,\n",
      "       [ 2.12820434, -1.25539403],\n",
      "       [ 2.12820434, -1.25539403],\n",
      "       [ 2.12820434, -1.25539403]]), 'LEar': array([[ 0.59470711, -0.76835983],\n",
      "       [ 0.59512791, -0.76820969],\n",
      "       [ 0.59602689, -0.76812962],\n",
      "       ...,\n",
      "       [ 3.89170761, -1.1413772 ],\n",
      "       [ 3.89170761, -1.1413772 ],\n",
      "       [ 3.89170761, -1.1413772 ]]), 'LBigToe': array([[1.69953235, 6.34234788],\n",
      "       [1.69870988, 6.31692413],\n",
      "       [1.69519048, 6.34224778],\n",
      "       ...,\n",
      "       [6.02329372, 5.51487156],\n",
      "       [6.02329372, 5.51487156],\n",
      "       [6.02329372, 5.51487156]]), 'LSmallToe': array([[2.50448137, 6.26407476],\n",
      "       [2.50467264, 6.23830068],\n",
      "       [2.50165055, 6.2642249 ],\n",
      "       ...,\n",
      "       [7.27444209, 5.51505837],\n",
      "       [7.27444209, 5.51505837],\n",
      "       [7.27444209, 5.51505837]]), 'LHeel': array([[1.89912467, 5.87065723],\n",
      "       [1.90296924, 5.92235553],\n",
      "       [2.00164645, 5.89718201],\n",
      "       ...,\n",
      "       [8.40490441, 5.19545723],\n",
      "       [8.40490441, 5.19545723],\n",
      "       [8.40490441, 5.19545723]]), 'RBigToe': array([[-3.21680798,  6.08060336],\n",
      "       [-3.314854  ,  6.08090364],\n",
      "       [-3.3159825 ,  6.10632739],\n",
      "       ...,\n",
      "       [-4.02633555,  5.12658432],\n",
      "       [-4.02633555,  5.12658432],\n",
      "       [-4.02633555,  5.12658432]]), 'RSmallToe': array([[-3.6154953 ,  5.97470443],\n",
      "       [-3.61733151,  5.97470443],\n",
      "       [-3.7131014 ,  5.97500471],\n",
      "       ...,\n",
      "       [-4.02563054,  5.01238769],\n",
      "       [-4.02563054,  5.01238769],\n",
      "       [-4.02563054,  5.01238769]]), 'RHeel': array([[-1.20984842,  5.73923446],\n",
      "       [-1.20841388,  5.73993511],\n",
      "       [-1.20988668,  5.74003521],\n",
      "       ...,\n",
      "       [-0.5121475 ,  4.96635177],\n",
      "       [-0.5121475 ,  4.96635177],\n",
      "       [-0.5121475 ,  4.96635177]])}\n"
     ]
    }
   ],
   "source": [
    "print(squats0)"
   ]
  },
  {
   "cell_type": "code",
   "execution_count": 46,
   "metadata": {},
   "outputs": [],
   "source": [
    "ds2_data = readJson('Re-identified jsons/DS1.json')\n",
    "ds3_data = readJson('Re-identified jsons/DS2.json')\n",
    "ds4_data = readJson('Re-identified jsons/DS3.json')"
   ]
  },
  {
   "cell_type": "code",
   "execution_count": 47,
   "metadata": {},
   "outputs": [],
   "source": [
    "squat1, arm1 = section_separator(ds2_data, 135, 800)\n",
    "arm2, squat2 = section_separator(ds2_data, 1230, 1910)\n",
    "squat3, arm3 = section_separator(ds2_data, 2700, 3350)\n",
    "arm4, squat4 = section_separator(ds2_data, 3600, 4280)"
   ]
  },
  {
   "cell_type": "code",
   "execution_count": 48,
   "metadata": {},
   "outputs": [],
   "source": [
    "squat5, arm5 = section_separator(ds3_data, 210, 930)\n",
    "arm6, squat6 = section_separator(ds3_data, 1250, 1990)\n",
    "squat7, arm7 = section_separator(ds3_data, 2330, 2980)\n",
    "arm8, squat8 = section_separator(ds3_data, 3725, 4350)\n",
    "squat9, arm9 = section_separator(ds3_data, 4585, 5325)"
   ]
  },
  {
   "cell_type": "code",
   "execution_count": 49,
   "metadata": {},
   "outputs": [],
   "source": [
    "squat10, starJump1 = section_separator(ds4_data, 210, 980)\n",
    "starJump2, squat11 = section_separator(ds4_data, 1430, 2210)\n",
    "squat12, starJump3 = section_separator(ds4_data, 2550, 3330)\n",
    "starJump4, squat13 = section_separator(ds4_data, 3580, 4370)"
   ]
  },
  {
   "cell_type": "code",
   "execution_count": 50,
   "metadata": {},
   "outputs": [],
   "source": [
    "arms_rescale = {}\n",
    "squats_rescale = {}\n",
    "starJumps_rescale = {}"
   ]
  },
  {
   "cell_type": "code",
   "execution_count": 51,
   "metadata": {
    "scrolled": true
   },
   "outputs": [],
   "source": [
    "arms_rescale[0] = rescale(arm1)\n",
    "arms_rescale[1] = rescale(arm2)\n",
    "arms_rescale[2] = rescale(arm3)\n",
    "arms_rescale[3] = rescale(arm4)\n",
    "arms_rescale[4] = rescale(arm5)\n",
    "arms_rescale[5] = rescale(arm6)\n",
    "arms_rescale[6] = rescale(arm7)\n",
    "arms_rescale[7] = rescale(arm8)\n",
    "arms_rescale[8] = rescale(arm9)\n",
    "squats_rescale[0] = rescale(squat1)\n",
    "squats_rescale[1] = rescale(squat2)\n",
    "squats_rescale[2] = rescale(squat3)\n",
    "squats_rescale[3] = rescale(squat4)\n",
    "squats_rescale[4] = rescale(squat5)\n",
    "squats_rescale[5] = rescale(squat6)\n",
    "squats_rescale[6] = rescale(squat7)\n",
    "squats_rescale[7] = rescale(squat8)\n",
    "squats_rescale[8] = rescale(squat9)\n",
    "squats_rescale[9] = rescale(squat10)\n",
    "squats_rescale[10] = rescale(squat11)\n",
    "squats_rescale[11] = rescale(squat12)\n",
    "squats_rescale[12] = rescale(squat13)\n",
    "starJumps_rescale[0] = rescale(starJump1)\n",
    "starJumps_rescale[1] = rescale(starJump2)\n",
    "starJumps_rescale[2] = rescale(starJump3)\n",
    "starJumps_rescale[3] = rescale(starJump4)"
   ]
  },
  {
   "cell_type": "code",
   "execution_count": 52,
   "metadata": {},
   "outputs": [],
   "source": [
    "for i in range(0, 9):\n",
    "    arm0 = merge(arm0, arms_rescale[i])"
   ]
  },
  {
   "cell_type": "code",
   "execution_count": 53,
   "metadata": {},
   "outputs": [],
   "source": [
    "for i in range(0, 13):\n",
    "    squats0 = merge(squats0, squats_rescale[i])"
   ]
  },
  {
   "cell_type": "code",
   "execution_count": 54,
   "metadata": {},
   "outputs": [],
   "source": [
    "for i in range(0, 4):\n",
    "    starJump0 = merge(starJump0, starJumps_rescale[i])"
   ]
  },
  {
   "cell_type": "code",
   "execution_count": 55,
   "metadata": {},
   "outputs": [],
   "source": [
    "arm_size = len(arm0[list(arm0.keys())[0]])"
   ]
  },
  {
   "cell_type": "code",
   "execution_count": 56,
   "metadata": {},
   "outputs": [],
   "source": [
    "squat_size = len(squats0[list(squats0.keys())[0]])"
   ]
  },
  {
   "cell_type": "code",
   "execution_count": 57,
   "metadata": {},
   "outputs": [],
   "source": [
    "starJump_size = len(starJump0[list(starJump0.keys())[0]])"
   ]
  },
  {
   "cell_type": "code",
   "execution_count": 58,
   "metadata": {},
   "outputs": [],
   "source": [
    "chest_size = len(chest0[list(chest0.keys())[0]])"
   ]
  },
  {
   "cell_type": "code",
   "execution_count": 59,
   "metadata": {},
   "outputs": [],
   "source": [
    "punch_size = len(punch0[list(punch0.keys())[0]])"
   ]
  },
  {
   "cell_type": "code",
   "execution_count": 60,
   "metadata": {},
   "outputs": [],
   "source": [
    "arms = dicToList(arm0)"
   ]
  },
  {
   "cell_type": "code",
   "execution_count": 61,
   "metadata": {},
   "outputs": [],
   "source": [
    "squats = dicToList(squats0)"
   ]
  },
  {
   "cell_type": "code",
   "execution_count": 62,
   "metadata": {},
   "outputs": [],
   "source": [
    "starJumps = dicToList(starJump0)"
   ]
  },
  {
   "cell_type": "code",
   "execution_count": 63,
   "metadata": {},
   "outputs": [],
   "source": [
    "chests = dicToList(chest0)"
   ]
  },
  {
   "cell_type": "code",
   "execution_count": 64,
   "metadata": {},
   "outputs": [],
   "source": [
    "punches = dicToList(punch0)"
   ]
  },
  {
   "cell_type": "code",
   "execution_count": 65,
   "metadata": {},
   "outputs": [
    {
     "name": "stdout",
     "output_type": "stream",
     "text": [
      "(24465250, 2)\n",
      "(21830650, 2)\n",
      "(27334875, 2)\n",
      "(18511625, 2)\n",
      "(24457400, 2)\n"
     ]
    }
   ],
   "source": [
    "print(arms.shape)\n",
    "print(squats.shape)\n",
    "print(starJumps.shape)\n",
    "print(chests.shape)\n",
    "print(punches.shape)"
   ]
  },
  {
   "cell_type": "code",
   "execution_count": 66,
   "metadata": {},
   "outputs": [
    {
     "name": "stdout",
     "output_type": "stream",
     "text": [
      "(978610, 50)\n"
     ]
    }
   ],
   "source": [
    "arms_shape = arms.reshape(arm_size, 50)\n",
    "print(arms_shape.shape)"
   ]
  },
  {
   "cell_type": "code",
   "execution_count": 67,
   "metadata": {},
   "outputs": [
    {
     "name": "stdout",
     "output_type": "stream",
     "text": [
      "(873226, 50)\n"
     ]
    }
   ],
   "source": [
    "squats_shape = squats.reshape(squat_size, 50)\n",
    "print(squats_shape.shape)"
   ]
  },
  {
   "cell_type": "code",
   "execution_count": 68,
   "metadata": {},
   "outputs": [
    {
     "name": "stdout",
     "output_type": "stream",
     "text": [
      "(1093395, 50)\n"
     ]
    }
   ],
   "source": [
    "starJumps_shape = starJumps.reshape(starJump_size, 50)\n",
    "print(starJumps_shape.shape)"
   ]
  },
  {
   "cell_type": "code",
   "execution_count": 69,
   "metadata": {},
   "outputs": [
    {
     "name": "stdout",
     "output_type": "stream",
     "text": [
      "(740465, 50)\n"
     ]
    }
   ],
   "source": [
    "chests_shape = chests.reshape(chest_size, 50)\n",
    "print(chests_shape.shape)"
   ]
  },
  {
   "cell_type": "code",
   "execution_count": 70,
   "metadata": {},
   "outputs": [
    {
     "name": "stdout",
     "output_type": "stream",
     "text": [
      "(978296, 50)\n"
     ]
    }
   ],
   "source": [
    "punches_shape = punches.reshape(punch_size,50)\n",
    "print(punches_shape.shape)"
   ]
  },
  {
   "cell_type": "code",
   "execution_count": 71,
   "metadata": {},
   "outputs": [
    {
     "name": "stdout",
     "output_type": "stream",
     "text": [
      "(978600, 50)\n",
      "(873210, 50)\n",
      "(1093380, 50)\n",
      "(740460, 50)\n",
      "(978270, 50)\n"
     ]
    }
   ],
   "source": [
    "if len(arms_shape) % 30 != 0:\n",
    "    arms_shape = arms_shape[:-(len(arms_shape) % 30), :]\n",
    "\n",
    "if len(squats_shape) % 30 != 0:\n",
    "    squats_shape = squats_shape[:-(len(squats_shape) % 30), :]\n",
    "    \n",
    "if len(starJumps_shape) % 30 != 0:\n",
    "    starJumps_shape = starJumps_shape[:-(len(starJumps_shape) % 30), :]\n",
    "\n",
    "if len(chests_shape) % 30 != 0:\n",
    "    chests_shape = chests_shape[:-(len(chests_shape) % 30), :]\n",
    "\n",
    "if len(punches_shape) % 30 != 0:\n",
    "    punches_shape = punches_shape[:-(len(punches_shape) % 30), :]\n",
    "\n",
    "print(arms_shape.shape)\n",
    "print(squats_shape.shape)\n",
    "print(starJumps_shape.shape)\n",
    "print(chests_shape.shape)\n",
    "print(punches_shape.shape)"
   ]
  },
  {
   "cell_type": "code",
   "execution_count": 72,
   "metadata": {},
   "outputs": [
    {
     "name": "stdout",
     "output_type": "stream",
     "text": [
      "(32620, 30, 50, 1)\n"
     ]
    }
   ],
   "source": [
    "final_arm = arms_shape.reshape(int(len(arms_shape) / 30), 30, 50, 1)\n",
    "print(final_arm.shape)"
   ]
  },
  {
   "cell_type": "code",
   "execution_count": 73,
   "metadata": {},
   "outputs": [
    {
     "name": "stdout",
     "output_type": "stream",
     "text": [
      "(29107, 30, 50, 1)\n"
     ]
    }
   ],
   "source": [
    "final_squats = squats_shape.reshape(int(len(squats_shape)/30), 30, 50, 1)\n",
    "print(final_squats.shape)"
   ]
  },
  {
   "cell_type": "code",
   "execution_count": 74,
   "metadata": {},
   "outputs": [
    {
     "name": "stdout",
     "output_type": "stream",
     "text": [
      "(36446, 30, 50, 1)\n"
     ]
    }
   ],
   "source": [
    "final_starJumps = starJumps_shape.reshape(int(len(starJumps_shape)/30), 30, 50, 1)\n",
    "print(final_starJumps.shape)"
   ]
  },
  {
   "cell_type": "code",
   "execution_count": 75,
   "metadata": {},
   "outputs": [
    {
     "name": "stdout",
     "output_type": "stream",
     "text": [
      "(24682, 30, 50, 1)\n"
     ]
    }
   ],
   "source": [
    "final_chests = chests_shape.reshape(int(len(chests_shape)/30), 30, 50, 1)\n",
    "print(final_chests.shape) "
   ]
  },
  {
   "cell_type": "code",
   "execution_count": 76,
   "metadata": {},
   "outputs": [
    {
     "name": "stdout",
     "output_type": "stream",
     "text": [
      "(32609, 30, 50, 1)\n"
     ]
    }
   ],
   "source": [
    "final_punches = punches_shape.reshape(int(len(punches_shape)/30), 30, 50, 1)\n",
    "print(final_punches.shape)"
   ]
  },
  {
   "cell_type": "code",
   "execution_count": 77,
   "metadata": {},
   "outputs": [
    {
     "name": "stdout",
     "output_type": "stream",
     "text": [
      "(155464,)\n"
     ]
    }
   ],
   "source": [
    "label = np.array([])\n",
    "\n",
    "for i in range(int(len(arms_shape) / 30)):\n",
    "    label = np.append(label, 0)\n",
    "\n",
    "for i in range(int(len(squats_shape)/30)):\n",
    "    label = np.append(label, 1)\n",
    "    \n",
    "for i in range(int(len(starJumps_shape)/30)):\n",
    "    label = np.append(label, 2)\n",
    "    \n",
    "for i in range(int(len(chests_shape)/30)):\n",
    "    label = np.append(label, 3)\n",
    "\n",
    "for i in range(int(len(punches_shape)/30)):\n",
    "    label = np.append(label, 4)\n",
    "    \n",
    "print(label.shape)\n",
    "    "
   ]
  },
  {
   "cell_type": "code",
   "execution_count": 78,
   "metadata": {},
   "outputs": [],
   "source": [
    "x_data = np.concatenate((final_arm, final_squats, final_starJumps, final_chests, final_punches))"
   ]
  },
  {
   "cell_type": "code",
   "execution_count": 79,
   "metadata": {},
   "outputs": [
    {
     "data": {
      "text/plain": [
       "(155464, 30, 50, 1)"
      ]
     },
     "execution_count": 79,
     "metadata": {},
     "output_type": "execute_result"
    }
   ],
   "source": [
    "x_data.shape"
   ]
  },
  {
   "cell_type": "code",
   "execution_count": 80,
   "metadata": {},
   "outputs": [],
   "source": [
    "label = label.reshape((int(len(arms_shape) / 30)) + (int(len(squats_shape) / 30)) + (int(len(starJumps_shape) / 30)) + (int(len(chests_shape)/30)) + (int(len(punches_shape)/30)), 1)"
   ]
  },
  {
   "cell_type": "code",
   "execution_count": 81,
   "metadata": {},
   "outputs": [
    {
     "data": {
      "text/plain": [
       "(155464, 1)"
      ]
     },
     "execution_count": 81,
     "metadata": {},
     "output_type": "execute_result"
    }
   ],
   "source": [
    "label.shape"
   ]
  },
  {
   "cell_type": "code",
   "execution_count": 82,
   "metadata": {},
   "outputs": [],
   "source": [
    "X_train, X_test, y_train, y_test = train_test_split(x_data, label, test_size = 0.3, random_state = 101 )"
   ]
  },
  {
   "cell_type": "code",
   "execution_count": 83,
   "metadata": {},
   "outputs": [],
   "source": [
    "y_train = to_categorical(y_train)\n",
    "y_test = to_categorical(y_test)"
   ]
  },
  {
   "cell_type": "code",
   "execution_count": 84,
   "metadata": {},
   "outputs": [
    {
     "data": {
      "text/plain": [
       "(108824, 30, 50, 1)"
      ]
     },
     "execution_count": 84,
     "metadata": {},
     "output_type": "execute_result"
    }
   ],
   "source": [
    "X_train.shape"
   ]
  },
  {
   "cell_type": "code",
   "execution_count": 85,
   "metadata": {},
   "outputs": [
    {
     "name": "stdout",
     "output_type": "stream",
     "text": [
      "WARNING:tensorflow:From /home/davidshin/anaconda3/envs/tensorflow/lib/python3.6/site-packages/tensorflow/python/framework/op_def_library.py:263: colocate_with (from tensorflow.python.framework.ops) is deprecated and will be removed in a future version.\n",
      "Instructions for updating:\n",
      "Colocations handled automatically by placer.\n",
      "WARNING:tensorflow:From /home/davidshin/anaconda3/envs/tensorflow/lib/python3.6/site-packages/keras/backend/tensorflow_backend.py:3445: calling dropout (from tensorflow.python.ops.nn_ops) with keep_prob is deprecated and will be removed in a future version.\n",
      "Instructions for updating:\n",
      "Please use `rate` instead of `keep_prob`. Rate should be set to `rate = 1 - keep_prob`.\n"
     ]
    }
   ],
   "source": [
    "model = Sequential()\n",
    "model.add(Conv2D(64, kernel_size = 5, activation = 'relu', input_shape = (30, 50, 1)))\n",
    "\n",
    "model.add(ZeroPadding2D((1,1)))\n",
    "model.add(Dropout(0.1))\n",
    "model.add(Conv2D(32, kernel_size = 4, activation = 'relu'))\n",
    "\n",
    "model.add(ZeroPadding2D((1,1)))\n",
    "model.add(Dropout(0.1))\n",
    "model.add(Conv2D(16, kernel_size = 3, activation = 'relu'))\n",
    "\n",
    "model.add(ZeroPadding2D((1,1)))\n",
    "model.add(Dropout(0.1))\n",
    "model.add(MaxPooling2D(pool_size = (8,8), strides = (3,3)))\n",
    "model.add(Flatten())\n",
    "model.add(Dense(5, activation='softmax'))\n",
    "\n",
    "tensorboard = TensorBoard(log_dir='log/{}'.format(time()))"
   ]
  },
  {
   "cell_type": "code",
   "execution_count": 86,
   "metadata": {},
   "outputs": [],
   "source": [
    "model.compile(optimizer = Adam(lr = 0.001), loss='categorical_crossentropy', metrics=['accuracy'])"
   ]
  },
  {
   "cell_type": "code",
   "execution_count": 87,
   "metadata": {
    "scrolled": false
   },
   "outputs": [
    {
     "name": "stdout",
     "output_type": "stream",
     "text": [
      "WARNING:tensorflow:From /home/davidshin/anaconda3/envs/tensorflow/lib/python3.6/site-packages/tensorflow/python/ops/math_ops.py:3066: to_int32 (from tensorflow.python.ops.math_ops) is deprecated and will be removed in a future version.\n",
      "Instructions for updating:\n",
      "Use tf.cast instead.\n"
     ]
    },
    {
     "data": {
      "text/plain": [
       "<keras.callbacks.History at 0x7f5f4eda4390>"
      ]
     },
     "execution_count": 87,
     "metadata": {},
     "output_type": "execute_result"
    }
   ],
   "source": [
    "model.fit(X_train, y_train, validation_data =(X_test, y_test), epochs=100, callbacks=[tensorboard], verbose=False, shuffle=True)"
   ]
  },
  {
   "cell_type": "code",
   "execution_count": 88,
   "metadata": {},
   "outputs": [],
   "source": [
    "model.save('model/Exercise_Classification_Shuffle_Fixed_Data_Test.h5')"
   ]
  },
  {
   "cell_type": "code",
   "execution_count": 89,
   "metadata": {},
   "outputs": [],
   "source": [
    "del model"
   ]
  },
  {
   "cell_type": "code",
   "execution_count": null,
   "metadata": {},
   "outputs": [],
   "source": []
  }
 ],
 "metadata": {
  "kernelspec": {
   "display_name": "Python 3",
   "language": "python",
   "name": "python3"
  },
  "language_info": {
   "codemirror_mode": {
    "name": "ipython",
    "version": 3
   },
   "file_extension": ".py",
   "mimetype": "text/x-python",
   "name": "python",
   "nbconvert_exporter": "python",
   "pygments_lexer": "ipython3",
   "version": "3.6.8"
  }
 },
 "nbformat": 4,
 "nbformat_minor": 2
}
