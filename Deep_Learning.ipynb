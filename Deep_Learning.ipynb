{
 "cells": [
  {
   "cell_type": "code",
   "execution_count": 160,
   "metadata": {},
   "outputs": [],
   "source": [
    "import json\n",
    "from pprint import pprint\n",
    "from matplotlib import pyplot as plt\n",
    "import cv2\n",
    "import copy\n",
    "import operator\n",
    "import numpy as np\n",
    "from sklearn.preprocessing import StandardScaler\n",
    "from sklearn.model_selection import train_test_split\n",
    "from sklearn.preprocessing import MinMaxScaler\n",
    "from keras.utils import to_categorical\n",
    "from keras.models import Sequential\n",
    "from keras.layers import Dense, Conv2D, Flatten, MaxPooling2D, ZeroPadding2D\n",
    "import os\n",
    "%matplotlib qt"
   ]
  },
  {
   "cell_type": "code",
   "execution_count": 161,
   "metadata": {},
   "outputs": [],
   "source": [
    "def readJson(file):\n",
    "    with open(file, 'r') as fp:\n",
    "        data = json.load(fp)\n",
    "        \n",
    "    return data"
   ]
  },
  {
   "cell_type": "code",
   "execution_count": 162,
   "metadata": {},
   "outputs": [],
   "source": [
    "def read_jsons(folder):\n",
    "    jsons = [json for json in os.listdir(folder) if json.endswith(\".json\")]\n",
    "    \n",
    "    return jsons"
   ]
  },
  {
   "cell_type": "code",
   "execution_count": 163,
   "metadata": {},
   "outputs": [],
   "source": [
    "def data_points(jsons, json_folder_dir):\n",
    "    data_points = []\n",
    "    \n",
    "    for i in range(0, len(jsons)):\n",
    "        data_points.append([])\n",
    "        with open((json_folder_dir + jsons[i])) as f:\n",
    "            data = json.load(f)\n",
    "        \n",
    "        n_people = len(data['people'])\n",
    "    \n",
    "        for j in range(0, n_people):\n",
    "            data_points[i].append([])\n",
    "            datas = data['people'][j]['pose_keypoints_2d']\n",
    "        \n",
    "            for k in range(0, len(datas)):\n",
    "                data_points[i][j].append(datas[k])\n",
    "                \n",
    "    return data_points"
   ]
  },
  {
   "cell_type": "code",
   "execution_count": 164,
   "metadata": {},
   "outputs": [],
   "source": [
    "def data_classification(data):\n",
    "    body_label = {0:\"Nose\", 1:\"Neck\", 2:\"RShoulder\", 3:\"RElbow\", 4:\"RWrist\", 5:\"LShoulder\", 6:\"LElbow\", 7:\"LWrist\", 8:\"MidHip\", 9:\"RHip\", 10:\"RKnee\", 11:\"RAnkle\", 12:\"LHip\", 13:\"LKnee\",14:\"LAnkle\", 15:\"REye\", 16:\"LEye\", 17:\"REar\", 18:\"LEar\", 19:\"LBigToe\", 20:\"LSmallToe\", 21:\"LHeel\", 22:\"RBigToe\", 23:\"RSmallToe\", 24:\"RHeel\"}\n",
    "    parts = {}\n",
    "    people = {}\n",
    "    \n",
    "    for person in range(0, len(data)):\n",
    "        points = data[person]\n",
    "        for i in range(0, len(points)):\n",
    "            parts[body_label[i]] = points[i]\n",
    "        \n",
    "        people[person] = parts\n",
    "        parts = {}\n",
    "        \n",
    "    return people"
   ]
  },
  {
   "cell_type": "code",
   "execution_count": 165,
   "metadata": {},
   "outputs": [],
   "source": [
    "def organise_data(data):\n",
    "    total = len(data)\n",
    "    people_body_point = {}\n",
    "    \n",
    "    for i in range(0, total):\n",
    "        people = len(data[i])\n",
    "        frame_points = {}\n",
    "        id_number = 0\n",
    "        if people != 0:\n",
    "            for j in range(0, people):\n",
    "                points = data[i][j]\n",
    "                n_points = len(points)\n",
    "                body_points = []\n",
    "                data_certainty = 0\n",
    "                for k in range(0, n_points - 1, 3):\n",
    "                    body_points.append((points[0 + k], points[1 + k]))\n",
    "                    data_certainty += points[2 + k]\n",
    "                    \n",
    "                \n",
    "                data_certainty = data_certainty / 26\n",
    "                \n",
    "                if data_certainty >= 0.5:\n",
    "                    frame_points[id_number] = body_points\n",
    "                    id_number += 1\n",
    "                \n",
    "            organised = data_classification(frame_points)\n",
    "            people_body_point[i] = organised\n",
    "                \n",
    "    return people_body_point"
   ]
  },
  {
   "cell_type": "code",
   "execution_count": 166,
   "metadata": {},
   "outputs": [],
   "source": [
    "def reformat(data):\n",
    "    \n",
    "    exercise = {}\n",
    "    \n",
    "    for i in data:\n",
    "        for j in data[i]:\n",
    "            exercise[i] = data[i][j]\n",
    "            \n",
    "    return exercise"
   ]
  },
  {
   "cell_type": "code",
   "execution_count": 167,
   "metadata": {},
   "outputs": [],
   "source": [
    "def section_separator(data, start, end):\n",
    "    \n",
    "    exercise_one = {}\n",
    "    exercise_two = {}\n",
    "    \n",
    "                \n",
    "    for i in range(start, end + 1):\n",
    "        \n",
    "        for j in data[str(i)]:\n",
    "            if j == '0':\n",
    "                exercise_one[i] = data[str(i)][j]\n",
    "            else:\n",
    "                exercise_two[i] = data[str(i)][j]\n",
    "        \n",
    "#         i += 1\n",
    "\n",
    "    return exercise_one, exercise_two"
   ]
  },
  {
   "cell_type": "code",
   "execution_count": 168,
   "metadata": {},
   "outputs": [],
   "source": [
    "def organiseAllPoints(data):\n",
    "    new_data = {}\n",
    "    \n",
    "    # Initialisation\n",
    "    for keys in data[list(data.keys())[0]]:\n",
    "        \n",
    "        new_data[keys] = []\n",
    "       \n",
    "    for keys in data:\n",
    "        for Lkeys in data[keys]:\n",
    "            coordinate = new_data[Lkeys]\n",
    "            \n",
    "            points = data[keys][Lkeys]\n",
    "            \n",
    "            if points[0] != 0 and points[1] != 0:\n",
    "                previousPoints = copy.deepcopy(points)\n",
    "                coordinate.append(points)\n",
    "            else:\n",
    "                coordinate.append(previousPoints)\n",
    "    \n",
    "            \n",
    "            new_data[Lkeys] = coordinate            \n",
    "    \n",
    "    return new_data"
   ]
  },
  {
   "cell_type": "code",
   "execution_count": 169,
   "metadata": {},
   "outputs": [],
   "source": [
    "def rescale(data):\n",
    "    \n",
    "    allPoints = organiseAllPoints(data)\n",
    "    \n",
    "    new_data = {}\n",
    "    \n",
    "    for keys in allPoints:\n",
    "#         ini = {}\n",
    "#         ini['x'] = []\n",
    "#         ini['y'] = []\n",
    "        \n",
    "        new_data[keys] = []\n",
    "        \n",
    "    fit_points = []\n",
    "    first = True\n",
    "    \n",
    "    for keys in allPoints:\n",
    "        if first:\n",
    "            fit_points = allPoints[keys]\n",
    "            first = False\n",
    "        else:\n",
    "            fit_points + allPoints[keys]\n",
    "            \n",
    "    scaler = StandardScaler().fit(fit_points)\n",
    "    \n",
    "    for keys in allPoints:\n",
    "        points = scaler.transform(allPoints[keys])\n",
    "        \n",
    "#         x = points[:, 0]\n",
    "#         y = points[:, 1]\n",
    "#         x_mean = np.mean(x)\n",
    "#         x_std = np.std(x)\n",
    "#         y_mean = np.mean(y)\n",
    "#         y_std = np.std(y)\n",
    "        \n",
    "#         X = [x_mean, x_std]\n",
    "#         Y = [y_mean, y_std]\n",
    "        \n",
    "#         new_data[keys]['x'] = X\n",
    "#         new_data[keys]['y'] = Y\n",
    "\n",
    "        new_data[keys] = points\n",
    "        \n",
    "    return new_data"
   ]
  },
  {
   "cell_type": "code",
   "execution_count": 170,
   "metadata": {},
   "outputs": [],
   "source": [
    "def merge(master, slave):\n",
    "    original = copy.deepcopy(master)\n",
    "    for i in master:\n",
    "        masterList = master[i]\n",
    "        slaveList = slave[i]\n",
    "        \n",
    "        finalList = np.concatenate((masterList, slaveList), axis = 0)\n",
    "            \n",
    "        original[i] = finalList\n",
    "        \n",
    "    return original"
   ]
  },
  {
   "cell_type": "code",
   "execution_count": 171,
   "metadata": {},
   "outputs": [],
   "source": [
    "def read_folders(superFolder):\n",
    "    subFolders = next(os.walk('Sports_Skeleton/' + superFolder + '/.'))[1]\n",
    "    \n",
    "    keyStart = 0\n",
    "    \n",
    "    total = {}\n",
    "    \n",
    "    first = True\n",
    "    \n",
    "    for i in range(len(subFolders)):\n",
    "        json_folder = 'Sports_Skeleton/' + superFolder + '/' + subFolders[i]\n",
    "        json_folder_slash = json_folder + '/'\n",
    "        \n",
    "        jsons = read_jsons(json_folder)\n",
    "        \n",
    "        data_points1 = data_points(jsons, json_folder_slash)\n",
    "        \n",
    "        part_points = organise_data(data_points1)\n",
    "        \n",
    "        reformat_points = reformat(part_points)\n",
    "        \n",
    "        rescale_points = rescale(reformat_points)\n",
    "        \n",
    "        if first:\n",
    "            total = rescale_points\n",
    "            first = False\n",
    "        else:\n",
    "            for i in rescale_points:\n",
    "                total = merge(total, rescale_points)\n",
    "                                \n",
    "    return total"
   ]
  },
  {
   "cell_type": "code",
   "execution_count": 172,
   "metadata": {},
   "outputs": [],
   "source": [
    "def dicToList(data):\n",
    "    bigList = []\n",
    "    first = True\n",
    "    for i in data:\n",
    "        if first:\n",
    "            bigList = data[i]\n",
    "            first = False\n",
    "        else:\n",
    "             bigList = np.concatenate((bigList, data[i]), axis = 0)\n",
    "    \n",
    "    return bigList"
   ]
  },
  {
   "cell_type": "code",
   "execution_count": 173,
   "metadata": {},
   "outputs": [],
   "source": [
    "# section_player(\"DS3.MOV\", ds4_data, 3580, 4370)\n",
    "# 210, 980\n",
    "# 1430, 2210\n",
    "#2550, 3330\n",
    "#3580, 4370"
   ]
  },
  {
   "cell_type": "code",
   "execution_count": 174,
   "metadata": {
    "scrolled": true
   },
   "outputs": [],
   "source": [
    "squats0 = read_folders('Squats')"
   ]
  },
  {
   "cell_type": "code",
   "execution_count": 175,
   "metadata": {},
   "outputs": [],
   "source": [
    "arm0= read_folders('Biceps')"
   ]
  },
  {
   "cell_type": "code",
   "execution_count": 176,
   "metadata": {},
   "outputs": [],
   "source": [
    "starJump0 = read_folders('Star_Jumps')"
   ]
  },
  {
   "cell_type": "code",
   "execution_count": 177,
   "metadata": {},
   "outputs": [],
   "source": [
    "ds2_data = readJson('Re-identified jsons/DS1.json')\n",
    "ds3_data = readJson('Re-identified jsons/DS2.json')\n",
    "ds4_data = readJson('Re-identified jsons/DS3.json')"
   ]
  },
  {
   "cell_type": "code",
   "execution_count": 178,
   "metadata": {},
   "outputs": [],
   "source": [
    "squat1, arm1 = section_separator(ds2_data, 135, 800)\n",
    "arm2, squat2 = section_separator(ds2_data, 1230, 1910)\n",
    "squat3, arm3 = section_separator(ds2_data, 2700, 3350)\n",
    "arm4, squat4 = section_separator(ds2_data, 3600, 4280)"
   ]
  },
  {
   "cell_type": "code",
   "execution_count": 179,
   "metadata": {},
   "outputs": [],
   "source": [
    "squat5, arm5 = section_separator(ds3_data, 210, 930)\n",
    "arm6, squat6 = section_separator(ds3_data, 1250, 1990)\n",
    "squat7, arm7 = section_separator(ds3_data, 2330, 2980)\n",
    "arm8, squat8 = section_separator(ds3_data, 3725, 4350)\n",
    "squat9, arm9 = section_separator(ds3_data, 4585, 5325)"
   ]
  },
  {
   "cell_type": "code",
   "execution_count": 180,
   "metadata": {},
   "outputs": [],
   "source": [
    "squat10, starJump1 = section_separator(ds4_data, 210, 980)\n",
    "starJump2, squat11 = section_separator(ds4_data, 1430, 2210)\n",
    "squat12, starJump3 = section_separator(ds4_data, 2550, 3330)\n",
    "starJump4, squat13 = section_separator(ds4_data, 3580, 4370)"
   ]
  },
  {
   "cell_type": "code",
   "execution_count": 181,
   "metadata": {},
   "outputs": [],
   "source": [
    "arms_rescale = {}\n",
    "squats_rescale = {}\n",
    "starJumps_rescale = {}"
   ]
  },
  {
   "cell_type": "code",
   "execution_count": 182,
   "metadata": {
    "scrolled": true
   },
   "outputs": [],
   "source": [
    "arms_rescale[0] = rescale(arm1)\n",
    "arms_rescale[1] = rescale(arm2)\n",
    "arms_rescale[2] = rescale(arm3)\n",
    "arms_rescale[3] = rescale(arm4)\n",
    "arms_rescale[4] = rescale(arm5)\n",
    "arms_rescale[5] = rescale(arm6)\n",
    "arms_rescale[6] = rescale(arm7)\n",
    "arms_rescale[7] = rescale(arm8)\n",
    "arms_rescale[8] = rescale(arm9)\n",
    "squats_rescale[0] = rescale(squat1)\n",
    "squats_rescale[1] = rescale(squat2)\n",
    "squats_rescale[2] = rescale(squat3)\n",
    "squats_rescale[3] = rescale(squat4)\n",
    "squats_rescale[4] = rescale(squat5)\n",
    "squats_rescale[5] = rescale(squat6)\n",
    "squats_rescale[6] = rescale(squat7)\n",
    "squats_rescale[7] = rescale(squat8)\n",
    "squats_rescale[8] = rescale(squat9)\n",
    "squats_rescale[9] = rescale(squat10)\n",
    "squats_rescale[10] = rescale(squat11)\n",
    "squats_rescale[11] = rescale(squat12)\n",
    "squats_rescale[12] = rescale(squat13)\n",
    "starJumps_rescale[0] = rescale(starJump1)\n",
    "starJumps_rescale[1] = rescale(starJump2)\n",
    "starJumps_rescale[2] = rescale(starJump3)\n",
    "starJumps_rescale[3] = rescale(starJump4)"
   ]
  },
  {
   "cell_type": "code",
   "execution_count": 183,
   "metadata": {},
   "outputs": [],
   "source": [
    "for i in range(0, 9):\n",
    "    arm0 = merge(arm0, arms_rescale[i])"
   ]
  },
  {
   "cell_type": "code",
   "execution_count": 184,
   "metadata": {},
   "outputs": [],
   "source": [
    "for i in range(0, 13):\n",
    "    squats0 = merge(squats0, squats_rescale[i])"
   ]
  },
  {
   "cell_type": "code",
   "execution_count": 185,
   "metadata": {},
   "outputs": [],
   "source": [
    "for i in range(0, 4):\n",
    "    starJump0 = merge(starJump0, starJumps_rescale[i])"
   ]
  },
  {
   "cell_type": "code",
   "execution_count": 186,
   "metadata": {},
   "outputs": [],
   "source": [
    "arm_size = len(arm0[list(arm0.keys())[0]])"
   ]
  },
  {
   "cell_type": "code",
   "execution_count": 187,
   "metadata": {},
   "outputs": [],
   "source": [
    "squat_size = len(squats0[list(squats0.keys())[0]])"
   ]
  },
  {
   "cell_type": "code",
   "execution_count": 188,
   "metadata": {},
   "outputs": [],
   "source": [
    "starJump_size = len(starJump0[list(starJump0.keys())[0]])"
   ]
  },
  {
   "cell_type": "code",
   "execution_count": 189,
   "metadata": {},
   "outputs": [],
   "source": [
    "arms = dicToList(arm0)"
   ]
  },
  {
   "cell_type": "code",
   "execution_count": 190,
   "metadata": {},
   "outputs": [],
   "source": [
    "squats = dicToList(squats0)"
   ]
  },
  {
   "cell_type": "code",
   "execution_count": 191,
   "metadata": {},
   "outputs": [],
   "source": [
    "starJumps = dicToList(starJump0)"
   ]
  },
  {
   "cell_type": "code",
   "execution_count": 192,
   "metadata": {},
   "outputs": [
    {
     "name": "stdout",
     "output_type": "stream",
     "text": [
      "(387725, 2)\n",
      "(295550, 2)\n",
      "(317775, 2)\n"
     ]
    }
   ],
   "source": [
    "print(arms.shape)\n",
    "print(squats.shape)\n",
    "print(starJumps.shape)"
   ]
  },
  {
   "cell_type": "code",
   "execution_count": 193,
   "metadata": {},
   "outputs": [
    {
     "name": "stdout",
     "output_type": "stream",
     "text": [
      "(15509, 50)\n"
     ]
    }
   ],
   "source": [
    "arms_shape = arms.reshape(arm_size, 50)\n",
    "print(arms_shape.shape)"
   ]
  },
  {
   "cell_type": "code",
   "execution_count": 194,
   "metadata": {},
   "outputs": [
    {
     "name": "stdout",
     "output_type": "stream",
     "text": [
      "(11822, 50)\n"
     ]
    }
   ],
   "source": [
    "squats_shape = squats.reshape(squat_size, 50)\n",
    "print(squats_shape.shape)"
   ]
  },
  {
   "cell_type": "code",
   "execution_count": 195,
   "metadata": {},
   "outputs": [
    {
     "name": "stdout",
     "output_type": "stream",
     "text": [
      "(12711, 50)\n"
     ]
    }
   ],
   "source": [
    "starJumps_shape = starJumps.reshape(starJump_size, 50)\n",
    "print(starJumps_shape.shape)"
   ]
  },
  {
   "cell_type": "code",
   "execution_count": 196,
   "metadata": {},
   "outputs": [
    {
     "name": "stdout",
     "output_type": "stream",
     "text": [
      "(15480, 50)\n",
      "(11820, 50)\n",
      "(12690, 50)\n"
     ]
    }
   ],
   "source": [
    "arms_shape = arms_shape[:-(len(arms_shape) % 30), :]\n",
    "squats_shape = squats_shape[:-(len(squats_shape) % 30), :]\n",
    "starJumps_shape = starJumps_shape[:-(len(starJumps_shape) % 30), :]\n",
    "\n",
    "print(arms_shape.shape)\n",
    "print(squats_shape.shape)\n",
    "print(starJumps_shape.shape)"
   ]
  },
  {
   "cell_type": "code",
   "execution_count": 197,
   "metadata": {},
   "outputs": [
    {
     "name": "stdout",
     "output_type": "stream",
     "text": [
      "(516, 30, 50, 1)\n"
     ]
    }
   ],
   "source": [
    "final_arm = arms_shape.reshape(int(len(arms_shape) / 30), 30, 50, 1)\n",
    "print(final_arm.shape)"
   ]
  },
  {
   "cell_type": "code",
   "execution_count": 198,
   "metadata": {},
   "outputs": [
    {
     "name": "stdout",
     "output_type": "stream",
     "text": [
      "(394, 30, 50, 1)\n"
     ]
    }
   ],
   "source": [
    "final_squats = squats_shape.reshape(int(len(squats_shape)/30), 30, 50, 1)\n",
    "print(final_squats.shape)"
   ]
  },
  {
   "cell_type": "code",
   "execution_count": 199,
   "metadata": {},
   "outputs": [
    {
     "name": "stdout",
     "output_type": "stream",
     "text": [
      "(423, 30, 50, 1)\n"
     ]
    }
   ],
   "source": [
    "final_starJumps = starJumps_shape.reshape(int(len(starJumps_shape)/30), 30, 50, 1)\n",
    "print(final_starJumps.shape)"
   ]
  },
  {
   "cell_type": "code",
   "execution_count": 200,
   "metadata": {},
   "outputs": [
    {
     "name": "stdout",
     "output_type": "stream",
     "text": [
      "(1333,)\n"
     ]
    }
   ],
   "source": [
    "label = np.array([])\n",
    "\n",
    "for i in range(int(len(arms_shape) / 30)):\n",
    "    label = np.append(label, 0)\n",
    "\n",
    "for i in range(int(len(squats_shape)/30)):\n",
    "    label = np.append(label, 1)\n",
    "    \n",
    "for i in range(int(len(starJumps_shape)/30)):\n",
    "    label = np.append(label, 2)\n",
    "    \n",
    "print(label.shape)\n",
    "    "
   ]
  },
  {
   "cell_type": "code",
   "execution_count": 201,
   "metadata": {},
   "outputs": [],
   "source": [
    "x_data = np.concatenate((final_arm, final_squats, final_starJumps))"
   ]
  },
  {
   "cell_type": "code",
   "execution_count": 202,
   "metadata": {},
   "outputs": [
    {
     "data": {
      "text/plain": [
       "(1333, 30, 50, 1)"
      ]
     },
     "execution_count": 202,
     "metadata": {},
     "output_type": "execute_result"
    }
   ],
   "source": [
    "x_data.shape"
   ]
  },
  {
   "cell_type": "code",
   "execution_count": 203,
   "metadata": {},
   "outputs": [],
   "source": [
    "label = label.reshape((int(len(arms_shape) / 30)) + (int(len(squats_shape) / 30)) + (int(len(starJumps_shape) / 30)), 1)"
   ]
  },
  {
   "cell_type": "code",
   "execution_count": 204,
   "metadata": {},
   "outputs": [
    {
     "data": {
      "text/plain": [
       "(1333, 1)"
      ]
     },
     "execution_count": 204,
     "metadata": {},
     "output_type": "execute_result"
    }
   ],
   "source": [
    "label.shape"
   ]
  },
  {
   "cell_type": "code",
   "execution_count": 205,
   "metadata": {},
   "outputs": [],
   "source": [
    "X_train, X_test, y_train, y_test = train_test_split(x_data, label, test_size = 0.3, random_state = 111 )"
   ]
  },
  {
   "cell_type": "code",
   "execution_count": 206,
   "metadata": {},
   "outputs": [],
   "source": [
    "y_train = to_categorical(y_train)\n",
    "y_test = to_categorical(y_test)"
   ]
  },
  {
   "cell_type": "code",
   "execution_count": 207,
   "metadata": {},
   "outputs": [
    {
     "data": {
      "text/plain": [
       "(933, 30, 50, 1)"
      ]
     },
     "execution_count": 207,
     "metadata": {},
     "output_type": "execute_result"
    }
   ],
   "source": [
    "X_train.shape"
   ]
  },
  {
   "cell_type": "code",
   "execution_count": 208,
   "metadata": {},
   "outputs": [],
   "source": [
    "model = Sequential()\n",
    "model.add(Conv2D(64, kernel_size = 5, activation = 'relu', input_shape = (30, 50, 1)))\n",
    "model.add(ZeroPadding2D((1,1)))\n",
    "model.add(Conv2D(32, kernel_size = 4, activation = 'relu'))\n",
    "model.add(ZeroPadding2D((1,1)))\n",
    "model.add(MaxPooling2D(pool_size = (4,4), strides=(2,2)))\n",
    "model.add(Conv2D(16, kernel_size = 3, activation = 'relu'))\n",
    "model.add(ZeroPadding2D((1,1)))\n",
    "# model.add(MaxPooling2D(pool_size = (2,2), strides = (2,2)))\n",
    "# model.add(Conv2D(10, kernel_size = 3, activation = 'relu'))\n",
    "model.add(Flatten())\n",
    "model.add(Dense(3, activation='softmax'))"
   ]
  },
  {
   "cell_type": "code",
   "execution_count": 209,
   "metadata": {},
   "outputs": [],
   "source": [
    "model.compile(optimizer = 'adam', loss='categorical_crossentropy', metrics=['accuracy'])"
   ]
  },
  {
   "cell_type": "code",
   "execution_count": 210,
   "metadata": {
    "scrolled": true
   },
   "outputs": [
    {
     "name": "stdout",
     "output_type": "stream",
     "text": [
      "Train on 933 samples, validate on 400 samples\n",
      "Epoch 1/100\n",
      "933/933 [==============================] - 1s 754us/step - loss: 0.9884 - acc: 0.4834 - val_loss: 0.9125 - val_acc: 0.4775\n",
      "Epoch 2/100\n",
      "933/933 [==============================] - 0s 275us/step - loss: 0.8691 - acc: 0.5391 - val_loss: 0.8753 - val_acc: 0.5150\n",
      "Epoch 3/100\n",
      "933/933 [==============================] - 0s 266us/step - loss: 0.8472 - acc: 0.5359 - val_loss: 0.9481 - val_acc: 0.5275\n",
      "Epoch 4/100\n",
      "933/933 [==============================] - 0s 270us/step - loss: 0.7988 - acc: 0.5852 - val_loss: 0.7932 - val_acc: 0.5300\n",
      "Epoch 5/100\n",
      "933/933 [==============================] - 0s 268us/step - loss: 0.7118 - acc: 0.6206 - val_loss: 0.7770 - val_acc: 0.5775\n",
      "Epoch 6/100\n",
      "933/933 [==============================] - 0s 265us/step - loss: 0.6781 - acc: 0.6624 - val_loss: 0.5887 - val_acc: 0.7425\n",
      "Epoch 7/100\n",
      "933/933 [==============================] - 0s 269us/step - loss: 0.5440 - acc: 0.7674 - val_loss: 0.6364 - val_acc: 0.7050\n",
      "Epoch 8/100\n",
      "933/933 [==============================] - 0s 268us/step - loss: 0.4965 - acc: 0.7824 - val_loss: 0.9432 - val_acc: 0.6750\n",
      "Epoch 9/100\n",
      "933/933 [==============================] - 0s 266us/step - loss: 0.6458 - acc: 0.7353 - val_loss: 0.4790 - val_acc: 0.7750\n",
      "Epoch 10/100\n",
      "933/933 [==============================] - 0s 269us/step - loss: 0.4129 - acc: 0.8189 - val_loss: 0.3604 - val_acc: 0.8350\n",
      "Epoch 11/100\n",
      "933/933 [==============================] - 0s 269us/step - loss: 0.2862 - acc: 0.8714 - val_loss: 0.4236 - val_acc: 0.8075\n",
      "Epoch 12/100\n",
      "933/933 [==============================] - 0s 275us/step - loss: 0.2556 - acc: 0.8853 - val_loss: 0.3120 - val_acc: 0.8700\n",
      "Epoch 13/100\n",
      "933/933 [==============================] - 0s 279us/step - loss: 0.2399 - acc: 0.8896 - val_loss: 0.3484 - val_acc: 0.8475\n",
      "Epoch 14/100\n",
      "933/933 [==============================] - 0s 275us/step - loss: 0.2468 - acc: 0.8885 - val_loss: 0.4764 - val_acc: 0.8000\n",
      "Epoch 15/100\n",
      "933/933 [==============================] - 0s 277us/step - loss: 0.2357 - acc: 0.8864 - val_loss: 0.3808 - val_acc: 0.8525\n",
      "Epoch 16/100\n",
      "933/933 [==============================] - 0s 274us/step - loss: 0.2359 - acc: 0.8917 - val_loss: 0.3120 - val_acc: 0.8775\n",
      "Epoch 17/100\n",
      "933/933 [==============================] - 0s 278us/step - loss: 0.1970 - acc: 0.9078 - val_loss: 0.2961 - val_acc: 0.8575\n",
      "Epoch 18/100\n",
      "933/933 [==============================] - 0s 271us/step - loss: 0.1783 - acc: 0.9143 - val_loss: 0.2588 - val_acc: 0.8875\n",
      "Epoch 19/100\n",
      "933/933 [==============================] - 0s 285us/step - loss: 0.1546 - acc: 0.9271 - val_loss: 0.2237 - val_acc: 0.9125\n",
      "Epoch 20/100\n",
      "933/933 [==============================] - 0s 282us/step - loss: 0.1773 - acc: 0.9250 - val_loss: 0.5269 - val_acc: 0.8650\n",
      "Epoch 21/100\n",
      "933/933 [==============================] - 0s 279us/step - loss: 0.2769 - acc: 0.9003 - val_loss: 0.2661 - val_acc: 0.8850\n",
      "Epoch 22/100\n",
      "933/933 [==============================] - 0s 276us/step - loss: 0.1585 - acc: 0.9335 - val_loss: 0.2149 - val_acc: 0.9000\n",
      "Epoch 23/100\n",
      "933/933 [==============================] - 0s 271us/step - loss: 0.1548 - acc: 0.9293 - val_loss: 0.3066 - val_acc: 0.8725\n",
      "Epoch 24/100\n",
      "933/933 [==============================] - 0s 279us/step - loss: 0.2196 - acc: 0.9175 - val_loss: 0.2573 - val_acc: 0.9000\n",
      "Epoch 25/100\n",
      "933/933 [==============================] - 0s 275us/step - loss: 0.1789 - acc: 0.9335 - val_loss: 0.5464 - val_acc: 0.8350\n",
      "Epoch 26/100\n",
      "933/933 [==============================] - 0s 279us/step - loss: 0.2336 - acc: 0.9185 - val_loss: 0.2683 - val_acc: 0.9025\n",
      "Epoch 27/100\n",
      "933/933 [==============================] - 0s 274us/step - loss: 0.1696 - acc: 0.9389 - val_loss: 0.3399 - val_acc: 0.8750\n",
      "Epoch 28/100\n",
      "933/933 [==============================] - 0s 278us/step - loss: 0.1384 - acc: 0.9464 - val_loss: 0.2526 - val_acc: 0.8950\n",
      "Epoch 29/100\n",
      "933/933 [==============================] - 0s 277us/step - loss: 0.0955 - acc: 0.9625 - val_loss: 0.1868 - val_acc: 0.9275\n",
      "Epoch 30/100\n",
      "933/933 [==============================] - 0s 272us/step - loss: 0.0811 - acc: 0.9711 - val_loss: 0.4008 - val_acc: 0.8800\n",
      "Epoch 31/100\n",
      "933/933 [==============================] - 0s 283us/step - loss: 0.5946 - acc: 0.8307 - val_loss: 0.9766 - val_acc: 0.7225\n",
      "Epoch 32/100\n",
      "933/933 [==============================] - 0s 279us/step - loss: 0.4339 - acc: 0.8371 - val_loss: 0.5633 - val_acc: 0.7675\n",
      "Epoch 33/100\n",
      "933/933 [==============================] - 0s 280us/step - loss: 0.2782 - acc: 0.8596 - val_loss: 0.3111 - val_acc: 0.8425\n",
      "Epoch 34/100\n",
      "933/933 [==============================] - 0s 280us/step - loss: 0.2271 - acc: 0.8928 - val_loss: 0.3957 - val_acc: 0.8475\n",
      "Epoch 35/100\n",
      "933/933 [==============================] - 0s 275us/step - loss: 0.1777 - acc: 0.9164 - val_loss: 0.2417 - val_acc: 0.8900\n",
      "Epoch 36/100\n",
      "933/933 [==============================] - 0s 277us/step - loss: 0.1290 - acc: 0.9432 - val_loss: 0.2399 - val_acc: 0.8950\n",
      "Epoch 37/100\n",
      "933/933 [==============================] - 0s 277us/step - loss: 0.1005 - acc: 0.9571 - val_loss: 0.2082 - val_acc: 0.9100\n",
      "Epoch 38/100\n",
      "933/933 [==============================] - 0s 275us/step - loss: 0.0783 - acc: 0.9711 - val_loss: 0.2042 - val_acc: 0.9025\n",
      "Epoch 39/100\n",
      "933/933 [==============================] - 0s 278us/step - loss: 0.0870 - acc: 0.9625 - val_loss: 0.2836 - val_acc: 0.9100\n",
      "Epoch 40/100\n",
      "933/933 [==============================] - 0s 281us/step - loss: 0.0801 - acc: 0.9678 - val_loss: 0.2163 - val_acc: 0.9050\n",
      "Epoch 41/100\n",
      "933/933 [==============================] - 0s 278us/step - loss: 0.0730 - acc: 0.9796 - val_loss: 0.2615 - val_acc: 0.9050\n",
      "Epoch 42/100\n",
      "933/933 [==============================] - 0s 278us/step - loss: 0.0629 - acc: 0.9764 - val_loss: 0.2624 - val_acc: 0.9000\n",
      "Epoch 43/100\n",
      "933/933 [==============================] - 0s 278us/step - loss: 0.0531 - acc: 0.9861 - val_loss: 0.2515 - val_acc: 0.9175\n",
      "Epoch 44/100\n",
      "933/933 [==============================] - 0s 276us/step - loss: 0.0466 - acc: 0.9807 - val_loss: 0.2446 - val_acc: 0.9325\n",
      "Epoch 45/100\n",
      "933/933 [==============================] - 0s 276us/step - loss: 0.0437 - acc: 0.9850 - val_loss: 0.2731 - val_acc: 0.9150\n",
      "Epoch 46/100\n",
      "933/933 [==============================] - 0s 278us/step - loss: 0.0353 - acc: 0.9882 - val_loss: 0.5129 - val_acc: 0.9175\n",
      "Epoch 47/100\n",
      "933/933 [==============================] - 0s 282us/step - loss: 0.0959 - acc: 0.9614 - val_loss: 0.6102 - val_acc: 0.8500\n",
      "Epoch 48/100\n",
      "933/933 [==============================] - 0s 280us/step - loss: 0.0832 - acc: 0.9753 - val_loss: 0.3187 - val_acc: 0.9025\n",
      "Epoch 49/100\n",
      "933/933 [==============================] - 0s 275us/step - loss: 0.1141 - acc: 0.9657 - val_loss: 0.3956 - val_acc: 0.8950\n",
      "Epoch 50/100\n",
      "933/933 [==============================] - 0s 281us/step - loss: 0.0881 - acc: 0.9721 - val_loss: 0.4477 - val_acc: 0.8875\n",
      "Epoch 51/100\n",
      "933/933 [==============================] - 0s 278us/step - loss: 0.1122 - acc: 0.9636 - val_loss: 0.2286 - val_acc: 0.9250\n",
      "Epoch 52/100\n",
      "933/933 [==============================] - 0s 278us/step - loss: 0.0459 - acc: 0.9850 - val_loss: 0.2512 - val_acc: 0.9200\n",
      "Epoch 53/100\n",
      "933/933 [==============================] - 0s 280us/step - loss: 0.0336 - acc: 0.9914 - val_loss: 0.2764 - val_acc: 0.9125\n",
      "Epoch 54/100\n",
      "933/933 [==============================] - 0s 280us/step - loss: 0.1279 - acc: 0.9550 - val_loss: 0.3082 - val_acc: 0.9200\n",
      "Epoch 55/100\n",
      "933/933 [==============================] - 0s 279us/step - loss: 0.0629 - acc: 0.9753 - val_loss: 0.2289 - val_acc: 0.9225\n",
      "Epoch 56/100\n",
      "933/933 [==============================] - 0s 276us/step - loss: 0.0320 - acc: 0.9893 - val_loss: 0.2747 - val_acc: 0.9350\n",
      "Epoch 57/100\n",
      "933/933 [==============================] - 0s 281us/step - loss: 0.0232 - acc: 0.9946 - val_loss: 0.2516 - val_acc: 0.9350\n",
      "Epoch 58/100\n",
      "933/933 [==============================] - 0s 274us/step - loss: 0.0208 - acc: 0.9946 - val_loss: 0.2842 - val_acc: 0.9275\n",
      "Epoch 59/100\n",
      "933/933 [==============================] - 0s 277us/step - loss: 0.0096 - acc: 1.0000 - val_loss: 0.2881 - val_acc: 0.9350\n",
      "Epoch 60/100\n",
      "933/933 [==============================] - 0s 285us/step - loss: 0.0156 - acc: 0.9946 - val_loss: 0.3068 - val_acc: 0.9275\n"
     ]
    },
    {
     "name": "stdout",
     "output_type": "stream",
     "text": [
      "Epoch 61/100\n",
      "933/933 [==============================] - 0s 275us/step - loss: 0.0084 - acc: 0.9989 - val_loss: 0.3253 - val_acc: 0.9375\n",
      "Epoch 62/100\n",
      "933/933 [==============================] - 0s 277us/step - loss: 0.0074 - acc: 0.9989 - val_loss: 0.3303 - val_acc: 0.9275\n",
      "Epoch 63/100\n",
      "933/933 [==============================] - 0s 271us/step - loss: 0.0040 - acc: 1.0000 - val_loss: 0.3463 - val_acc: 0.9325\n",
      "Epoch 64/100\n",
      "933/933 [==============================] - 0s 277us/step - loss: 0.0027 - acc: 1.0000 - val_loss: 0.3337 - val_acc: 0.9325\n",
      "Epoch 65/100\n",
      "933/933 [==============================] - 0s 278us/step - loss: 0.0018 - acc: 1.0000 - val_loss: 0.3413 - val_acc: 0.9325\n",
      "Epoch 66/100\n",
      "933/933 [==============================] - 0s 279us/step - loss: 0.0014 - acc: 1.0000 - val_loss: 0.3553 - val_acc: 0.9300\n",
      "Epoch 67/100\n",
      "933/933 [==============================] - 0s 274us/step - loss: 0.0013 - acc: 1.0000 - val_loss: 0.3551 - val_acc: 0.9325\n",
      "Epoch 68/100\n",
      "933/933 [==============================] - 0s 279us/step - loss: 0.0012 - acc: 1.0000 - val_loss: 0.3701 - val_acc: 0.9325\n",
      "Epoch 69/100\n",
      "933/933 [==============================] - 0s 278us/step - loss: 0.0011 - acc: 1.0000 - val_loss: 0.3669 - val_acc: 0.9350\n",
      "Epoch 70/100\n",
      "933/933 [==============================] - 0s 280us/step - loss: 9.5006e-04 - acc: 1.0000 - val_loss: 0.3706 - val_acc: 0.9350\n",
      "Epoch 71/100\n",
      "933/933 [==============================] - 0s 275us/step - loss: 0.0015 - acc: 1.0000 - val_loss: 0.3583 - val_acc: 0.9350\n",
      "Epoch 72/100\n",
      "933/933 [==============================] - 0s 280us/step - loss: 9.2266e-04 - acc: 1.0000 - val_loss: 0.3663 - val_acc: 0.9325\n",
      "Epoch 73/100\n",
      "933/933 [==============================] - 0s 271us/step - loss: 7.6113e-04 - acc: 1.0000 - val_loss: 0.3711 - val_acc: 0.9350\n",
      "Epoch 74/100\n",
      "933/933 [==============================] - 0s 280us/step - loss: 7.2485e-04 - acc: 1.0000 - val_loss: 0.3728 - val_acc: 0.9325\n",
      "Epoch 75/100\n",
      "933/933 [==============================] - 0s 278us/step - loss: 6.7694e-04 - acc: 1.0000 - val_loss: 0.3775 - val_acc: 0.9350\n",
      "Epoch 76/100\n",
      "933/933 [==============================] - 0s 280us/step - loss: 6.0815e-04 - acc: 1.0000 - val_loss: 0.3755 - val_acc: 0.9325\n",
      "Epoch 77/100\n",
      "933/933 [==============================] - 0s 280us/step - loss: 5.7274e-04 - acc: 1.0000 - val_loss: 0.3792 - val_acc: 0.9325\n",
      "Epoch 78/100\n",
      "933/933 [==============================] - 0s 281us/step - loss: 5.3544e-04 - acc: 1.0000 - val_loss: 0.3810 - val_acc: 0.9325\n",
      "Epoch 79/100\n",
      "933/933 [==============================] - 0s 277us/step - loss: 5.0612e-04 - acc: 1.0000 - val_loss: 0.3781 - val_acc: 0.9325\n",
      "Epoch 80/100\n",
      "933/933 [==============================] - 0s 280us/step - loss: 4.8802e-04 - acc: 1.0000 - val_loss: 0.3845 - val_acc: 0.9325\n",
      "Epoch 81/100\n",
      "933/933 [==============================] - 0s 277us/step - loss: 4.8562e-04 - acc: 1.0000 - val_loss: 0.3815 - val_acc: 0.9375\n",
      "Epoch 82/100\n",
      "933/933 [==============================] - 0s 280us/step - loss: 4.1923e-04 - acc: 1.0000 - val_loss: 0.3860 - val_acc: 0.9325\n",
      "Epoch 83/100\n",
      "933/933 [==============================] - 0s 273us/step - loss: 4.1820e-04 - acc: 1.0000 - val_loss: 0.3815 - val_acc: 0.9350\n",
      "Epoch 84/100\n",
      "933/933 [==============================] - 0s 278us/step - loss: 4.2285e-04 - acc: 1.0000 - val_loss: 0.3904 - val_acc: 0.9325\n",
      "Epoch 85/100\n",
      "933/933 [==============================] - 0s 285us/step - loss: 3.6056e-04 - acc: 1.0000 - val_loss: 0.3869 - val_acc: 0.9350\n",
      "Epoch 86/100\n",
      "933/933 [==============================] - 0s 283us/step - loss: 3.7065e-04 - acc: 1.0000 - val_loss: 0.3949 - val_acc: 0.9325\n",
      "Epoch 87/100\n",
      "933/933 [==============================] - 0s 279us/step - loss: 3.3487e-04 - acc: 1.0000 - val_loss: 0.3927 - val_acc: 0.9325\n",
      "Epoch 88/100\n",
      "933/933 [==============================] - 0s 277us/step - loss: 3.4355e-04 - acc: 1.0000 - val_loss: 0.3948 - val_acc: 0.9350\n",
      "Epoch 89/100\n",
      "933/933 [==============================] - 0s 276us/step - loss: 3.0983e-04 - acc: 1.0000 - val_loss: 0.3997 - val_acc: 0.9300\n",
      "Epoch 90/100\n",
      "933/933 [==============================] - 0s 279us/step - loss: 2.8753e-04 - acc: 1.0000 - val_loss: 0.3970 - val_acc: 0.9325\n",
      "Epoch 91/100\n",
      "933/933 [==============================] - 0s 275us/step - loss: 2.6735e-04 - acc: 1.0000 - val_loss: 0.4006 - val_acc: 0.9325\n",
      "Epoch 92/100\n",
      "933/933 [==============================] - 0s 281us/step - loss: 2.5229e-04 - acc: 1.0000 - val_loss: 0.3971 - val_acc: 0.9350\n",
      "Epoch 93/100\n",
      "933/933 [==============================] - 0s 278us/step - loss: 2.5262e-04 - acc: 1.0000 - val_loss: 0.3996 - val_acc: 0.9325\n",
      "Epoch 94/100\n",
      "933/933 [==============================] - 0s 279us/step - loss: 2.4038e-04 - acc: 1.0000 - val_loss: 0.4015 - val_acc: 0.9325\n",
      "Epoch 95/100\n",
      "933/933 [==============================] - 0s 277us/step - loss: 2.2492e-04 - acc: 1.0000 - val_loss: 0.4017 - val_acc: 0.9350\n",
      "Epoch 96/100\n",
      "933/933 [==============================] - 0s 279us/step - loss: 2.2804e-04 - acc: 1.0000 - val_loss: 0.4033 - val_acc: 0.9350\n",
      "Epoch 97/100\n",
      "933/933 [==============================] - 0s 277us/step - loss: 2.1457e-04 - acc: 1.0000 - val_loss: 0.4007 - val_acc: 0.9350\n",
      "Epoch 98/100\n",
      "933/933 [==============================] - 0s 279us/step - loss: 2.0322e-04 - acc: 1.0000 - val_loss: 0.4055 - val_acc: 0.9325\n",
      "Epoch 99/100\n",
      "933/933 [==============================] - 0s 281us/step - loss: 1.8927e-04 - acc: 1.0000 - val_loss: 0.4064 - val_acc: 0.9350\n",
      "Epoch 100/100\n",
      "933/933 [==============================] - 0s 278us/step - loss: 1.8820e-04 - acc: 1.0000 - val_loss: 0.4077 - val_acc: 0.9325\n"
     ]
    },
    {
     "data": {
      "text/plain": [
       "<keras.callbacks.History at 0x7fe78b71dd30>"
      ]
     },
     "execution_count": 210,
     "metadata": {},
     "output_type": "execute_result"
    }
   ],
   "source": [
    "model.fit(X_train, y_train, validation_data =(X_test, y_test), epochs=100)"
   ]
  }
 ],
 "metadata": {
  "kernelspec": {
   "display_name": "Python 3",
   "language": "python",
   "name": "python3"
  },
  "language_info": {
   "codemirror_mode": {
    "name": "ipython",
    "version": 3
   },
   "file_extension": ".py",
   "mimetype": "text/x-python",
   "name": "python",
   "nbconvert_exporter": "python",
   "pygments_lexer": "ipython3",
   "version": "3.6.8"
  }
 },
 "nbformat": 4,
 "nbformat_minor": 2
}
