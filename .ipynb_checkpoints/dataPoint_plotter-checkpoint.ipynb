{
 "cells": [
  {
   "cell_type": "code",
   "execution_count": 224,
   "metadata": {},
   "outputs": [],
   "source": [
    "import cv2 \n",
    "import numpy as np\n",
    "from skimage import data, io, color, transform, exposure\n",
    "import os\n",
    "from matplotlib import pyplot as plt\n",
    "from threading import Thread\n",
    "from queue import Queue\n",
    "import json\n",
    "from pprint import pprint\n",
    "\n",
    "class FileVideoStream:\n",
    "    def __init__(self, path, queueSize = 1024):\n",
    "        self.stream = cv2.VideoCapture(path)\n",
    "        self.stopped = False\n",
    "        self.Q = Queue(maxsize = queueSize)\n",
    "        \n",
    "    def start(self):\n",
    "        t = Thread(target = self.update, args = ())\n",
    "        t.daemon = True\n",
    "        t.start()\n",
    "        return self\n",
    "    \n",
    "    def update(self):\n",
    "        while True:\n",
    "            if self.stopped:\n",
    "                return\n",
    "            \n",
    "            if not self.Q.full():\n",
    "                (grabbed, frame) = self.stream.read()\n",
    "                if not grabbed:\n",
    "                    self.stop()\n",
    "                    return\n",
    "                \n",
    "                self.Q.put(frame)\n",
    "    def read(self):\n",
    "        return self.Q.get()\n",
    "    \n",
    "    def more(self):\n",
    "        return self.Q.qsize() > 0\n",
    "    \n",
    "    def stop(self):\n",
    "        self.stopped = True\n"
   ]
  },
  {
   "cell_type": "code",
   "execution_count": 225,
   "metadata": {},
   "outputs": [
    {
     "name": "stdout",
     "output_type": "stream",
     "text": [
      "Loading\n"
     ]
    }
   ],
   "source": [
    "fvs = FileVideoStream(\"result.mp4\").start()\n",
    "\n",
    "loading = False\n",
    "\n",
    "while not fvs.more():\n",
    "    if not loading:\n",
    "        print(\"Loading\")\n",
    "        loading = True\n",
    "\n",
    "while fvs.more():\n",
    "    frame = fvs.read()\n",
    "    cv2.imshow(\"Video\", frame)\n",
    "    if cv2.waitKey(20) & 0xFF == ord('q'):\n",
    "        break\n",
    "        \n",
    "fvs.stop()\n",
    "cv2.destroyAllWindows()"
   ]
  },
  {
   "cell_type": "code",
   "execution_count": 226,
   "metadata": {},
   "outputs": [],
   "source": [
    "def findmaximumpeople(json_folder_dir, jsons, id0, idn):\n",
    "    \n",
    "    if not id0 == idn:\n",
    "        midval = (id0 + idn)//2\n",
    "        leftval = findmaximumpeople(json_folder_dir, jsons, id0, midval)\n",
    "        rightval = findmaximumpeople(json_folder_dir, jsons, midval + 1, idn)\n",
    "        \n",
    "        if leftval >= rightval:\n",
    "            return leftval\n",
    "        else:\n",
    "            return rightval\n",
    "    else:\n",
    "        with open((json_folder_dir + jsons[id0])) as f:\n",
    "            data = json.load(f)\n",
    "        \n",
    "        total_number_of_people = len(data['people'])\n",
    "        \n",
    "#         for i in range(0, total_number_of_people - 1):\n",
    "#             total_points = len(data['people'][i]['pose_keypoints_2d'])\n",
    "#             division = total_points // 3\n",
    "#             summed_certainty = 0\n",
    "#             for j in range(0, total_points + 1, 3):\n",
    "# #                 print(data['people'][i]['pose_keypoints_2d'][j - 1])\n",
    "#                 if j != 0:\n",
    "#                     summed_certainty += data['people'][i]['pose_keypoints_2d'][j - 1]\n",
    "\n",
    "            \n",
    "#             average_certainty = summed_certainty / division\n",
    "            \n",
    "#             if average_certainty < 0.70:\n",
    "#                 total_number_of_people -= 1\n",
    "                \n",
    "        return(total_number_of_people)\n",
    "    "
   ]
  },
  {
   "cell_type": "code",
   "execution_count": 243,
   "metadata": {},
   "outputs": [
    {
     "ename": "ValueError",
     "evalue": "setting an array element with a sequence.",
     "output_type": "error",
     "traceback": [
      "\u001b[1;31m---------------------------------------------------------------------------\u001b[0m",
      "\u001b[1;31mValueError\u001b[0m                                Traceback (most recent call last)",
      "\u001b[1;32m<ipython-input-243-4f4c5a258e29>\u001b[0m in \u001b[0;36m<module>\u001b[1;34m()\u001b[0m\n\u001b[0;32m     18\u001b[0m \u001b[1;33m\u001b[0m\u001b[0m\n\u001b[0;32m     19\u001b[0m     \u001b[1;32mfor\u001b[0m \u001b[0mj\u001b[0m \u001b[1;32min\u001b[0m \u001b[0mrange\u001b[0m\u001b[1;33m(\u001b[0m\u001b[1;36m0\u001b[0m\u001b[1;33m,\u001b[0m \u001b[0mn_people\u001b[0m\u001b[1;33m)\u001b[0m\u001b[1;33m:\u001b[0m\u001b[1;33m\u001b[0m\u001b[0m\n\u001b[1;32m---> 20\u001b[1;33m             \u001b[0mdata_points\u001b[0m\u001b[1;33m[\u001b[0m\u001b[0mi\u001b[0m\u001b[1;33m]\u001b[0m\u001b[1;33m[\u001b[0m\u001b[0mj\u001b[0m\u001b[1;33m]\u001b[0m \u001b[1;33m=\u001b[0m \u001b[0mnp\u001b[0m\u001b[1;33m.\u001b[0m\u001b[0marray\u001b[0m\u001b[1;33m(\u001b[0m\u001b[0mdata\u001b[0m\u001b[1;33m[\u001b[0m\u001b[1;34m'people'\u001b[0m\u001b[1;33m]\u001b[0m\u001b[1;33m[\u001b[0m\u001b[0mj\u001b[0m\u001b[1;33m]\u001b[0m\u001b[1;33m[\u001b[0m\u001b[1;34m'pose_keypoints_2d'\u001b[0m\u001b[1;33m]\u001b[0m\u001b[1;33m)\u001b[0m\u001b[1;33m\u001b[0m\u001b[0m\n\u001b[0m",
      "\u001b[1;31mValueError\u001b[0m: setting an array element with a sequence."
     ]
    }
   ],
   "source": [
    "json_folder = 'DS2'\n",
    "json_folder_slash = 'DS2/'\n",
    "\n",
    "jsons = [json for json in os.listdir(json_folder) if json.endswith(\".json\")]\n",
    "\n",
    "# with open((json_folder_slash + jsons[60])) as f:\n",
    "#     data = json.load(f)\n",
    "\n",
    "number_of_people = findmaximumpeople(json_folder_slash, jsons, 0, (len(jsons) - 1))\n",
    "\n",
    "data_points = np.zeros((len(jsons),number_of_people))\n",
    "\n",
    "for i in range(0, len(jsons)):\n",
    "    with open((json_folder_slash + jsons[i])) as f:\n",
    "        data = json.load(f)\n",
    "        \n",
    "    n_people = len(data['people'])\n",
    "    \n",
    "    for j in range(0, n_people):\n",
    "            data_points[i][j] = 1"
   ]
  },
  {
   "cell_type": "code",
   "execution_count": null,
   "metadata": {},
   "outputs": [],
   "source": []
  },
  {
   "cell_type": "code",
   "execution_count": null,
   "metadata": {},
   "outputs": [],
   "source": []
  }
 ],
 "metadata": {
  "kernelspec": {
   "display_name": "Python 3",
   "language": "python",
   "name": "python3"
  },
  "language_info": {
   "codemirror_mode": {
    "name": "ipython",
    "version": 3
   },
   "file_extension": ".py",
   "mimetype": "text/x-python",
   "name": "python",
   "nbconvert_exporter": "python",
   "pygments_lexer": "ipython3",
   "version": "3.6.5"
  }
 },
 "nbformat": 4,
 "nbformat_minor": 2
}
