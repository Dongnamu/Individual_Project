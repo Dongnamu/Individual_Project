{
 "cells": [
  {
   "cell_type": "code",
   "execution_count": 1,
   "metadata": {},
   "outputs": [
    {
     "name": "stderr",
     "output_type": "stream",
     "text": [
      "Using TensorFlow backend.\n"
     ]
    }
   ],
   "source": [
    "import json\n",
    "from pprint import pprint\n",
    "from matplotlib import pyplot as plt\n",
    "import cv2\n",
    "import copy\n",
    "import operator\n",
    "import numpy as np\n",
    "from sklearn.preprocessing import StandardScaler\n",
    "from sklearn.model_selection import train_test_split\n",
    "from sklearn.preprocessing import MinMaxScaler\n",
    "from keras.utils import to_categorical\n",
    "from keras.models import Sequential\n",
    "from keras.layers import Dense, Conv2D, Flatten\n",
    "import os\n",
    "%matplotlib qt"
   ]
  },
  {
   "cell_type": "code",
   "execution_count": 2,
   "metadata": {},
   "outputs": [],
   "source": [
    "def readJson(file):\n",
    "    with open(file, 'r') as fp:\n",
    "        data = json.load(fp)\n",
    "        \n",
    "    return data"
   ]
  },
  {
   "cell_type": "code",
   "execution_count": 3,
   "metadata": {},
   "outputs": [],
   "source": [
    "def read_jsons(folder):\n",
    "    jsons = [json for json in os.listdir(folder) if json.endswith(\".json\")]\n",
    "    \n",
    "    return jsons"
   ]
  },
  {
   "cell_type": "code",
   "execution_count": 4,
   "metadata": {},
   "outputs": [],
   "source": [
    "def data_points(jsons, json_folder_dir):\n",
    "    data_points = []\n",
    "    \n",
    "    for i in range(0, len(jsons)):\n",
    "        data_points.append([])\n",
    "        with open((json_folder_dir + jsons[i])) as f:\n",
    "            data = json.load(f)\n",
    "        \n",
    "        n_people = len(data['people'])\n",
    "    \n",
    "        for j in range(0, n_people):\n",
    "            data_points[i].append([])\n",
    "            datas = data['people'][j]['pose_keypoints_2d']\n",
    "        \n",
    "            for k in range(0, len(datas)):\n",
    "                data_points[i][j].append(datas[k])\n",
    "                \n",
    "    return data_points"
   ]
  },
  {
   "cell_type": "code",
   "execution_count": 5,
   "metadata": {},
   "outputs": [],
   "source": [
    "def data_classification(data):\n",
    "    body_label = {0:\"Nose\", 1:\"Neck\", 2:\"RShoulder\", 3:\"RElbow\", 4:\"RWrist\", 5:\"LShoulder\", 6:\"LElbow\", 7:\"LWrist\", 8:\"MidHip\", 9:\"RHip\", 10:\"RKnee\", 11:\"RAnkle\", 12:\"LHip\", 13:\"LKnee\",14:\"LAnkle\", 15:\"REye\", 16:\"LEye\", 17:\"REar\", 18:\"LEar\", 19:\"LBigToe\", 20:\"LSmallToe\", 21:\"LHeel\", 22:\"RBigToe\", 23:\"RSmallToe\", 24:\"RHeel\"}\n",
    "    parts = {}\n",
    "    people = {}\n",
    "    \n",
    "    for person in range(0, len(data)):\n",
    "        points = data[person]\n",
    "        for i in range(0, len(points)):\n",
    "            parts[body_label[i]] = points[i]\n",
    "        \n",
    "        people[person] = parts\n",
    "        parts = {}\n",
    "        \n",
    "    return people"
   ]
  },
  {
   "cell_type": "code",
   "execution_count": 6,
   "metadata": {},
   "outputs": [],
   "source": [
    "def organise_data(data, keyStart):\n",
    "    total = len(data)\n",
    "    people_body_point = {}\n",
    "    \n",
    "    for i in range(0, total):\n",
    "        people = len(data[i])\n",
    "        frame_points = {}\n",
    "        id_number = 0\n",
    "        if people != 0:\n",
    "            for j in range(0, people):\n",
    "                points = data[i][j]\n",
    "                n_points = len(points)\n",
    "                body_points = []\n",
    "                data_certainty = 0\n",
    "                for k in range(0, n_points - 1, 3):\n",
    "                    body_points.append((points[0 + k], points[1 + k]))\n",
    "                    data_certainty += points[2 + k]\n",
    "                    \n",
    "                \n",
    "                data_certainty = data_certainty / 26\n",
    "                \n",
    "                if data_certainty >= 0.5:\n",
    "                    frame_points[id_number] = body_points\n",
    "                    id_number += 1\n",
    "                \n",
    "            organised = data_classification(frame_points)\n",
    "            people_body_point[i + keyStart] = organised\n",
    "                \n",
    "    return people_body_point"
   ]
  },
  {
   "cell_type": "code",
   "execution_count": 7,
   "metadata": {},
   "outputs": [],
   "source": [
    "def read_folders(superFolder):\n",
    "    subFolders = next(os.walk('Sports_Skeleton/' + superFolder + '/.'))[1]\n",
    "    \n",
    "    keyStart = 0\n",
    "    \n",
    "    total = {}\n",
    "    \n",
    "    for i in range(len(subFolders)):\n",
    "        json_folder = 'Sports_Skeleton/' + superFolder + '/' + subFolders[i]\n",
    "        json_folder_slash = json_folder + '/'\n",
    "        \n",
    "        jsons = read_jsons(json_folder)\n",
    "        \n",
    "        data_points1 = data_points(jsons, json_folder_slash)\n",
    "        \n",
    "        part_points = organise_data(data_points1, keyStart)\n",
    "        \n",
    "        total.update(part_points)\n",
    "        \n",
    "        keyStart += len(data_points1)\n",
    "                \n",
    "    return total"
   ]
  },
  {
   "cell_type": "code",
   "execution_count": 8,
   "metadata": {},
   "outputs": [],
   "source": [
    "def reformat(data):\n",
    "    \n",
    "    exercise = {}\n",
    "    \n",
    "    for i in data:\n",
    "        for j in data[i]:\n",
    "            exercise[i] = data[i][j]\n",
    "            \n",
    "    return exercise"
   ]
  },
  {
   "cell_type": "code",
   "execution_count": 9,
   "metadata": {},
   "outputs": [],
   "source": [
    "def section_separator(data, start, end):\n",
    "    \n",
    "    exercise_one = {}\n",
    "    exercise_two = {}\n",
    "    \n",
    "                \n",
    "    for i in range(start, end + 1):\n",
    "        \n",
    "        for j in data[str(i)]:\n",
    "            if j == '0':\n",
    "                exercise_one[i] = data[str(i)][j]\n",
    "            else:\n",
    "                exercise_two[i] = data[str(i)][j]\n",
    "        \n",
    "#         i += 1\n",
    "\n",
    "    return exercise_one, exercise_two"
   ]
  },
  {
   "cell_type": "code",
   "execution_count": 10,
   "metadata": {},
   "outputs": [],
   "source": [
    "def organiseAllPoints(data):\n",
    "    new_data = {}\n",
    "    \n",
    "    # Initialisation\n",
    "    for keys in data[list(data.keys())[0]]:\n",
    "        \n",
    "        new_data[keys] = []\n",
    "       \n",
    "    for keys in data:\n",
    "        for Lkeys in data[keys]:\n",
    "            coordinate = new_data[Lkeys]\n",
    "            \n",
    "            points = data[keys][Lkeys]\n",
    "            \n",
    "            if points[0] != 0 and points[1] != 0:\n",
    "                previousPoints = copy.deepcopy(points)\n",
    "                coordinate.append(points)\n",
    "            else:\n",
    "                coordinate.append(previousPoints)\n",
    "    \n",
    "            \n",
    "            new_data[Lkeys] = coordinate            \n",
    "    \n",
    "    return new_data"
   ]
  },
  {
   "cell_type": "code",
   "execution_count": 11,
   "metadata": {},
   "outputs": [],
   "source": [
    "def rescale(data):\n",
    "    \n",
    "    allPoints = organiseAllPoints(data)\n",
    "    \n",
    "    new_data = {}\n",
    "    \n",
    "    for keys in allPoints:\n",
    "#         ini = {}\n",
    "#         ini['x'] = []\n",
    "#         ini['y'] = []\n",
    "        \n",
    "        new_data[keys] = []\n",
    "        \n",
    "    fit_points = []\n",
    "    first = True\n",
    "    \n",
    "    for keys in allPoints:\n",
    "        if first:\n",
    "            fit_points = allPoints[keys]\n",
    "            first = False\n",
    "        else:\n",
    "            fit_points + allPoints[keys]\n",
    "            \n",
    "    scaler = StandardScaler().fit(fit_points)\n",
    "    \n",
    "    for keys in allPoints:\n",
    "        points = scaler.transform(allPoints[keys])\n",
    "        \n",
    "#         x = points[:, 0]\n",
    "#         y = points[:, 1]\n",
    "#         x_mean = np.mean(x)\n",
    "#         x_std = np.std(x)\n",
    "#         y_mean = np.mean(y)\n",
    "#         y_std = np.std(y)\n",
    "        \n",
    "#         X = [x_mean, x_std]\n",
    "#         Y = [y_mean, y_std]\n",
    "        \n",
    "#         new_data[keys]['x'] = X\n",
    "#         new_data[keys]['y'] = Y\n",
    "\n",
    "        new_data[keys] = points\n",
    "        \n",
    "    return new_data"
   ]
  },
  {
   "cell_type": "code",
   "execution_count": 12,
   "metadata": {},
   "outputs": [],
   "source": [
    "def merge(master, slave):\n",
    "    original = copy.deepcopy(master)\n",
    "    for i in master:\n",
    "        masterList = master[i]\n",
    "        slaveList = slave[i]\n",
    "        \n",
    "        finalList = np.concatenate((masterList, slaveList), axis = 0)\n",
    "            \n",
    "        original[i] = finalList\n",
    "        \n",
    "    return original"
   ]
  },
  {
   "cell_type": "code",
   "execution_count": 13,
   "metadata": {},
   "outputs": [],
   "source": [
    "def dicToList(data):\n",
    "    bigList = []\n",
    "    first = True\n",
    "    for i in data:\n",
    "        if first:\n",
    "            bigList = data[i]\n",
    "            first = False\n",
    "        else:\n",
    "             bigList = np.concatenate((bigList, data[i]), axis = 0)\n",
    "    \n",
    "    return bigList"
   ]
  },
  {
   "cell_type": "code",
   "execution_count": 14,
   "metadata": {},
   "outputs": [],
   "source": [
    "# section_player(\"DS3.MOV\", ds4_data, 3580, 4370)\n",
    "# 210, 980\n",
    "# 1430, 2210\n",
    "#2550, 3330\n",
    "#3580, 4370"
   ]
  },
  {
   "cell_type": "code",
   "execution_count": 15,
   "metadata": {
    "scrolled": true
   },
   "outputs": [],
   "source": [
    "squats0_origin = read_folders('Squats')"
   ]
  },
  {
   "cell_type": "code",
   "execution_count": 16,
   "metadata": {},
   "outputs": [],
   "source": [
    "arm0_origin = read_folders('Biceps')"
   ]
  },
  {
   "cell_type": "code",
   "execution_count": 17,
   "metadata": {},
   "outputs": [],
   "source": [
    "starJump0_origin = read_folders('Star_Jumps')"
   ]
  },
  {
   "cell_type": "code",
   "execution_count": 18,
   "metadata": {},
   "outputs": [],
   "source": [
    "ds2_data = readJson('Re-identified jsons/DS1.json')\n",
    "ds3_data = readJson('Re-identified jsons/DS2.json')\n",
    "ds4_data = readJson('Re-identified jsons/DS3.json')"
   ]
  },
  {
   "cell_type": "code",
   "execution_count": 19,
   "metadata": {},
   "outputs": [],
   "source": [
    "squat1, arm1 = section_separator(ds2_data, 135, 800)\n",
    "arm2, squat2 = section_separator(ds2_data, 1230, 1910)\n",
    "squat3, arm3 = section_separator(ds2_data, 2700, 3350)\n",
    "arm4, squat4 = section_separator(ds2_data, 3600, 4280)"
   ]
  },
  {
   "cell_type": "code",
   "execution_count": 20,
   "metadata": {},
   "outputs": [],
   "source": [
    "squat5, arm5 = section_separator(ds3_data, 210, 930)\n",
    "arm6, squat6 = section_separator(ds3_data, 1250, 1990)\n",
    "squat7, arm7 = section_separator(ds3_data, 2330, 2980)\n",
    "arm8, squat8 = section_separator(ds3_data, 3725, 4350)\n",
    "squat9, arm9 = section_separator(ds3_data, 4585, 5325)"
   ]
  },
  {
   "cell_type": "code",
   "execution_count": 21,
   "metadata": {},
   "outputs": [],
   "source": [
    "squat10, starJump1 = section_separator(ds4_data, 210, 980)\n",
    "starJump2, squat11 = section_separator(ds4_data, 1430, 2210)\n",
    "squat12, starJump3 = section_separator(ds4_data, 2550, 3330)\n",
    "starJump4, squat13 = section_separator(ds4_data, 3580, 4370)"
   ]
  },
  {
   "cell_type": "code",
   "execution_count": 22,
   "metadata": {
    "scrolled": true
   },
   "outputs": [],
   "source": [
    "squats0 = reformat(squats0_origin)"
   ]
  },
  {
   "cell_type": "code",
   "execution_count": 23,
   "metadata": {},
   "outputs": [],
   "source": [
    "arm0 = reformat(arm0_origin)"
   ]
  },
  {
   "cell_type": "code",
   "execution_count": 24,
   "metadata": {},
   "outputs": [],
   "source": [
    "starJump0 = reformat(starJump0_origin)"
   ]
  },
  {
   "cell_type": "code",
   "execution_count": 25,
   "metadata": {},
   "outputs": [],
   "source": [
    "arms_rescale = {}\n",
    "squats_rescale = {}\n",
    "starJumps_rescale = {}"
   ]
  },
  {
   "cell_type": "code",
   "execution_count": 26,
   "metadata": {
    "scrolled": true
   },
   "outputs": [],
   "source": [
    "arms_rescale[0] = rescale(arm1)\n",
    "arms_rescale[1] = rescale(arm2)\n",
    "arms_rescale[2] = rescale(arm3)\n",
    "arms_rescale[3] = rescale(arm4)\n",
    "arms_rescale[4] = rescale(arm5)\n",
    "arms_rescale[5] = rescale(arm6)\n",
    "arms_rescale[6] = rescale(arm7)\n",
    "arms_rescale[7] = rescale(arm8)\n",
    "arms_rescale[8] = rescale(arm9)\n",
    "squats_rescale[0] = rescale(squat1)\n",
    "squats_rescale[1] = rescale(squat2)\n",
    "squats_rescale[2] = rescale(squat3)\n",
    "squats_rescale[3] = rescale(squat4)\n",
    "squats_rescale[4] = rescale(squat5)\n",
    "squats_rescale[5] = rescale(squat6)\n",
    "squats_rescale[6] = rescale(squat7)\n",
    "squats_rescale[7] = rescale(squat8)\n",
    "squats_rescale[8] = rescale(squat9)\n",
    "squats_rescale[9] = rescale(squat10)\n",
    "squats_rescale[10] = rescale(squat11)\n",
    "squats_rescale[11] = rescale(squat12)\n",
    "squats_rescale[12] = rescale(squat13)\n",
    "starJumps_rescale[0] = rescale(starJump1)\n",
    "starJumps_rescale[1] = rescale(starJump2)\n",
    "starJumps_rescale[2] = rescale(starJump3)\n",
    "starJumps_rescale[3] = rescale(starJump4)"
   ]
  },
  {
   "cell_type": "code",
   "execution_count": 27,
   "metadata": {},
   "outputs": [],
   "source": [
    "squat0_rescale = rescale(squats0)\n",
    "arm0_rescale = rescale(arm0)\n",
    "starJump0_rescale = rescale(starJump0)"
   ]
  },
  {
   "cell_type": "code",
   "execution_count": 28,
   "metadata": {},
   "outputs": [],
   "source": [
    "for i in range(0, 9):\n",
    "    arm0_rescale = merge(arm0_rescale, arms_rescale[i])"
   ]
  },
  {
   "cell_type": "code",
   "execution_count": 29,
   "metadata": {},
   "outputs": [],
   "source": [
    "for i in range(0, 13):\n",
    "    squat0_rescale = merge(squat0_rescale, squats_rescale[i])"
   ]
  },
  {
   "cell_type": "code",
   "execution_count": 30,
   "metadata": {},
   "outputs": [],
   "source": [
    "for i in range(0, 4):\n",
    "    starJump0_rescale = merge(starJump0_rescale, starJumps_rescale[i])"
   ]
  },
  {
   "cell_type": "code",
   "execution_count": 31,
   "metadata": {},
   "outputs": [],
   "source": [
    "arm_size = len(arm0_rescale[list(arm0_rescale.keys())[0]])"
   ]
  },
  {
   "cell_type": "code",
   "execution_count": 32,
   "metadata": {},
   "outputs": [],
   "source": [
    "squat_size = len(squat0_rescale[list(squat0_rescale.keys())[0]])"
   ]
  },
  {
   "cell_type": "code",
   "execution_count": 33,
   "metadata": {},
   "outputs": [],
   "source": [
    "starJump_size = len(starJump0_rescale[list(starJump0_rescale.keys())[0]])"
   ]
  },
  {
   "cell_type": "code",
   "execution_count": 34,
   "metadata": {},
   "outputs": [],
   "source": [
    "arms = dicToList(arm0_rescale)"
   ]
  },
  {
   "cell_type": "code",
   "execution_count": 35,
   "metadata": {},
   "outputs": [],
   "source": [
    "squats = dicToList(squat0_rescale)"
   ]
  },
  {
   "cell_type": "code",
   "execution_count": 36,
   "metadata": {},
   "outputs": [],
   "source": [
    "starJumps = dicToList(starJump0_rescale)"
   ]
  },
  {
   "cell_type": "code",
   "execution_count": 37,
   "metadata": {},
   "outputs": [],
   "source": [
    "arms_shape = arms.reshape(arm_size, 50)"
   ]
  },
  {
   "cell_type": "code",
   "execution_count": 38,
   "metadata": {},
   "outputs": [],
   "source": [
    "squats_shape = squats.reshape(squat_size, 50)"
   ]
  },
  {
   "cell_type": "code",
   "execution_count": 39,
   "metadata": {},
   "outputs": [],
   "source": [
    "starJumps_shape = starJumps.reshape(starJump_size, 50)"
   ]
  },
  {
   "cell_type": "code",
   "execution_count": 40,
   "metadata": {},
   "outputs": [],
   "source": [
    "arms_shape = arms_shape[:-(len(arms_shape) % 30), :]\n",
    "squats_shape = squats_shape[:-(len(squats_shape) % 30), :]\n",
    "starJumps_shape = starJumps_shape[:-(len(starJumps_shape) % 30), :]"
   ]
  },
  {
   "cell_type": "code",
   "execution_count": 41,
   "metadata": {},
   "outputs": [],
   "source": [
    "final_arm = arms_shape.reshape(int(len(arms_shape) / 30), 30, 50, 1)"
   ]
  },
  {
   "cell_type": "code",
   "execution_count": 42,
   "metadata": {},
   "outputs": [],
   "source": [
    "final_squats = squats_shape.reshape(int(len(squats_shape)/30), 30, 50, 1)"
   ]
  },
  {
   "cell_type": "code",
   "execution_count": 43,
   "metadata": {},
   "outputs": [],
   "source": [
    "final_starJumps = starJumps_shape.reshape(int(len(starJumps_shape)/30), 30, 50, 1)"
   ]
  },
  {
   "cell_type": "code",
   "execution_count": 44,
   "metadata": {},
   "outputs": [],
   "source": [
    "label = np.array([])\n",
    "\n",
    "for i in range(int(len(arms_shape) / 30)):\n",
    "    label = np.append(label, 0)\n",
    "\n",
    "for i in range(int(len(squats_shape)/30)):\n",
    "    label = np.append(label, 1)\n",
    "    \n",
    "for i in range(int(len(starJumps_shape)/30)):\n",
    "    label = np.append(label, 2)\n",
    "    "
   ]
  },
  {
   "cell_type": "code",
   "execution_count": 45,
   "metadata": {},
   "outputs": [],
   "source": [
    "x_data = np.concatenate((final_arm, final_squats, final_starJumps))"
   ]
  },
  {
   "cell_type": "code",
   "execution_count": 46,
   "metadata": {},
   "outputs": [
    {
     "data": {
      "text/plain": [
       "(1675, 30, 50, 1)"
      ]
     },
     "execution_count": 46,
     "metadata": {},
     "output_type": "execute_result"
    }
   ],
   "source": [
    "x_data.shape"
   ]
  },
  {
   "cell_type": "code",
   "execution_count": 47,
   "metadata": {},
   "outputs": [],
   "source": [
    "label = label.reshape((int(len(arms_shape) / 30)) + (int(len(squats_shape) / 30)) + (int(len(starJumps_shape) / 30)), 1)"
   ]
  },
  {
   "cell_type": "code",
   "execution_count": 48,
   "metadata": {},
   "outputs": [
    {
     "data": {
      "text/plain": [
       "(1675, 1)"
      ]
     },
     "execution_count": 48,
     "metadata": {},
     "output_type": "execute_result"
    }
   ],
   "source": [
    "label.shape"
   ]
  },
  {
   "cell_type": "code",
   "execution_count": 49,
   "metadata": {},
   "outputs": [],
   "source": [
    "X_train, X_test, y_train, y_test = train_test_split(x_data, label, test_size = 0.3, random_state = 101)"
   ]
  },
  {
   "cell_type": "code",
   "execution_count": 50,
   "metadata": {},
   "outputs": [],
   "source": [
    "y_train = to_categorical(y_train)\n",
    "y_test = to_categorical(y_test)"
   ]
  },
  {
   "cell_type": "code",
   "execution_count": 51,
   "metadata": {},
   "outputs": [
    {
     "data": {
      "text/plain": [
       "(1172, 30, 50, 1)"
      ]
     },
     "execution_count": 51,
     "metadata": {},
     "output_type": "execute_result"
    }
   ],
   "source": [
    "X_train.shape"
   ]
  },
  {
   "cell_type": "code",
   "execution_count": 52,
   "metadata": {},
   "outputs": [
    {
     "name": "stdout",
     "output_type": "stream",
     "text": [
      "WARNING:tensorflow:From /home/davidshin/anaconda3/envs/tensorflow/lib/python3.6/site-packages/tensorflow/python/framework/op_def_library.py:263: colocate_with (from tensorflow.python.framework.ops) is deprecated and will be removed in a future version.\n",
      "Instructions for updating:\n",
      "Colocations handled automatically by placer.\n"
     ]
    }
   ],
   "source": [
    "model = Sequential()\n",
    "model.add(Conv2D(64, kernel_size = 3, activation = 'relu', input_shape = (30, 50, 1)))\n",
    "model.add(Conv2D(32, kernel_size = 3, activation = 'relu'))\n",
    "model.add(Flatten())\n",
    "model.add(Dense(3, activation='softmax'))"
   ]
  },
  {
   "cell_type": "code",
   "execution_count": 53,
   "metadata": {},
   "outputs": [],
   "source": [
    "model.compile(optimizer = 'adam', loss='categorical_crossentropy', metrics=['accuracy'])"
   ]
  },
  {
   "cell_type": "code",
   "execution_count": 54,
   "metadata": {},
   "outputs": [
    {
     "name": "stdout",
     "output_type": "stream",
     "text": [
      "WARNING:tensorflow:From /home/davidshin/anaconda3/envs/tensorflow/lib/python3.6/site-packages/tensorflow/python/ops/math_ops.py:3066: to_int32 (from tensorflow.python.ops.math_ops) is deprecated and will be removed in a future version.\n",
      "Instructions for updating:\n",
      "Use tf.cast instead.\n",
      "Train on 1172 samples, validate on 503 samples\n",
      "Epoch 1/50\n",
      "1172/1172 [==============================] - 2s 2ms/step - loss: 2.6100 - acc: 0.4002 - val_loss: 1.0641 - val_acc: 0.4851\n",
      "Epoch 2/50\n",
      "1172/1172 [==============================] - 0s 194us/step - loss: 1.0229 - acc: 0.4232 - val_loss: 0.9765 - val_acc: 0.4811\n",
      "Epoch 3/50\n",
      "1172/1172 [==============================] - 0s 192us/step - loss: 0.9985 - acc: 0.4437 - val_loss: 0.9848 - val_acc: 0.5149\n",
      "Epoch 4/50\n",
      "1172/1172 [==============================] - 0s 193us/step - loss: 0.9411 - acc: 0.4633 - val_loss: 0.9054 - val_acc: 0.5109\n",
      "Epoch 5/50\n",
      "1172/1172 [==============================] - 0s 193us/step - loss: 0.8563 - acc: 0.4761 - val_loss: 0.8899 - val_acc: 0.5229\n",
      "Epoch 6/50\n",
      "1172/1172 [==============================] - 0s 195us/step - loss: 0.7884 - acc: 0.5358 - val_loss: 0.8230 - val_acc: 0.5408\n",
      "Epoch 7/50\n",
      "1172/1172 [==============================] - 0s 195us/step - loss: 0.7789 - acc: 0.5614 - val_loss: 0.8199 - val_acc: 0.5348\n",
      "Epoch 8/50\n",
      "1172/1172 [==============================] - 0s 191us/step - loss: 0.7091 - acc: 0.5794 - val_loss: 0.8573 - val_acc: 0.5447\n",
      "Epoch 9/50\n",
      "1172/1172 [==============================] - 0s 199us/step - loss: 0.6792 - acc: 0.6118 - val_loss: 0.7159 - val_acc: 0.6223\n",
      "Epoch 10/50\n",
      "1172/1172 [==============================] - 0s 200us/step - loss: 0.6601 - acc: 0.6519 - val_loss: 0.7794 - val_acc: 0.6083\n",
      "Epoch 11/50\n",
      "1172/1172 [==============================] - 0s 205us/step - loss: 0.6247 - acc: 0.7227 - val_loss: 0.8236 - val_acc: 0.6103\n",
      "Epoch 12/50\n",
      "1172/1172 [==============================] - 0s 193us/step - loss: 0.6070 - acc: 0.7253 - val_loss: 0.7797 - val_acc: 0.6541\n",
      "Epoch 13/50\n",
      "1172/1172 [==============================] - 0s 199us/step - loss: 0.5395 - acc: 0.7765 - val_loss: 0.9890 - val_acc: 0.6660\n",
      "Epoch 14/50\n",
      "1172/1172 [==============================] - 0s 200us/step - loss: 0.5045 - acc: 0.8046 - val_loss: 0.8547 - val_acc: 0.7117\n",
      "Epoch 15/50\n",
      "1172/1172 [==============================] - 0s 191us/step - loss: 0.4389 - acc: 0.8447 - val_loss: 0.7844 - val_acc: 0.7237\n",
      "Epoch 16/50\n",
      "1172/1172 [==============================] - 0s 194us/step - loss: 0.4049 - acc: 0.8746 - val_loss: 0.7468 - val_acc: 0.7555\n",
      "Epoch 17/50\n",
      "1172/1172 [==============================] - 0s 200us/step - loss: 0.3840 - acc: 0.8695 - val_loss: 0.7313 - val_acc: 0.7614\n",
      "Epoch 18/50\n",
      "1172/1172 [==============================] - 0s 201us/step - loss: 0.3755 - acc: 0.8729 - val_loss: 0.7302 - val_acc: 0.7773\n",
      "Epoch 19/50\n",
      "1172/1172 [==============================] - 0s 199us/step - loss: 0.3381 - acc: 0.8985 - val_loss: 0.8033 - val_acc: 0.7694\n",
      "Epoch 20/50\n",
      "1172/1172 [==============================] - 0s 206us/step - loss: 0.3234 - acc: 0.9172 - val_loss: 0.6840 - val_acc: 0.8131\n",
      "Epoch 21/50\n",
      "1172/1172 [==============================] - 0s 203us/step - loss: 0.2575 - acc: 0.9266 - val_loss: 0.6871 - val_acc: 0.8290\n",
      "Epoch 22/50\n",
      "1172/1172 [==============================] - 0s 198us/step - loss: 0.2172 - acc: 0.9480 - val_loss: 0.9440 - val_acc: 0.7813\n",
      "Epoch 23/50\n",
      "1172/1172 [==============================] - 0s 199us/step - loss: 0.3041 - acc: 0.9232 - val_loss: 0.7428 - val_acc: 0.8091\n",
      "Epoch 24/50\n",
      "1172/1172 [==============================] - 0s 204us/step - loss: 0.2104 - acc: 0.9531 - val_loss: 0.7369 - val_acc: 0.8330\n",
      "Epoch 25/50\n",
      "1172/1172 [==============================] - 0s 195us/step - loss: 0.1680 - acc: 0.9718 - val_loss: 0.7721 - val_acc: 0.8012\n",
      "Epoch 26/50\n",
      "1172/1172 [==============================] - 0s 198us/step - loss: 0.1636 - acc: 0.9548 - val_loss: 0.6228 - val_acc: 0.8410\n",
      "Epoch 27/50\n",
      "1172/1172 [==============================] - 0s 204us/step - loss: 0.0985 - acc: 0.9684 - val_loss: 0.6280 - val_acc: 0.8330\n",
      "Epoch 28/50\n",
      "1172/1172 [==============================] - 0s 196us/step - loss: 0.1017 - acc: 0.9684 - val_loss: 0.7269 - val_acc: 0.8131\n",
      "Epoch 29/50\n",
      "1172/1172 [==============================] - 0s 197us/step - loss: 0.0766 - acc: 0.9770 - val_loss: 0.6830 - val_acc: 0.8330\n",
      "Epoch 30/50\n",
      "1172/1172 [==============================] - 0s 207us/step - loss: 0.0739 - acc: 0.9718 - val_loss: 0.6847 - val_acc: 0.8350\n",
      "Epoch 31/50\n",
      "1172/1172 [==============================] - 0s 209us/step - loss: 0.0528 - acc: 0.9821 - val_loss: 0.7467 - val_acc: 0.8588\n",
      "Epoch 32/50\n",
      "1172/1172 [==============================] - 0s 212us/step - loss: 0.0381 - acc: 0.9846 - val_loss: 0.7362 - val_acc: 0.8310\n",
      "Epoch 33/50\n",
      "1172/1172 [==============================] - 0s 196us/step - loss: 0.0517 - acc: 0.9829 - val_loss: 0.7832 - val_acc: 0.8091\n",
      "Epoch 34/50\n",
      "1172/1172 [==============================] - 0s 195us/step - loss: 0.0536 - acc: 0.9855 - val_loss: 0.7545 - val_acc: 0.8211\n",
      "Epoch 35/50\n",
      "1172/1172 [==============================] - 0s 198us/step - loss: 0.0392 - acc: 0.9898 - val_loss: 0.7570 - val_acc: 0.8231\n",
      "Epoch 36/50\n",
      "1172/1172 [==============================] - 0s 198us/step - loss: 0.0445 - acc: 0.9863 - val_loss: 0.7939 - val_acc: 0.7952\n",
      "Epoch 37/50\n",
      "1172/1172 [==============================] - 0s 194us/step - loss: 0.0467 - acc: 0.9863 - val_loss: 0.7680 - val_acc: 0.8211\n",
      "Epoch 38/50\n",
      "1172/1172 [==============================] - 0s 202us/step - loss: 0.0223 - acc: 0.9940 - val_loss: 0.8096 - val_acc: 0.8290\n",
      "Epoch 39/50\n",
      "1172/1172 [==============================] - 0s 201us/step - loss: 0.0173 - acc: 0.9966 - val_loss: 0.8228 - val_acc: 0.8350\n",
      "Epoch 40/50\n",
      "1172/1172 [==============================] - 0s 194us/step - loss: 0.0260 - acc: 0.9932 - val_loss: 0.8194 - val_acc: 0.8270\n",
      "Epoch 41/50\n",
      "1172/1172 [==============================] - 0s 199us/step - loss: 0.0189 - acc: 0.9957 - val_loss: 0.8301 - val_acc: 0.8151\n",
      "Epoch 42/50\n",
      "1172/1172 [==============================] - 0s 205us/step - loss: 0.0170 - acc: 0.9966 - val_loss: 0.9171 - val_acc: 0.8191\n",
      "Epoch 43/50\n",
      "1172/1172 [==============================] - 0s 204us/step - loss: 0.0338 - acc: 0.9906 - val_loss: 0.8869 - val_acc: 0.8091\n",
      "Epoch 44/50\n",
      "1172/1172 [==============================] - 0s 203us/step - loss: 0.0215 - acc: 0.9949 - val_loss: 0.7329 - val_acc: 0.8410\n",
      "Epoch 45/50\n",
      "1172/1172 [==============================] - 0s 201us/step - loss: 0.0159 - acc: 0.9983 - val_loss: 0.7252 - val_acc: 0.8410\n",
      "Epoch 46/50\n",
      "1172/1172 [==============================] - 0s 193us/step - loss: 0.0069 - acc: 0.9983 - val_loss: 0.7493 - val_acc: 0.8469\n",
      "Epoch 47/50\n",
      "1172/1172 [==============================] - 0s 202us/step - loss: 0.0045 - acc: 1.0000 - val_loss: 0.7661 - val_acc: 0.8449\n",
      "Epoch 48/50\n",
      "1172/1172 [==============================] - 0s 198us/step - loss: 0.0046 - acc: 0.9991 - val_loss: 0.7825 - val_acc: 0.8489\n",
      "Epoch 49/50\n",
      "1172/1172 [==============================] - 0s 203us/step - loss: 0.0102 - acc: 0.9974 - val_loss: 0.8820 - val_acc: 0.8131\n",
      "Epoch 50/50\n",
      "1172/1172 [==============================] - 0s 198us/step - loss: 0.0079 - acc: 0.9991 - val_loss: 0.7948 - val_acc: 0.8410\n"
     ]
    },
    {
     "data": {
      "text/plain": [
       "<keras.callbacks.History at 0x7fe941bf1b38>"
      ]
     },
     "execution_count": 54,
     "metadata": {},
     "output_type": "execute_result"
    }
   ],
   "source": [
    "model.fit(X_train, y_train, validation_data =(X_test, y_test), epochs=50)"
   ]
  },
  {
   "cell_type": "code",
   "execution_count": 55,
   "metadata": {},
   "outputs": [
    {
     "data": {
      "text/plain": [
       "array([[9.9998343e-01, 1.2622317e-24, 1.6519494e-05],\n",
       "       [1.3710779e-05, 1.9089579e-07, 9.9998605e-01],\n",
       "       [1.0000000e+00, 0.0000000e+00, 1.3104289e-09],\n",
       "       [6.4908143e-15, 1.0000000e+00, 6.0465081e-14]], dtype=float32)"
      ]
     },
     "execution_count": 55,
     "metadata": {},
     "output_type": "execute_result"
    }
   ],
   "source": [
    "model.predict(X_test[:4])"
   ]
  },
  {
   "cell_type": "code",
   "execution_count": 56,
   "metadata": {},
   "outputs": [
    {
     "data": {
      "text/plain": [
       "array([[1., 0., 0.],\n",
       "       [0., 0., 1.],\n",
       "       [1., 0., 0.],\n",
       "       [0., 1., 0.]], dtype=float32)"
      ]
     },
     "execution_count": 56,
     "metadata": {},
     "output_type": "execute_result"
    }
   ],
   "source": [
    "y_test[:4]"
   ]
  }
 ],
 "metadata": {
  "kernelspec": {
   "display_name": "Python 3",
   "language": "python",
   "name": "python3"
  },
  "language_info": {
   "codemirror_mode": {
    "name": "ipython",
    "version": 3
   },
   "file_extension": ".py",
   "mimetype": "text/x-python",
   "name": "python",
   "nbconvert_exporter": "python",
   "pygments_lexer": "ipython3",
   "version": "3.6.8"
  }
 },
 "nbformat": 4,
 "nbformat_minor": 2
}
