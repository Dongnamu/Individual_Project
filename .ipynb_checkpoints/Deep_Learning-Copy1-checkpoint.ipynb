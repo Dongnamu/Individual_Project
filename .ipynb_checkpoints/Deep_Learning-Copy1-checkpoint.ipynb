{
 "cells": [
  {
   "cell_type": "code",
   "execution_count": 1,
   "metadata": {},
   "outputs": [
    {
     "name": "stderr",
     "output_type": "stream",
     "text": [
      "Using TensorFlow backend.\n"
     ]
    }
   ],
   "source": [
    "import json\n",
    "from pprint import pprint\n",
    "from matplotlib import pyplot as plt\n",
    "import cv2\n",
    "import copy\n",
    "import operator\n",
    "import numpy as np\n",
    "from sklearn.preprocessing import StandardScaler\n",
    "from sklearn.model_selection import train_test_split\n",
    "from sklearn.preprocessing import MinMaxScaler\n",
    "from keras.utils import to_categorical\n",
    "from keras.models import Sequential\n",
    "from keras.layers import Dense, Conv2D, Flatten, MaxPooling2D, ZeroPadding2D, Dropout\n",
    "from keras.callbacks import TensorBoard\n",
    "from keras.models import load_model\n",
    "from keras.optimizers import Adam\n",
    "from time import time\n",
    "import os\n",
    "%matplotlib qt"
   ]
  },
  {
   "cell_type": "code",
   "execution_count": 2,
   "metadata": {},
   "outputs": [],
   "source": [
    "def readJson(file):\n",
    "    with open(file, 'r') as fp:\n",
    "        data = json.load(fp)\n",
    "        \n",
    "    return data"
   ]
  },
  {
   "cell_type": "code",
   "execution_count": 3,
   "metadata": {},
   "outputs": [],
   "source": [
    "def read_jsons(folder):\n",
    "    jsons = [json for json in os.listdir(folder) if json.endswith(\".json\")]\n",
    "    \n",
    "    return jsons"
   ]
  },
  {
   "cell_type": "code",
   "execution_count": 4,
   "metadata": {},
   "outputs": [],
   "source": [
    "def data_points(jsons, json_folder_dir):\n",
    "    data_points = []\n",
    "    \n",
    "    for i in range(0, len(jsons)):\n",
    "        data_points.append([])\n",
    "        with open((json_folder_dir + jsons[i])) as f:\n",
    "            data = json.load(f)\n",
    "        \n",
    "        n_people = len(data['people'])\n",
    "    \n",
    "        for j in range(0, n_people):\n",
    "            data_points[i].append([])\n",
    "            datas = data['people'][j]['pose_keypoints_2d']\n",
    "        \n",
    "            for k in range(0, len(datas)):\n",
    "                data_points[i][j].append(datas[k])\n",
    "                \n",
    "    return data_points"
   ]
  },
  {
   "cell_type": "code",
   "execution_count": 5,
   "metadata": {},
   "outputs": [],
   "source": [
    "def data_classification(data):\n",
    "    body_label = {0:\"Nose\", 1:\"Neck\", 2:\"RShoulder\", 3:\"RElbow\", 4:\"RWrist\", 5:\"LShoulder\", 6:\"LElbow\", 7:\"LWrist\", 8:\"MidHip\", 9:\"RHip\", 10:\"RKnee\", 11:\"RAnkle\", 12:\"LHip\", 13:\"LKnee\",14:\"LAnkle\", 15:\"REye\", 16:\"LEye\", 17:\"REar\", 18:\"LEar\", 19:\"LBigToe\", 20:\"LSmallToe\", 21:\"LHeel\", 22:\"RBigToe\", 23:\"RSmallToe\", 24:\"RHeel\"}\n",
    "    parts = {}\n",
    "    people = {}\n",
    "    \n",
    "    for person in range(0, len(data)):\n",
    "        points = data[person]\n",
    "        for i in range(0, len(points)):\n",
    "            parts[body_label[i]] = points[i]\n",
    "        \n",
    "        people[person] = parts\n",
    "        parts = {}\n",
    "        \n",
    "    return people"
   ]
  },
  {
   "cell_type": "code",
   "execution_count": 6,
   "metadata": {},
   "outputs": [],
   "source": [
    "def organise_data(data, number):\n",
    "    total = len(data)\n",
    "    people_body_point = {}\n",
    "    \n",
    "    for i in range(0, total):\n",
    "        people = len(data[i])\n",
    "        frame_points = {}\n",
    "        id_number = 0\n",
    "        if people != 0:\n",
    "            for j in range(0, people):\n",
    "                points = data[i][j]\n",
    "                n_points = len(points)\n",
    "                body_points = []\n",
    "                data_certainty = 0\n",
    "                for k in range(0, n_points - 1, 3):\n",
    "                    body_points.append((points[0 + k], points[1 + k]))\n",
    "                    data_certainty += points[2 + k]\n",
    "                    \n",
    "                \n",
    "                data_certainty = data_certainty / number\n",
    "                \n",
    "                if data_certainty >= 0.5:\n",
    "                    frame_points[id_number] = body_points\n",
    "                    id_number += 1\n",
    "                \n",
    "            organised = data_classification(frame_points)\n",
    "            people_body_point[i] = organised\n",
    "                \n",
    "    return people_body_point"
   ]
  },
  {
   "cell_type": "code",
   "execution_count": 7,
   "metadata": {},
   "outputs": [],
   "source": [
    "def reformat(data):\n",
    "    \n",
    "    exercise = {}\n",
    "    \n",
    "    for i in data:\n",
    "        for j in data[i]:\n",
    "            exercise[i] = data[i][j]\n",
    "            \n",
    "    return exercise"
   ]
  },
  {
   "cell_type": "code",
   "execution_count": 8,
   "metadata": {},
   "outputs": [],
   "source": [
    "def section_separator(data, start, end):\n",
    "    \n",
    "    exercise_one = {}\n",
    "    exercise_two = {}\n",
    "    \n",
    "                \n",
    "    for i in range(start, end + 1):\n",
    "        \n",
    "        for j in data[str(i)]:\n",
    "            if j == '0':\n",
    "                exercise_one[i] = data[str(i)][j]\n",
    "            else:\n",
    "                exercise_two[i] = data[str(i)][j]\n",
    "        \n",
    "#         i += 1\n",
    "\n",
    "    return exercise_one, exercise_two"
   ]
  },
  {
   "cell_type": "code",
   "execution_count": 9,
   "metadata": {},
   "outputs": [],
   "source": [
    "def organiseAllPoints(data):\n",
    "    new_data = {}\n",
    "    \n",
    "    keys = ['Nose', 'Neck', 'RShoulder', 'RElbow', 'RWrist', 'LShoulder', 'LElbow', 'LWrist', 'MidHip', 'RHip', 'RKnee', 'RAnkle', 'LHip', 'LKnee', 'LAnkle', 'REye', 'LEye', 'REar', 'LEar', 'LBigToe', 'LSmallToe', 'LHeel', 'RBigToe', 'RSmallToe', 'RHeel']\n",
    "    \n",
    "    # Initialisation\n",
    "    for i in range(len(keys)):\n",
    "        \n",
    "        new_data[keys[i]] = []\n",
    "       \n",
    "    for keys in data:\n",
    "        for Lkeys in data[keys]:\n",
    "            coordinate = new_data[Lkeys]\n",
    "            \n",
    "            points = data[keys][Lkeys]\n",
    "            \n",
    "            if points[0] != 0 and points[1] != 0:\n",
    "                previousPoints = copy.deepcopy(points)\n",
    "                coordinate.append(points)\n",
    "            else:\n",
    "                coordinate.append(previousPoints)\n",
    "            \n",
    "#             coordinate.append(points)\n",
    "            \n",
    "            new_data[Lkeys] = coordinate            \n",
    "    \n",
    "    return new_data"
   ]
  },
  {
   "cell_type": "code",
   "execution_count": 10,
   "metadata": {},
   "outputs": [],
   "source": [
    "def rescale(data):\n",
    "    \n",
    "    allPoints = organiseAllPoints(data)\n",
    "        \n",
    "    new_data = {}\n",
    "    \n",
    "    for keys in allPoints:\n",
    "#         ini = {}\n",
    "#         ini['x'] = []\n",
    "#         ini['y'] = []\n",
    "        \n",
    "        new_data[keys] = []\n",
    "        \n",
    "    fit_points = []\n",
    "    first = True\n",
    "    \n",
    "    for keys in allPoints:\n",
    "        if first:\n",
    "            fit_points = allPoints[keys]\n",
    "            first = False\n",
    "        else:\n",
    "            fit_points + allPoints[keys]\n",
    "            \n",
    "    scaler = StandardScaler().fit(fit_points)\n",
    "    \n",
    "    for keys in allPoints:\n",
    "        points = scaler.transform(allPoints[keys])\n",
    "        \n",
    "#         x = points[:, 0]\n",
    "#         y = points[:, 1]\n",
    "#         x_mean = np.mean(x)\n",
    "#         x_std = np.std(x)\n",
    "#         y_mean = np.mean(y)\n",
    "#         y_std = np.std(y)\n",
    "        \n",
    "#         X = [x_mean, x_std]\n",
    "#         Y = [y_mean, y_std]\n",
    "        \n",
    "#         new_data[keys]['x'] = X\n",
    "#         new_data[keys]['y'] = Y\n",
    "\n",
    "        new_data[keys] = points\n",
    "        \n",
    "    return new_data"
   ]
  },
  {
   "cell_type": "code",
   "execution_count": 11,
   "metadata": {},
   "outputs": [],
   "source": [
    "def merge(master, slave):\n",
    "    original = copy.deepcopy(master)\n",
    "    for i in master:\n",
    "        masterList = master[i]\n",
    "        slaveList = slave[i]\n",
    "        \n",
    "        finalList = np.concatenate((masterList, slaveList), axis = 0)\n",
    "            \n",
    "        original[i] = finalList\n",
    "        \n",
    "    return original"
   ]
  },
  {
   "cell_type": "code",
   "execution_count": 12,
   "metadata": {},
   "outputs": [],
   "source": [
    "def returnNumber(superFolder, subFolder):\n",
    "    number = 25\n",
    "    \n",
    "    if superFolder == 'Star_Jumps':\n",
    "        if subFolder == 'Starjump10':\n",
    "            number = 26\n",
    "        if subFolder == 'Starjump7' or 'Starjump8' or 'Starjump9':\n",
    "            number = 20\n",
    "        \n",
    "    if superFolder == 'Squats':\n",
    "        number = 25\n",
    "\n",
    "    if superFolder == 'Biceps':\n",
    "        if subFolder == 'Bicep8' or subFolder == 'Bicep9' or subFolder == 'Bicep10':\n",
    "            number = 20\n",
    "\n",
    "    if superFolder == 'Chests':\n",
    "        if subFolder == 'Chest6' or subFolder == 'Chest7' or subFolder == 'Chest8':\n",
    "            number = 20\n",
    "\n",
    "        if subFolder == 'Chest12':\n",
    "            number = 15\n",
    "\n",
    "    if superFolder == 'Punches':\n",
    "        number = 20\n",
    "        \n",
    "    return number"
   ]
  },
  {
   "cell_type": "code",
   "execution_count": 13,
   "metadata": {},
   "outputs": [],
   "source": [
    "def read_folders(superFolder):\n",
    "    subFolders = next(os.walk('Sports_Skeleton/' + superFolder + '/.'))[1]\n",
    "    \n",
    "    keyStart = 0\n",
    "    \n",
    "    total = {}\n",
    "    \n",
    "    first = True\n",
    "    \n",
    "    for i in range(len(subFolders)):\n",
    "        json_folder = 'Sports_Skeleton/' + superFolder + '/' + subFolders[i]\n",
    "        \n",
    "        number = returnNumber(superFolder, subFolders[i]) \n",
    "            \n",
    "        json_folder_slash = json_folder + '/'\n",
    "        \n",
    "        jsons = read_jsons(json_folder)\n",
    "        \n",
    "        data_points1 = data_points(jsons, json_folder_slash)\n",
    "        \n",
    "        part_points = organise_data(data_points1, number)\n",
    "                \n",
    "        reformat_points = reformat(part_points)\n",
    "        \n",
    "        rescale_points = rescale(reformat_points)\n",
    "        \n",
    "        if first:\n",
    "            total = rescale_points\n",
    "            first = False\n",
    "        else:\n",
    "            for i in rescale_points:\n",
    "                total = merge(total, rescale_points)\n",
    "                                \n",
    "    return total"
   ]
  },
  {
   "cell_type": "code",
   "execution_count": 14,
   "metadata": {},
   "outputs": [],
   "source": [
    "def dicToList(data):\n",
    "    bigList = []\n",
    "    first = True\n",
    "    for i in data:\n",
    "        if first:\n",
    "            bigList = data[i]\n",
    "            first = False\n",
    "        else:\n",
    "             bigList = np.concatenate((bigList, data[i]), axis = 0)\n",
    "    \n",
    "    return bigList"
   ]
  },
  {
   "cell_type": "code",
   "execution_count": 15,
   "metadata": {},
   "outputs": [],
   "source": [
    "def findmaximumpeople(json_folder_dir, jsons, id0, idn):\n",
    "    \n",
    "    if not id0 == idn:\n",
    "        midval = (id0 + idn)//2\n",
    "        leftval = findmaximumpeople(json_folder_dir, jsons, id0, midval)\n",
    "        rightval = findmaximumpeople(json_folder_dir, jsons, midval + 1, idn)\n",
    "        \n",
    "        if leftval >= rightval:\n",
    "            return leftval\n",
    "        else:\n",
    "            return rightval\n",
    "    else:\n",
    "        with open((json_folder_dir + jsons[id0])) as f:\n",
    "            data = json.load(f)\n",
    "        \n",
    "        number = 0\n",
    "        \n",
    "        for item in data['people']:\n",
    "            data_points = item['pose_keypoints_2d']\n",
    "            \n",
    "            total_certainty = 0\n",
    "            \n",
    "            n_points = len(data_points)\n",
    "            \n",
    "            division = 0\n",
    "            \n",
    "            for k in range(0, n_points - 1, 3):\n",
    "                total_certainty += data_points[2 + k]\n",
    "                division += 1\n",
    "                \n",
    "            total_certainty = total_certainty / 20\n",
    "        \n",
    "            if (total_certainty >= 0.5):\n",
    "                number += 1\n",
    "\n",
    "                \n",
    "        return number\n",
    "    "
   ]
  },
  {
   "cell_type": "code",
   "execution_count": 16,
   "metadata": {},
   "outputs": [],
   "source": [
    "# section_player(\"DS3.MOV\", ds4_data, 3580, 4370)\n",
    "# 210, 980\n",
    "# 1430, 2210\n",
    "#2550, 3330\n",
    "#3580, 4370"
   ]
  },
  {
   "cell_type": "code",
   "execution_count": 17,
   "metadata": {},
   "outputs": [],
   "source": [
    "json_folder = 'Sports_Skeleton/Punches/Punches13'\n",
    "json_folder_slash = json_folder + '/'\n",
    "\n",
    "jsons = read_jsons(json_folder)\n",
    "\n",
    "number_of_people = findmaximumpeople(json_folder_slash, jsons, 0, (len(jsons) - 1))"
   ]
  },
  {
   "cell_type": "code",
   "execution_count": 18,
   "metadata": {},
   "outputs": [
    {
     "data": {
      "text/plain": [
       "1"
      ]
     },
     "execution_count": 18,
     "metadata": {},
     "output_type": "execute_result"
    }
   ],
   "source": [
    "number_of_people"
   ]
  },
  {
   "cell_type": "code",
   "execution_count": 19,
   "metadata": {
    "scrolled": true
   },
   "outputs": [],
   "source": [
    "squats0 = read_folders('Squats')"
   ]
  },
  {
   "cell_type": "code",
   "execution_count": 20,
   "metadata": {},
   "outputs": [],
   "source": [
    "arm0 = read_folders('Biceps')"
   ]
  },
  {
   "cell_type": "code",
   "execution_count": 21,
   "metadata": {},
   "outputs": [],
   "source": [
    "starJump0 = read_folders('Star_Jumps')"
   ]
  },
  {
   "cell_type": "code",
   "execution_count": 22,
   "metadata": {},
   "outputs": [],
   "source": [
    "chest0 = read_folders('Chests')"
   ]
  },
  {
   "cell_type": "code",
   "execution_count": 23,
   "metadata": {},
   "outputs": [],
   "source": [
    "punch0 = read_folders('Punches')"
   ]
  },
  {
   "cell_type": "code",
   "execution_count": null,
   "metadata": {},
   "outputs": [],
   "source": []
  },
  {
   "cell_type": "code",
   "execution_count": 24,
   "metadata": {},
   "outputs": [],
   "source": [
    "ds2_data = readJson('Re-identified jsons/DS1.json')\n",
    "ds3_data = readJson('Re-identified jsons/DS2.json')\n",
    "ds4_data = readJson('Re-identified jsons/DS3.json')"
   ]
  },
  {
   "cell_type": "code",
   "execution_count": 25,
   "metadata": {},
   "outputs": [],
   "source": [
    "squat1, arm1 = section_separator(ds2_data, 135, 800)\n",
    "arm2, squat2 = section_separator(ds2_data, 1230, 1910)\n",
    "squat3, arm3 = section_separator(ds2_data, 2700, 3350)\n",
    "arm4, squat4 = section_separator(ds2_data, 3600, 4280)"
   ]
  },
  {
   "cell_type": "code",
   "execution_count": 26,
   "metadata": {},
   "outputs": [],
   "source": [
    "squat5, arm5 = section_separator(ds3_data, 210, 930)\n",
    "arm6, squat6 = section_separator(ds3_data, 1250, 1990)\n",
    "squat7, arm7 = section_separator(ds3_data, 2330, 2980)\n",
    "arm8, squat8 = section_separator(ds3_data, 3725, 4350)\n",
    "squat9, arm9 = section_separator(ds3_data, 4585, 5325)"
   ]
  },
  {
   "cell_type": "code",
   "execution_count": 27,
   "metadata": {},
   "outputs": [],
   "source": [
    "squat10, starJump1 = section_separator(ds4_data, 210, 980)\n",
    "starJump2, squat11 = section_separator(ds4_data, 1430, 2210)\n",
    "squat12, starJump3 = section_separator(ds4_data, 2550, 3330)\n",
    "starJump4, squat13 = section_separator(ds4_data, 3580, 4370)"
   ]
  },
  {
   "cell_type": "code",
   "execution_count": 28,
   "metadata": {},
   "outputs": [],
   "source": [
    "arms_rescale = {}\n",
    "squats_rescale = {}\n",
    "starJumps_rescale = {}"
   ]
  },
  {
   "cell_type": "code",
   "execution_count": 29,
   "metadata": {
    "scrolled": true
   },
   "outputs": [],
   "source": [
    "arms_rescale[0] = rescale(arm1)\n",
    "arms_rescale[1] = rescale(arm2)\n",
    "arms_rescale[2] = rescale(arm3)\n",
    "arms_rescale[3] = rescale(arm4)\n",
    "arms_rescale[4] = rescale(arm5)\n",
    "arms_rescale[5] = rescale(arm6)\n",
    "arms_rescale[6] = rescale(arm7)\n",
    "arms_rescale[7] = rescale(arm8)\n",
    "arms_rescale[8] = rescale(arm9)\n",
    "squats_rescale[0] = rescale(squat1)\n",
    "squats_rescale[1] = rescale(squat2)\n",
    "squats_rescale[2] = rescale(squat3)\n",
    "squats_rescale[3] = rescale(squat4)\n",
    "squats_rescale[4] = rescale(squat5)\n",
    "squats_rescale[5] = rescale(squat6)\n",
    "squats_rescale[6] = rescale(squat7)\n",
    "squats_rescale[7] = rescale(squat8)\n",
    "squats_rescale[8] = rescale(squat9)\n",
    "squats_rescale[9] = rescale(squat10)\n",
    "squats_rescale[10] = rescale(squat11)\n",
    "squats_rescale[11] = rescale(squat12)\n",
    "squats_rescale[12] = rescale(squat13)\n",
    "starJumps_rescale[0] = rescale(starJump1)\n",
    "starJumps_rescale[1] = rescale(starJump2)\n",
    "starJumps_rescale[2] = rescale(starJump3)\n",
    "starJumps_rescale[3] = rescale(starJump4)"
   ]
  },
  {
   "cell_type": "code",
   "execution_count": 30,
   "metadata": {},
   "outputs": [],
   "source": [
    "for i in range(0, 9):\n",
    "    arm0 = merge(arm0, arms_rescale[i])"
   ]
  },
  {
   "cell_type": "code",
   "execution_count": 31,
   "metadata": {},
   "outputs": [],
   "source": [
    "for i in range(0, 13):\n",
    "    squats0 = merge(squats0, squats_rescale[i])"
   ]
  },
  {
   "cell_type": "code",
   "execution_count": 32,
   "metadata": {},
   "outputs": [],
   "source": [
    "for i in range(0, 4):\n",
    "    starJump0 = merge(starJump0, starJumps_rescale[i])"
   ]
  },
  {
   "cell_type": "code",
   "execution_count": 33,
   "metadata": {},
   "outputs": [],
   "source": [
    "arm_size = len(arm0[list(arm0.keys())[0]])"
   ]
  },
  {
   "cell_type": "code",
   "execution_count": 34,
   "metadata": {},
   "outputs": [],
   "source": [
    "squat_size = len(squats0[list(squats0.keys())[0]])"
   ]
  },
  {
   "cell_type": "code",
   "execution_count": 35,
   "metadata": {},
   "outputs": [],
   "source": [
    "starJump_size = len(starJump0[list(starJump0.keys())[0]])"
   ]
  },
  {
   "cell_type": "code",
   "execution_count": 36,
   "metadata": {},
   "outputs": [],
   "source": [
    "chest_size = len(chest0[list(chest0.keys())[0]])"
   ]
  },
  {
   "cell_type": "code",
   "execution_count": 37,
   "metadata": {},
   "outputs": [],
   "source": [
    "punch_size = len(punch0[list(punch0.keys())[0]])"
   ]
  },
  {
   "cell_type": "code",
   "execution_count": 38,
   "metadata": {},
   "outputs": [],
   "source": [
    "arms = dicToList(arm0)"
   ]
  },
  {
   "cell_type": "code",
   "execution_count": 39,
   "metadata": {},
   "outputs": [],
   "source": [
    "squats = dicToList(squats0)"
   ]
  },
  {
   "cell_type": "code",
   "execution_count": 40,
   "metadata": {},
   "outputs": [],
   "source": [
    "starJumps = dicToList(starJump0)"
   ]
  },
  {
   "cell_type": "code",
   "execution_count": 41,
   "metadata": {},
   "outputs": [],
   "source": [
    "chests = dicToList(chest0)"
   ]
  },
  {
   "cell_type": "code",
   "execution_count": 42,
   "metadata": {},
   "outputs": [],
   "source": [
    "punches = dicToList(punch0)"
   ]
  },
  {
   "cell_type": "code",
   "execution_count": 43,
   "metadata": {},
   "outputs": [
    {
     "name": "stdout",
     "output_type": "stream",
     "text": [
      "(18219000, 2)\n",
      "(15632525, 2)\n",
      "(27334875, 2)\n",
      "(15164125, 2)\n",
      "(18871150, 2)\n"
     ]
    }
   ],
   "source": [
    "print(arms.shape)\n",
    "print(squats.shape)\n",
    "print(starJumps.shape)\n",
    "print(chests.shape)\n",
    "print(punches.shape)"
   ]
  },
  {
   "cell_type": "code",
   "execution_count": 44,
   "metadata": {},
   "outputs": [
    {
     "name": "stdout",
     "output_type": "stream",
     "text": [
      "(728760, 50)\n"
     ]
    }
   ],
   "source": [
    "arms_shape = arms.reshape(arm_size, 50)\n",
    "print(arms_shape.shape)"
   ]
  },
  {
   "cell_type": "code",
   "execution_count": 45,
   "metadata": {},
   "outputs": [
    {
     "name": "stdout",
     "output_type": "stream",
     "text": [
      "(625301, 50)\n"
     ]
    }
   ],
   "source": [
    "squats_shape = squats.reshape(squat_size, 50)\n",
    "print(squats_shape.shape)"
   ]
  },
  {
   "cell_type": "code",
   "execution_count": 46,
   "metadata": {},
   "outputs": [
    {
     "name": "stdout",
     "output_type": "stream",
     "text": [
      "(1093395, 50)\n"
     ]
    }
   ],
   "source": [
    "starJumps_shape = starJumps.reshape(starJump_size, 50)\n",
    "print(starJumps_shape.shape)"
   ]
  },
  {
   "cell_type": "code",
   "execution_count": 47,
   "metadata": {},
   "outputs": [
    {
     "name": "stdout",
     "output_type": "stream",
     "text": [
      "(606565, 50)\n"
     ]
    }
   ],
   "source": [
    "chests_shape = chests.reshape(chest_size, 50)\n",
    "print(chests_shape.shape)"
   ]
  },
  {
   "cell_type": "code",
   "execution_count": 48,
   "metadata": {},
   "outputs": [
    {
     "name": "stdout",
     "output_type": "stream",
     "text": [
      "(754846, 50)\n"
     ]
    }
   ],
   "source": [
    "punches_shape = punches.reshape(punch_size,50)\n",
    "print(punches_shape.shape)"
   ]
  },
  {
   "cell_type": "code",
   "execution_count": 49,
   "metadata": {},
   "outputs": [
    {
     "name": "stdout",
     "output_type": "stream",
     "text": [
      "(728760, 50)\n",
      "(625290, 50)\n",
      "(1093380, 50)\n",
      "(606540, 50)\n",
      "(754830, 50)\n"
     ]
    }
   ],
   "source": [
    "if len(arms_shape) % 30 != 0:\n",
    "    arms_shape = arms_shape[:-(len(arms_shape) % 30), :]\n",
    "\n",
    "if len(squats_shape) % 30 != 0:\n",
    "    squats_shape = squats_shape[:-(len(squats_shape) % 30), :]\n",
    "    \n",
    "if len(starJumps_shape) % 30 != 0:\n",
    "    starJumps_shape = starJumps_shape[:-(len(starJumps_shape) % 30), :]\n",
    "\n",
    "if len(chests_shape) % 30 != 0:\n",
    "    chests_shape = chests_shape[:-(len(chests_shape) % 30), :]\n",
    "\n",
    "if len(punches_shape) % 30 != 0:\n",
    "    punches_shape = punches_shape[:-(len(punches_shape) % 30), :]\n",
    "\n",
    "print(arms_shape.shape)\n",
    "print(squats_shape.shape)\n",
    "print(starJumps_shape.shape)\n",
    "print(chests_shape.shape)\n",
    "print(punches_shape.shape)"
   ]
  },
  {
   "cell_type": "code",
   "execution_count": 50,
   "metadata": {},
   "outputs": [
    {
     "name": "stdout",
     "output_type": "stream",
     "text": [
      "(24292, 30, 50, 1)\n"
     ]
    }
   ],
   "source": [
    "final_arm = arms_shape.reshape(int(len(arms_shape) / 30), 30, 50, 1)\n",
    "print(final_arm.shape)"
   ]
  },
  {
   "cell_type": "code",
   "execution_count": 51,
   "metadata": {},
   "outputs": [
    {
     "name": "stdout",
     "output_type": "stream",
     "text": [
      "(20843, 30, 50, 1)\n"
     ]
    }
   ],
   "source": [
    "final_squats = squats_shape.reshape(int(len(squats_shape)/30), 30, 50, 1)\n",
    "print(final_squats.shape)"
   ]
  },
  {
   "cell_type": "code",
   "execution_count": 52,
   "metadata": {},
   "outputs": [
    {
     "name": "stdout",
     "output_type": "stream",
     "text": [
      "(36446, 30, 50, 1)\n"
     ]
    }
   ],
   "source": [
    "final_starJumps = starJumps_shape.reshape(int(len(starJumps_shape)/30), 30, 50, 1)\n",
    "print(final_starJumps.shape)"
   ]
  },
  {
   "cell_type": "code",
   "execution_count": 53,
   "metadata": {},
   "outputs": [
    {
     "name": "stdout",
     "output_type": "stream",
     "text": [
      "(20218, 30, 50, 1)\n"
     ]
    }
   ],
   "source": [
    "final_chests = chests_shape.reshape(int(len(chests_shape)/30), 30, 50, 1)\n",
    "print(final_chests.shape) "
   ]
  },
  {
   "cell_type": "code",
   "execution_count": 54,
   "metadata": {},
   "outputs": [
    {
     "name": "stdout",
     "output_type": "stream",
     "text": [
      "(25161, 30, 50, 1)\n"
     ]
    }
   ],
   "source": [
    "final_punches = punches_shape.reshape(int(len(punches_shape)/30), 30, 50, 1)\n",
    "print(final_punches.shape)"
   ]
  },
  {
   "cell_type": "code",
   "execution_count": 55,
   "metadata": {},
   "outputs": [
    {
     "name": "stdout",
     "output_type": "stream",
     "text": [
      "(126960,)\n"
     ]
    }
   ],
   "source": [
    "label = np.array([])\n",
    "\n",
    "for i in range(int(len(arms_shape) / 30)):\n",
    "    label = np.append(label, 0)\n",
    "\n",
    "for i in range(int(len(squats_shape)/30)):\n",
    "    label = np.append(label, 1)\n",
    "    \n",
    "for i in range(int(len(starJumps_shape)/30)):\n",
    "    label = np.append(label, 2)\n",
    "    \n",
    "for i in range(int(len(chests_shape)/30)):\n",
    "    label = np.append(label, 3)\n",
    "\n",
    "for i in range(int(len(punches_shape)/30)):\n",
    "    label = np.append(label, 4)\n",
    "    \n",
    "print(label.shape)\n",
    "    "
   ]
  },
  {
   "cell_type": "code",
   "execution_count": 56,
   "metadata": {},
   "outputs": [],
   "source": [
    "x_data = np.concatenate((final_arm, final_squats, final_starJumps, final_chests, final_punches))"
   ]
  },
  {
   "cell_type": "code",
   "execution_count": 57,
   "metadata": {},
   "outputs": [
    {
     "data": {
      "text/plain": [
       "(126960, 30, 50, 1)"
      ]
     },
     "execution_count": 57,
     "metadata": {},
     "output_type": "execute_result"
    }
   ],
   "source": [
    "x_data.shape"
   ]
  },
  {
   "cell_type": "code",
   "execution_count": 58,
   "metadata": {},
   "outputs": [],
   "source": [
    "label = label.reshape((int(len(arms_shape) / 30)) + (int(len(squats_shape) / 30)) + (int(len(starJumps_shape) / 30)) + (int(len(chests_shape)/30)) + (int(len(punches_shape)/30)), 1)"
   ]
  },
  {
   "cell_type": "code",
   "execution_count": 59,
   "metadata": {},
   "outputs": [
    {
     "data": {
      "text/plain": [
       "(126960, 1)"
      ]
     },
     "execution_count": 59,
     "metadata": {},
     "output_type": "execute_result"
    }
   ],
   "source": [
    "label.shape"
   ]
  },
  {
   "cell_type": "code",
   "execution_count": 60,
   "metadata": {},
   "outputs": [],
   "source": [
    "X_train, X_test, y_train, y_test = train_test_split(x_data, label, test_size = 0.3, random_state = 101 )"
   ]
  },
  {
   "cell_type": "code",
   "execution_count": 61,
   "metadata": {},
   "outputs": [],
   "source": [
    "y_train = to_categorical(y_train)\n",
    "y_test = to_categorical(y_test)"
   ]
  },
  {
   "cell_type": "code",
   "execution_count": 62,
   "metadata": {},
   "outputs": [
    {
     "data": {
      "text/plain": [
       "(88872, 30, 50, 1)"
      ]
     },
     "execution_count": 62,
     "metadata": {},
     "output_type": "execute_result"
    }
   ],
   "source": [
    "X_train.shape"
   ]
  },
  {
   "cell_type": "code",
   "execution_count": 63,
   "metadata": {},
   "outputs": [
    {
     "name": "stdout",
     "output_type": "stream",
     "text": [
      "WARNING:tensorflow:From /home/davidshin/anaconda3/envs/tensorflow/lib/python3.6/site-packages/tensorflow/python/framework/op_def_library.py:263: colocate_with (from tensorflow.python.framework.ops) is deprecated and will be removed in a future version.\n",
      "Instructions for updating:\n",
      "Colocations handled automatically by placer.\n",
      "WARNING:tensorflow:From /home/davidshin/anaconda3/envs/tensorflow/lib/python3.6/site-packages/keras/backend/tensorflow_backend.py:3445: calling dropout (from tensorflow.python.ops.nn_ops) with keep_prob is deprecated and will be removed in a future version.\n",
      "Instructions for updating:\n",
      "Please use `rate` instead of `keep_prob`. Rate should be set to `rate = 1 - keep_prob`.\n"
     ]
    }
   ],
   "source": [
    "model = Sequential()\n",
    "model.add(Conv2D(64, kernel_size = 5, activation = 'relu', input_shape = (30, 50, 1)))\n",
    "\n",
    "model.add(ZeroPadding2D((1,1)))\n",
    "model.add(Dropout(0.2))\n",
    "model.add(Conv2D(32, kernel_size = 4, activation = 'relu'))\n",
    "\n",
    "model.add(ZeroPadding2D((1,1)))\n",
    "model.add(Dropout(0.2))\n",
    "model.add(Conv2D(16, kernel_size = 3, activation = 'relu'))\n",
    "\n",
    "model.add(ZeroPadding2D((1,1)))\n",
    "model.add(Dropout(0.2))\n",
    "model.add(MaxPooling2D(pool_size = (8,8), strides = (3,3)))\n",
    "model.add(Flatten())\n",
    "model.add(Dense(5, activation='softmax'))\n",
    "\n",
    "tensorboard = TensorBoard(log_dir='log/{}'.format(time()))"
   ]
  },
  {
   "cell_type": "code",
   "execution_count": 64,
   "metadata": {},
   "outputs": [],
   "source": [
    "model.compile(optimizer = Adam(lr = 0.001), loss='categorical_crossentropy', metrics=['accuracy'])"
   ]
  },
  {
   "cell_type": "code",
   "execution_count": 65,
   "metadata": {
    "scrolled": true
   },
   "outputs": [
    {
     "name": "stdout",
     "output_type": "stream",
     "text": [
      "WARNING:tensorflow:From /home/davidshin/anaconda3/envs/tensorflow/lib/python3.6/site-packages/tensorflow/python/ops/math_ops.py:3066: to_int32 (from tensorflow.python.ops.math_ops) is deprecated and will be removed in a future version.\n",
      "Instructions for updating:\n",
      "Use tf.cast instead.\n"
     ]
    },
    {
     "data": {
      "text/plain": [
       "<keras.callbacks.History at 0x7f37ae1b2b00>"
      ]
     },
     "execution_count": 65,
     "metadata": {},
     "output_type": "execute_result"
    }
   ],
   "source": [
    "model.fit(X_train, y_train, validation_data =(X_test, y_test), epochs=100, callbacks=[tensorboard], verbose=False)"
   ]
  },
  {
   "cell_type": "code",
   "execution_count": 66,
   "metadata": {},
   "outputs": [],
   "source": [
    "model.save('model/Exercise_Classification_Pooling_Dropout_0.2.h5')"
   ]
  },
  {
   "cell_type": "code",
   "execution_count": 67,
   "metadata": {},
   "outputs": [],
   "source": [
    "del model"
   ]
  },
  {
   "cell_type": "code",
   "execution_count": null,
   "metadata": {},
   "outputs": [],
   "source": []
  }
 ],
 "metadata": {
  "kernelspec": {
   "display_name": "Python 3",
   "language": "python",
   "name": "python3"
  },
  "language_info": {
   "codemirror_mode": {
    "name": "ipython",
    "version": 3
   },
   "file_extension": ".py",
   "mimetype": "text/x-python",
   "name": "python",
   "nbconvert_exporter": "python",
   "pygments_lexer": "ipython3",
   "version": "3.6.8"
  }
 },
 "nbformat": 4,
 "nbformat_minor": 2
}
